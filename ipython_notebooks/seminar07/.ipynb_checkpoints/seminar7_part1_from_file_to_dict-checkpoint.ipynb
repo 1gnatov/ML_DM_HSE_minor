{
 "cells": [
  {
   "cell_type": "markdown",
   "metadata": {},
   "source": [
    "# Майнор \"Интеллектуальный анализ данных\" \n",
    "# Курс \"Введение в программирование\"\n",
    "<img src=\"../img/faculty_logo.jpg\" height=\"240\" width=\"240\">\n",
    "## Автор материала: преподаватель ФКН НИУ ВШЭ Кашницкий Юрий\n",
    "Материал распространяется на условиях лицензии <a href=\"http://creativecommons.org/licenses/by-sa/4.0/\">Creative Commons Attribution-Share Alike 4.0</a>. Можно использовать в любых целях, но с обязательным упоминанием автора курса и аффилиации."
   ]
  },
  {
   "cell_type": "markdown",
   "metadata": {},
   "source": [
    "# Семинар 7. Файлы. Примеры хорошего и плохого стилей программирования. Стандарты PEP-8 и PEP-257\n",
    "\n",
    "## Часть 1. Пример чтения данных из файла в словарь"
   ]
  },
  {
   "cell_type": "code",
   "execution_count": 1,
   "metadata": {
    "collapsed": false
   },
   "outputs": [
    {
     "name": "stdout",
     "output_type": "stream",
     "text": [
      "['lastname,age,debt,occupation']\n",
      "['Adrianov,25,30000,artist']\n",
      "['Belkin,42,4000,programmer']\n",
      "['Koltunov,32,100,sportsman']\n",
      "['Loptev,25,30000,artist']\n",
      "['Bobrov,42,4000,programmer']\n",
      "['Karelin,32,100,sportsman']\n"
     ]
    }
   ],
   "source": [
    "credit_history_file = open('../data/credit_sample.txt', 'r')\n",
    "for line in credit_history_file:\n",
    "    line = line.strip().split(\", \")\n",
    "    print(line)"
   ]
  },
  {
   "cell_type": "code",
   "execution_count": 2,
   "metadata": {
    "collapsed": false
   },
   "outputs": [
    {
     "ename": "ValueError",
     "evalue": "invalid literal for int() with base 10: 'age'",
     "output_type": "error",
     "traceback": [
      "\u001b[0;31m---------------------------------------------------------------------------\u001b[0m",
      "\u001b[0;31mValueError\u001b[0m                                Traceback (most recent call last)",
      "\u001b[0;32m<ipython-input-2-4d378b80aefb>\u001b[0m in \u001b[0;36m<module>\u001b[0;34m()\u001b[0m\n\u001b[1;32m      5\u001b[0m \u001b[0;32mfor\u001b[0m \u001b[0mline\u001b[0m \u001b[0;32min\u001b[0m \u001b[0mcredit_history_file\u001b[0m\u001b[0;34m:\u001b[0m\u001b[0;34m\u001b[0m\u001b[0m\n\u001b[1;32m      6\u001b[0m     \u001b[0mlastname\u001b[0m\u001b[0;34m,\u001b[0m \u001b[0mage\u001b[0m\u001b[0;34m,\u001b[0m \u001b[0mdebt\u001b[0m\u001b[0;34m,\u001b[0m \u001b[0moccupation\u001b[0m \u001b[0;34m=\u001b[0m \u001b[0mline\u001b[0m\u001b[0;34m.\u001b[0m\u001b[0mstrip\u001b[0m\u001b[0;34m(\u001b[0m\u001b[0;34m)\u001b[0m\u001b[0;34m.\u001b[0m\u001b[0msplit\u001b[0m\u001b[0;34m(\u001b[0m\u001b[0;34m\",\"\u001b[0m\u001b[0;34m)\u001b[0m\u001b[0;34m\u001b[0m\u001b[0m\n\u001b[0;32m----> 7\u001b[0;31m     credit_history_dict[lastname] = (int(age), \n\u001b[0m\u001b[1;32m      8\u001b[0m                                      \u001b[0mint\u001b[0m\u001b[0;34m(\u001b[0m\u001b[0mdebt\u001b[0m\u001b[0;34m)\u001b[0m\u001b[0;34m,\u001b[0m\u001b[0;34m\u001b[0m\u001b[0m\n\u001b[1;32m      9\u001b[0m                                      occupation) \n",
      "\u001b[0;31mValueError\u001b[0m: invalid literal for int() with base 10: 'age'"
     ]
    }
   ],
   "source": [
    "credit_history_file = open('../data/credit_sample.txt', 'r')\n",
    "\n",
    "credit_history_dict = {}\n",
    "\n",
    "for line in credit_history_file:\n",
    "    lastname, age, debt, occupation = line.strip().split(\",\")\n",
    "    credit_history_dict[lastname] = (int(age), \n",
    "                                     int(debt), \n",
    "                                     occupation) \n",
    "print(credit_history_dict)\n",
    "    \n",
    "# adding clients by hand\n",
    "# Markin,34,500,journalist\n",
    "line = ''\n",
    "while(line != 'quit'):\n",
    "    line = input().strip()\n",
    "    if line == 'quit':\n",
    "        break\n",
    "    else:   # line != 'quit' \n",
    "        lastname, age, debt, occupatio = line.split(\",\") \n",
    "        print(age)\n",
    "        credit_history_dict[lastname] = (int(age), \n",
    "                                     int(debt), \n",
    "                                     occupation)\n",
    "print(credit_history_dict)  "
   ]
  },
  {
   "cell_type": "code",
   "execution_count": null,
   "metadata": {
    "collapsed": true
   },
   "outputs": [],
   "source": []
  }
 ],
 "metadata": {
  "kernelspec": {
   "display_name": "Python 3",
   "language": "python",
   "name": "python3"
  },
  "language_info": {
   "codemirror_mode": {
    "name": "ipython",
    "version": 3
   },
   "file_extension": ".py",
   "mimetype": "text/x-python",
   "name": "python",
   "nbconvert_exporter": "python",
   "pygments_lexer": "ipython3",
   "version": "3.4.3"
  },
  "name": "from_file_to_dict.ipynb"
 },
 "nbformat": 4,
 "nbformat_minor": 0
}
