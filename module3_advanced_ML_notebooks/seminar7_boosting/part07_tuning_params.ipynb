{
 "cells": [
  {
   "cell_type": "markdown",
   "metadata": {},
   "source": [
    "<center>\n",
    "<img src=\"../../img/ml_theme.png\">\n",
    "# Майнор \"Интеллектуальный анализ данных\" \n",
    "# Курс \"Современные методы машинного обучения\"\n",
    "<img src=\"../../img/faculty_logo.jpg\" height=\"240\" width=\"240\">\n",
    "## Автор материала: преподаватель ФКН НИУ ВШЭ <br> Кашницкий Юрий\n",
    "</center>\n",
    "Материал распространяется на условиях лицензии <a href=\"http://www.microsoft.com/en-us/openness/default.aspx#Ms-RL\">Ms-RL</a>. Можно использовать в любых целях, но с обязательным упоминанием автора курса и аффилиации."
   ]
  },
  {
   "cell_type": "markdown",
   "metadata": {},
   "source": [
    "# <center>Занятие 7. Продвинутые методы классификации и регрессии</center>\n",
    "## <center>Часть 7. Настройка гиперпараметров Xgboost. Библиотека Hyperopt</center>"
   ]
  },
  {
   "cell_type": "code",
   "execution_count": 33,
   "metadata": {
    "collapsed": true
   },
   "outputs": [],
   "source": [
    "import numpy as np\n",
    "\n",
    "from xgboost.sklearn import XGBClassifier\n",
    "import xgboost as xgb\n",
    "from sklearn.grid_search import GridSearchCV, RandomizedSearchCV\n",
    "from sklearn.datasets import make_classification\n",
    "from sklearn.cross_validation import StratifiedKFold, train_test_split\n",
    "from sklearn.metrics import log_loss\n",
    "from hyperopt import fmin, hp, tpe, STATUS_OK, Trials\n",
    "\n",
    "from scipy.stats import randint, uniform"
   ]
  },
  {
   "cell_type": "markdown",
   "metadata": {},
   "source": [
    "**Генерируем синтетические данные.**"
   ]
  },
  {
   "cell_type": "code",
   "execution_count": 3,
   "metadata": {
    "collapsed": false
   },
   "outputs": [],
   "source": [
    "X, y = make_classification(n_samples=1000, n_features=20, n_informative=8, n_redundant=3, \n",
    "                           n_repeated=2, random_state=42)"
   ]
  },
  {
   "cell_type": "markdown",
   "metadata": {},
   "source": [
    "**Будем проводить 10-кратную стратифицированную кросс-валидацию.**"
   ]
  },
  {
   "cell_type": "code",
   "execution_count": 4,
   "metadata": {
    "collapsed": true
   },
   "outputs": [],
   "source": [
    "cv = StratifiedKFold(y, n_folds=10, shuffle=True, random_state=42)"
   ]
  },
  {
   "cell_type": "markdown",
   "metadata": {},
   "source": [
    "### Grid-Search"
   ]
  },
  {
   "cell_type": "code",
   "execution_count": 5,
   "metadata": {
    "collapsed": false
   },
   "outputs": [],
   "source": [
    "params_grid = {\n",
    "    'max_depth': [1, 2, 3],\n",
    "    'n_estimators': [5, 10, 25, 50],\n",
    "    'learning_rate': np.linspace(1e-16, 1, 3)\n",
    "}"
   ]
  },
  {
   "cell_type": "markdown",
   "metadata": {},
   "source": [
    "**Инициализируем отдельно словарь фиксированных параметров.**"
   ]
  },
  {
   "cell_type": "code",
   "execution_count": 6,
   "metadata": {
    "collapsed": true
   },
   "outputs": [],
   "source": [
    "params_fixed = {\n",
    "    'objective': 'binary:logistic',\n",
    "    'silent': 1,\n",
    "    'seed': 42\n",
    "}"
   ]
  },
  {
   "cell_type": "code",
   "execution_count": 11,
   "metadata": {
    "collapsed": false
   },
   "outputs": [],
   "source": [
    "xgb_grid = GridSearchCV(\n",
    "    estimator=XGBClassifier(**params_fixed),\n",
    "    param_grid=params_grid,\n",
    "    cv=cv,\n",
    "    scoring='accuracy',\n",
    "    n_jobs=-1\n",
    ")"
   ]
  },
  {
   "cell_type": "code",
   "execution_count": 18,
   "metadata": {
    "collapsed": false
   },
   "outputs": [
    {
     "name": "stdout",
     "output_type": "stream",
     "text": [
      "CPU times: user 1.64 s, sys: 171 ms, total: 1.82 s\n",
      "Wall time: 4.87 s\n"
     ]
    },
    {
     "data": {
      "text/plain": [
       "GridSearchCV(cv=sklearn.cross_validation.StratifiedKFold(labels=[1 0 ..., 1 0], n_folds=10, shuffle=True, random_state=42),\n",
       "       error_score='raise',\n",
       "       estimator=XGBClassifier(base_score=0.5, colsample_bylevel=1, colsample_bytree=1,\n",
       "       gamma=0, learning_rate=0.1, max_delta_step=0, max_depth=3,\n",
       "       min_child_weight=1, missing=None, n_estimators=100, nthread=-1,\n",
       "       objective='binary:logistic', reg_alpha=0, reg_lambda=1,\n",
       "       scale_pos_weight=1, seed=0, silent=1, subsample=1),\n",
       "       fit_params={}, iid=True, n_jobs=-1,\n",
       "       param_grid={'n_estimators': [5, 10, 25, 50], 'learning_rate': array([  1.00000e-16,   5.00000e-01,   1.00000e+00]), 'max_depth': [1, 2, 3]},\n",
       "       pre_dispatch='2*n_jobs', refit=True, scoring='accuracy', verbose=0)"
      ]
     },
     "execution_count": 18,
     "metadata": {},
     "output_type": "execute_result"
    }
   ],
   "source": [
    "%%time\n",
    "xgb_grid.fit(X, y)"
   ]
  },
  {
   "cell_type": "markdown",
   "metadata": {},
   "source": [
    "**C помощью grid_scores можно строить кривые валидации.**"
   ]
  },
  {
   "cell_type": "code",
   "execution_count": 13,
   "metadata": {
    "collapsed": false
   },
   "outputs": [
    {
     "data": {
      "text/plain": [
       "[mean: 0.49800, std: 0.00245, params: {'n_estimators': 5, 'learning_rate': 9.9999999999999998e-17, 'max_depth': 1},\n",
       " mean: 0.49800, std: 0.00245, params: {'n_estimators': 10, 'learning_rate': 9.9999999999999998e-17, 'max_depth': 1},\n",
       " mean: 0.49800, std: 0.00245, params: {'n_estimators': 25, 'learning_rate': 9.9999999999999998e-17, 'max_depth': 1},\n",
       " mean: 0.49800, std: 0.00245, params: {'n_estimators': 50, 'learning_rate': 9.9999999999999998e-17, 'max_depth': 1},\n",
       " mean: 0.49800, std: 0.00245, params: {'n_estimators': 5, 'learning_rate': 9.9999999999999998e-17, 'max_depth': 2},\n",
       " mean: 0.49800, std: 0.00245, params: {'n_estimators': 10, 'learning_rate': 9.9999999999999998e-17, 'max_depth': 2},\n",
       " mean: 0.49800, std: 0.00245, params: {'n_estimators': 25, 'learning_rate': 9.9999999999999998e-17, 'max_depth': 2},\n",
       " mean: 0.49800, std: 0.00245, params: {'n_estimators': 50, 'learning_rate': 9.9999999999999998e-17, 'max_depth': 2},\n",
       " mean: 0.49800, std: 0.00245, params: {'n_estimators': 5, 'learning_rate': 9.9999999999999998e-17, 'max_depth': 3},\n",
       " mean: 0.49800, std: 0.00245, params: {'n_estimators': 10, 'learning_rate': 9.9999999999999998e-17, 'max_depth': 3},\n",
       " mean: 0.49800, std: 0.00245, params: {'n_estimators': 25, 'learning_rate': 9.9999999999999998e-17, 'max_depth': 3},\n",
       " mean: 0.49800, std: 0.00245, params: {'n_estimators': 50, 'learning_rate': 9.9999999999999998e-17, 'max_depth': 3},\n",
       " mean: 0.75600, std: 0.03463, params: {'n_estimators': 5, 'learning_rate': 0.5, 'max_depth': 1},\n",
       " mean: 0.78700, std: 0.04117, params: {'n_estimators': 10, 'learning_rate': 0.5, 'max_depth': 1},\n",
       " mean: 0.80600, std: 0.03867, params: {'n_estimators': 25, 'learning_rate': 0.5, 'max_depth': 1},\n",
       " mean: 0.81600, std: 0.03351, params: {'n_estimators': 50, 'learning_rate': 0.5, 'max_depth': 1},\n",
       " mean: 0.81400, std: 0.04321, params: {'n_estimators': 5, 'learning_rate': 0.5, 'max_depth': 2},\n",
       " mean: 0.83300, std: 0.03302, params: {'n_estimators': 10, 'learning_rate': 0.5, 'max_depth': 2},\n",
       " mean: 0.83900, std: 0.03885, params: {'n_estimators': 25, 'learning_rate': 0.5, 'max_depth': 2},\n",
       " mean: 0.85700, std: 0.01570, params: {'n_estimators': 50, 'learning_rate': 0.5, 'max_depth': 2},\n",
       " mean: 0.82200, std: 0.05227, params: {'n_estimators': 5, 'learning_rate': 0.5, 'max_depth': 3},\n",
       " mean: 0.86000, std: 0.03494, params: {'n_estimators': 10, 'learning_rate': 0.5, 'max_depth': 3},\n",
       " mean: 0.87900, std: 0.03315, params: {'n_estimators': 25, 'learning_rate': 0.5, 'max_depth': 3},\n",
       " mean: 0.88700, std: 0.03404, params: {'n_estimators': 50, 'learning_rate': 0.5, 'max_depth': 3},\n",
       " mean: 0.76200, std: 0.03997, params: {'n_estimators': 5, 'learning_rate': 1.0, 'max_depth': 1},\n",
       " mean: 0.78300, std: 0.02769, params: {'n_estimators': 10, 'learning_rate': 1.0, 'max_depth': 1},\n",
       " mean: 0.80900, std: 0.02766, params: {'n_estimators': 25, 'learning_rate': 1.0, 'max_depth': 1},\n",
       " mean: 0.80800, std: 0.03161, params: {'n_estimators': 50, 'learning_rate': 1.0, 'max_depth': 1},\n",
       " mean: 0.80800, std: 0.04530, params: {'n_estimators': 5, 'learning_rate': 1.0, 'max_depth': 2},\n",
       " mean: 0.83600, std: 0.02682, params: {'n_estimators': 10, 'learning_rate': 1.0, 'max_depth': 2},\n",
       " mean: 0.85100, std: 0.03000, params: {'n_estimators': 25, 'learning_rate': 1.0, 'max_depth': 2},\n",
       " mean: 0.85600, std: 0.03708, params: {'n_estimators': 50, 'learning_rate': 1.0, 'max_depth': 2},\n",
       " mean: 0.82500, std: 0.04325, params: {'n_estimators': 5, 'learning_rate': 1.0, 'max_depth': 3},\n",
       " mean: 0.84500, std: 0.03694, params: {'n_estimators': 10, 'learning_rate': 1.0, 'max_depth': 3},\n",
       " mean: 0.86900, std: 0.02373, params: {'n_estimators': 25, 'learning_rate': 1.0, 'max_depth': 3},\n",
       " mean: 0.87500, std: 0.03201, params: {'n_estimators': 50, 'learning_rate': 1.0, 'max_depth': 3}]"
      ]
     },
     "execution_count": 13,
     "metadata": {},
     "output_type": "execute_result"
    }
   ],
   "source": [
    "xgb_grid.grid_scores_"
   ]
  },
  {
   "cell_type": "markdown",
   "metadata": {},
   "source": [
    "**Или просто использовать лучшее сочетание параметров.**"
   ]
  },
  {
   "cell_type": "code",
   "execution_count": 16,
   "metadata": {
    "collapsed": false
   },
   "outputs": [
    {
     "name": "stdout",
     "output_type": "stream",
     "text": [
      "Best accuracy obtained: 0.887\n",
      "Parameters:\n",
      "\tn_estimators: 50\n",
      "\tlearning_rate: 0.5\n",
      "\tmax_depth: 3\n"
     ]
    }
   ],
   "source": [
    "print(\"Best accuracy obtained: {0}\".format(xgb_grid.best_score_))\n",
    "print(\"Parameters:\")\n",
    "for key, value in xgb_grid.best_params_.items():\n",
    "    print(\"\\t{}: {}\".format(key, value))"
   ]
  },
  {
   "cell_type": "markdown",
   "metadata": {},
   "source": [
    "### Randomized Grid-Search\n",
    "**Часто неплохо, а главное, намного быстрее, работает рандомизированная версия.\n",
    "Теперь создаем словарь с распределениями параметров:**"
   ]
  },
  {
   "cell_type": "code",
   "execution_count": 17,
   "metadata": {
    "collapsed": false
   },
   "outputs": [],
   "source": [
    "params_dist_grid = {\n",
    "    'max_depth': [1, 2, 3, 4],\n",
    "    'gamma': [0, 0.5, 1],\n",
    "    'n_estimators': randint(1, 1001), # uniform discrete random distribution\n",
    "    'learning_rate': uniform(), # gaussian distribution\n",
    "    'subsample': uniform(), # gaussian distribution\n",
    "    'colsample_bytree': uniform() # gaussian distribution\n",
    "}"
   ]
  },
  {
   "cell_type": "markdown",
   "metadata": {},
   "source": [
    "**Инициализируем `RandomizedSearchCV` так чтобы случайно выбрать 10 комбинаций параметров.**"
   ]
  },
  {
   "cell_type": "code",
   "execution_count": 19,
   "metadata": {
    "collapsed": false
   },
   "outputs": [],
   "source": [
    "rs_grid = RandomizedSearchCV(\n",
    "    estimator=XGBClassifier(**params_fixed),\n",
    "    param_distributions=params_dist_grid,\n",
    "    n_iter=10,\n",
    "    cv=cv,\n",
    "    scoring='accuracy',\n",
    "    random_state=42,\n",
    "    n_jobs=-1,\n",
    ")"
   ]
  },
  {
   "cell_type": "code",
   "execution_count": 20,
   "metadata": {
    "collapsed": false
   },
   "outputs": [
    {
     "name": "stdout",
     "output_type": "stream",
     "text": [
      "CPU times: user 1.25 s, sys: 99.3 ms, total: 1.35 s\n",
      "Wall time: 10.2 s\n"
     ]
    },
    {
     "data": {
      "text/plain": [
       "RandomizedSearchCV(cv=sklearn.cross_validation.StratifiedKFold(labels=[1 0 ..., 1 0], n_folds=10, shuffle=True, random_state=42),\n",
       "          error_score='raise',\n",
       "          estimator=XGBClassifier(base_score=0.5, colsample_bylevel=1, colsample_bytree=1,\n",
       "       gamma=0, learning_rate=0.1, max_delta_step=0, max_depth=3,\n",
       "       min_child_weight=1, missing=None, n_estimators=100, nthread=-1,\n",
       "       objective='binary:logistic', reg_alpha=0, reg_lambda=1,\n",
       "       scale_pos_weight=1, seed=0, silent=1, subsample=1),\n",
       "          fit_params={}, iid=True, n_iter=10, n_jobs=-1,\n",
       "          param_distributions={'colsample_bytree': <scipy.stats._distn_infrastructure.rv_frozen object at 0x113994b90>, 'learning_rate': <scipy.stats._distn_infrastructure.rv_frozen object at 0x11397ee90>, 'n_estimators': <scipy.stats._distn_infrastructure.rv_frozen object at 0x113af08d0>, 'subsample': <scipy.stats._distn_infrastructure.rv_frozen object at 0x1139941d0>, 'max_depth': [1, 2, 3, 4], 'gamma': [0, 0.5, 1]},\n",
       "          pre_dispatch='2*n_jobs', random_state=42, refit=True,\n",
       "          scoring='accuracy', verbose=0)"
      ]
     },
     "execution_count": 20,
     "metadata": {},
     "output_type": "execute_result"
    }
   ],
   "source": [
    "%%time\n",
    "rs_grid.fit(X, y)"
   ]
  },
  {
   "cell_type": "code",
   "execution_count": 21,
   "metadata": {
    "collapsed": false
   },
   "outputs": [
    {
     "data": {
      "text/plain": [
       "XGBClassifier(base_score=0.5, colsample_bylevel=1,\n",
       "       colsample_bytree=0.60528369922942848, gamma=1,\n",
       "       learning_rate=0.33413908269193104, max_delta_step=0, max_depth=4,\n",
       "       min_child_weight=1, missing=None, n_estimators=474, nthread=-1,\n",
       "       objective='binary:logistic', reg_alpha=0, reg_lambda=1,\n",
       "       scale_pos_weight=1, seed=0, silent=1, subsample=0.78878346510127606)"
      ]
     },
     "execution_count": 21,
     "metadata": {},
     "output_type": "execute_result"
    }
   ],
   "source": [
    "rs_grid.best_estimator_"
   ]
  },
  {
   "cell_type": "code",
   "execution_count": 22,
   "metadata": {
    "collapsed": false
   },
   "outputs": [
    {
     "data": {
      "text/plain": [
       "{'colsample_bytree': 0.60528369922942848,\n",
       " 'gamma': 1,\n",
       " 'learning_rate': 0.33413908269193104,\n",
       " 'max_depth': 4,\n",
       " 'n_estimators': 474,\n",
       " 'subsample': 0.78878346510127606}"
      ]
     },
     "execution_count": 22,
     "metadata": {},
     "output_type": "execute_result"
    }
   ],
   "source": [
    "rs_grid.best_params_"
   ]
  },
  {
   "cell_type": "code",
   "execution_count": 23,
   "metadata": {
    "collapsed": false
   },
   "outputs": [
    {
     "data": {
      "text/plain": [
       "0.88800000000000001"
      ]
     },
     "execution_count": 23,
     "metadata": {},
     "output_type": "execute_result"
    }
   ],
   "source": [
    "rs_grid.best_score_"
   ]
  },
  {
   "cell_type": "markdown",
   "metadata": {},
   "source": [
    "### Hyperopt\n",
    "**В библиотеке Hyperopt реализовано намного большее алгоритмов подбора параметров разных моделей. Будем настраивать, например, функцию log_loss по валидационной выборке.**"
   ]
  },
  {
   "cell_type": "code",
   "execution_count": 25,
   "metadata": {
    "collapsed": false
   },
   "outputs": [],
   "source": [
    "X_train, X_test, y_train, y_test = train_test_split(X, y,\n",
    "                                                    test_size=0.3, random_state=42)"
   ]
  },
  {
   "cell_type": "markdown",
   "metadata": {},
   "source": [
    "**Определим функцию, которую надо минимизировать.**"
   ]
  },
  {
   "cell_type": "code",
   "execution_count": 40,
   "metadata": {
    "collapsed": true
   },
   "outputs": [],
   "source": [
    "def score(params):\n",
    "    print(\"Training with params:\")\n",
    "    print(params)\n",
    "    num_round = int(params['n_estimators'])\n",
    "    del params['n_estimators']\n",
    "    dtrain = xgb.DMatrix(X_train, label=y_train)\n",
    "    dvalid = xgb.DMatrix(X_test, label=y_test)\n",
    "    model = xgb.train(params, dtrain, num_round)\n",
    "    predictions = model.predict(dvalid).reshape((X_test.shape[0], 1))\n",
    "    score = log_loss(y_test, predictions)\n",
    "    print(\"\\tScore {0}\\n\\n\".format(score))\n",
    "    return {'loss': score, 'status': STATUS_OK}"
   ]
  },
  {
   "cell_type": "code",
   "execution_count": 43,
   "metadata": {
    "collapsed": true
   },
   "outputs": [],
   "source": [
    "def optimize(trials):\n",
    "    space = {\n",
    "             'n_estimators' : 150,\n",
    "             'eta' : hp.quniform('eta', 0.025, 0.5, 0.025),\n",
    "             'max_depth' : hp.quniform('max_depth', 4, 10, 2),\n",
    "             'min_child_weight' : hp.quniform('min_child_weight', 1, 6, 1),\n",
    "             'subsample' : hp.quniform('subsample', 0.5, 1, 0.25),\n",
    "             'gamma' : 0,\n",
    "             'colsample_bytree' : hp.quniform('colsample_bytree', 0.5, 1, 0.25),\n",
    "             'eval_metric': 'merror',\n",
    "             'objective': 'binary:logistic',\n",
    "             'nthread' : 4,\n",
    "             'silent' : 1\n",
    "             }\n",
    "    best = fmin(score, space, algo=tpe.suggest, trials=trials, max_evals=20)\n",
    "\n",
    "    return best"
   ]
  },
  {
   "cell_type": "code",
   "execution_count": 45,
   "metadata": {
    "collapsed": false
   },
   "outputs": [
    {
     "name": "stdout",
     "output_type": "stream",
     "text": [
      "Training with params:\n",
      "{'colsample_bytree': 0.75, 'silent': 1, 'eval_metric': 'merror', 'nthread': 4, 'min_child_weight': 2.0, 'n_estimators': 150, 'subsample': 1.0, 'eta': 0.125, 'objective': 'binary:logistic', 'max_depth': 4.0, 'gamma': 0}\n",
      "\tScore 0.282255703456\n",
      "\n",
      "\n",
      "Training with params:\n",
      "{'colsample_bytree': 0.75, 'silent': 1, 'eval_metric': 'merror', 'nthread': 4, 'min_child_weight': 4.0, 'n_estimators': 150, 'subsample': 0.5, 'eta': 0.42500000000000004, 'objective': 'binary:logistic', 'max_depth': 6.0, 'gamma': 0}\n",
      "\tScore 0.367044530358\n",
      "\n",
      "\n",
      "Training with params:\n",
      "{'colsample_bytree': 0.5, 'silent': 1, 'eval_metric': 'merror', 'nthread': 4, 'min_child_weight': 6.0, 'n_estimators': 150, 'subsample': 1.0, 'eta': 0.1, 'objective': 'binary:logistic', 'max_depth': 6.0, 'gamma': 0}\n",
      "\tScore 0.294940195541\n",
      "\n",
      "\n",
      "Training with params:\n",
      "{'colsample_bytree': 1.0, 'silent': 1, 'eval_metric': 'merror', 'nthread': 4, 'min_child_weight': 2.0, 'n_estimators': 150, 'subsample': 0.5, 'eta': 0.4, 'objective': 'binary:logistic', 'max_depth': 6.0, 'gamma': 0}\n",
      "\tScore 0.385499991926\n",
      "\n",
      "\n",
      "Training with params:\n",
      "{'colsample_bytree': 0.5, 'silent': 1, 'eval_metric': 'merror', 'nthread': 4, 'min_child_weight': 5.0, 'n_estimators': 150, 'subsample': 0.75, 'eta': 0.225, 'objective': 'binary:logistic', 'max_depth': 6.0, 'gamma': 0}\n",
      "\tScore 0.348408942342\n",
      "\n",
      "\n",
      "Training with params:\n",
      "{'colsample_bytree': 0.75, 'silent': 1, 'eval_metric': 'merror', 'nthread': 4, 'min_child_weight': 3.0, 'n_estimators': 150, 'subsample': 0.75, 'eta': 0.05, 'objective': 'binary:logistic', 'max_depth': 8.0, 'gamma': 0}\n",
      "\tScore 0.282591014163\n",
      "\n",
      "\n",
      "Training with params:\n",
      "{'colsample_bytree': 0.5, 'silent': 1, 'eval_metric': 'merror', 'nthread': 4, 'min_child_weight': 6.0, 'n_estimators': 150, 'subsample': 0.75, 'eta': 0.2, 'objective': 'binary:logistic', 'max_depth': 6.0, 'gamma': 0}\n",
      "\tScore 0.344703681703\n",
      "\n",
      "\n",
      "Training with params:\n",
      "{'colsample_bytree': 0.5, 'silent': 1, 'eval_metric': 'merror', 'nthread': 4, 'min_child_weight': 3.0, 'n_estimators': 150, 'subsample': 0.75, 'eta': 0.45, 'objective': 'binary:logistic', 'max_depth': 6.0, 'gamma': 0}\n",
      "\tScore 0.346107172432\n",
      "\n",
      "\n",
      "Training with params:\n",
      "{'colsample_bytree': 0.5, 'silent': 1, 'eval_metric': 'merror', 'nthread': 4, 'min_child_weight': 3.0, 'n_estimators': 150, 'subsample': 0.75, 'eta': 0.17500000000000002, 'objective': 'binary:logistic', 'max_depth': 4.0, 'gamma': 0}\n",
      "\tScore 0.328382114647\n",
      "\n",
      "\n",
      "Training with params:\n",
      "{'colsample_bytree': 0.75, 'silent': 1, 'eval_metric': 'merror', 'nthread': 4, 'min_child_weight': 1.0, 'n_estimators': 150, 'subsample': 0.5, 'eta': 0.30000000000000004, 'objective': 'binary:logistic', 'max_depth': 8.0, 'gamma': 0}\n",
      "\tScore 0.366491402466\n",
      "\n",
      "\n",
      "Training with params:\n",
      "{'colsample_bytree': 0.75, 'silent': 1, 'eval_metric': 'merror', 'nthread': 4, 'min_child_weight': 3.0, 'n_estimators': 150, 'subsample': 0.75, 'eta': 0.275, 'objective': 'binary:logistic', 'max_depth': 6.0, 'gamma': 0}\n",
      "\tScore 0.300270553559\n",
      "\n",
      "\n",
      "Training with params:\n",
      "{'colsample_bytree': 1.0, 'silent': 1, 'eval_metric': 'merror', 'nthread': 4, 'min_child_weight': 3.0, 'n_estimators': 150, 'subsample': 0.5, 'eta': 0.35000000000000003, 'objective': 'binary:logistic', 'max_depth': 10.0, 'gamma': 0}\n",
      "\tScore 0.358005050904\n",
      "\n",
      "\n",
      "Training with params:\n",
      "{'colsample_bytree': 1.0, 'silent': 1, 'eval_metric': 'merror', 'nthread': 4, 'min_child_weight': 2.0, 'n_estimators': 150, 'subsample': 0.75, 'eta': 0.4, 'objective': 'binary:logistic', 'max_depth': 8.0, 'gamma': 0}\n",
      "\tScore 0.364007703397\n",
      "\n",
      "\n",
      "Training with params:\n",
      "{'colsample_bytree': 1.0, 'silent': 1, 'eval_metric': 'merror', 'nthread': 4, 'min_child_weight': 3.0, 'n_estimators': 150, 'subsample': 1.0, 'eta': 0.42500000000000004, 'objective': 'binary:logistic', 'max_depth': 8.0, 'gamma': 0}\n",
      "\tScore 0.309283114576\n",
      "\n",
      "\n",
      "Training with params:\n",
      "{'colsample_bytree': 0.5, 'silent': 1, 'eval_metric': 'merror', 'nthread': 4, 'min_child_weight': 6.0, 'n_estimators': 150, 'subsample': 1.0, 'eta': 0.47500000000000003, 'objective': 'binary:logistic', 'max_depth': 8.0, 'gamma': 0}\n",
      "\tScore 0.329299297371\n",
      "\n",
      "\n",
      "Training with params:\n",
      "{'colsample_bytree': 0.75, 'silent': 1, 'eval_metric': 'merror', 'nthread': 4, 'min_child_weight': 4.0, 'n_estimators': 150, 'subsample': 0.75, 'eta': 0.325, 'objective': 'binary:logistic', 'max_depth': 4.0, 'gamma': 0}\n",
      "\tScore 0.341873260792\n",
      "\n",
      "\n",
      "Training with params:\n",
      "{'colsample_bytree': 0.5, 'silent': 1, 'eval_metric': 'merror', 'nthread': 4, 'min_child_weight': 1.0, 'n_estimators': 150, 'subsample': 1.0, 'eta': 0.025, 'objective': 'binary:logistic', 'max_depth': 8.0, 'gamma': 0}\n",
      "\tScore 0.294979770997\n",
      "\n",
      "\n",
      "Training with params:\n",
      "{'colsample_bytree': 0.75, 'silent': 1, 'eval_metric': 'merror', 'nthread': 4, 'min_child_weight': 2.0, 'n_estimators': 150, 'subsample': 1.0, 'eta': 0.30000000000000004, 'objective': 'binary:logistic', 'max_depth': 8.0, 'gamma': 0}\n",
      "\tScore 0.3116857344\n",
      "\n",
      "\n",
      "Training with params:\n",
      "{'colsample_bytree': 0.75, 'silent': 1, 'eval_metric': 'merror', 'nthread': 4, 'min_child_weight': 2.0, 'n_estimators': 150, 'subsample': 0.75, 'eta': 0.275, 'objective': 'binary:logistic', 'max_depth': 8.0, 'gamma': 0}\n",
      "\tScore 0.321633830242\n",
      "\n",
      "\n",
      "Training with params:\n",
      "{'colsample_bytree': 0.75, 'silent': 1, 'eval_metric': 'merror', 'nthread': 4, 'min_child_weight': 6.0, 'n_estimators': 150, 'subsample': 1.0, 'eta': 0.5, 'objective': 'binary:logistic', 'max_depth': 4.0, 'gamma': 0}\n",
      "\tScore 0.354362800674\n",
      "\n",
      "\n",
      "{'subsample': 1.0, 'eta': 0.125, 'colsample_bytree': 0.75, 'max_depth': 4.0, 'min_child_weight': 2.0}\n"
     ]
    }
   ],
   "source": [
    "trials = Trials()\n",
    "best_params = optimize(trials)\n",
    "print(best_params)"
   ]
  }
 ],
 "metadata": {
  "anaconda-cloud": {},
  "kernelspec": {
   "display_name": "Python 2",
   "language": "python",
   "name": "python2"
  },
  "language_info": {
   "codemirror_mode": {
    "name": "ipython",
    "version": 2
   },
   "file_extension": ".py",
   "mimetype": "text/x-python",
   "name": "python",
   "nbconvert_exporter": "python",
   "pygments_lexer": "ipython2",
   "version": "2.7.12"
  }
 },
 "nbformat": 4,
 "nbformat_minor": 0
}
