{
 "cells": [
  {
   "cell_type": "markdown",
   "metadata": {},
   "source": [
    "<center>\n",
    "<img src=\"../img/ml_theme.png\">\n",
    "# Майнор \"Интеллектуальный анализ данных\" \n",
    "# Курс \"Введение в машинное обучение\"\n",
    "<img src=\"../img/faculty_logo.jpg\" height=\"240\" width=\"240\">\n",
    "## Авторы материала: преподаватель ФКН НИУ ВШЭ Кашницкий Юрий, руководитель совместных проектов Яндекса и CERN Андрей Устюжанин\n",
    "</center>\n",
    "Материал распространяется на условиях лицензии <a href=\"http://creativecommons.org/licenses/by-sa/4.0/\">Creative Commons Attribution-Share Alike 4.0</a>. Можно использовать в любых целях, но с обязательным упоминанием автора курса и аффилиации."
   ]
  },
  {
   "cell_type": "markdown",
   "metadata": {},
   "source": [
    "# Семинар 12. Дополнительная часть. Практическое задание. Анализ данных пассажиров \"Титаника\"\n",
    "Вначале скачайте <a href='https://www.kaggle.com/c/titanic-gettingStarted/data'>данные</a> о пассажирах с сайта kaggle\n",
    "Вам потребуется только `train.csv`. Прочитайте описание данных на сайте.\n"
   ]
  },
  {
   "cell_type": "markdown",
   "metadata": {},
   "source": [
    "Вначале воспользуемся __магической командой__, которая включает рисование в тетрадке. "
   ]
  },
  {
   "cell_type": "code",
   "execution_count": 6,
   "metadata": {
    "collapsed": false
   },
   "outputs": [
    {
     "name": "stdout",
     "output_type": "stream",
     "text": [
      "Populating the interactive namespace from numpy and matplotlib\n"
     ]
    }
   ],
   "source": [
    "%pylab inline\n",
    "import seaborn as sns"
   ]
  },
  {
   "cell_type": "markdown",
   "metadata": {},
   "source": [
    "Проверим, что графики строятся:"
   ]
  },
  {
   "cell_type": "code",
   "execution_count": 3,
   "metadata": {
    "collapsed": false
   },
   "outputs": [
    {
     "data": {
      "text/plain": [
       "[<matplotlib.lines.Line2D at 0x7fe0fbbd92d0>]"
      ]
     },
     "execution_count": 3,
     "metadata": {},
     "output_type": "execute_result"
    },
    {
     "data": {
      "image/png": "[encoded data removed]",
      "text/plain": [
       "<matplotlib.figure.Figure at 0x7fe0fc49aa90>"
      ]
     },
     "metadata": {},
     "output_type": "display_data"
    }
   ],
   "source": [
    "plot(range(5), range(5, 10))"
   ]
  },
  {
   "cell_type": "markdown",
   "metadata": {},
   "source": [
    "## Pandas - библиотека для python, часто используется для быстрого анализа данных\n",
    "Начнем с того, что прочитаем в память данные из скачанного файла"
   ]
  },
  {
   "cell_type": "code",
   "execution_count": 1,
   "metadata": {
    "collapsed": false
   },
   "outputs": [],
   "source": [
    "import pandas as pd\n",
    "data = pd.read_csv('../data/titanic_train.csv')"
   ]
  },
  {
   "cell_type": "markdown",
   "metadata": {},
   "source": [
    "#### Данные представлены в виде таблицы\n",
    "просмотрим первые 10 строк"
   ]
  },
  {
   "cell_type": "code",
   "execution_count": 3,
   "metadata": {
    "collapsed": false
   },
   "outputs": [
    {
     "data": {
      "text/html": [
       "<div>\n",
       "<table border=\"1\" class=\"dataframe\">\n",
       "  <thead>\n",
       "    <tr style=\"text-align: right;\">\n",
       "      <th></th>\n",
       "      <th>PassengerId</th>\n",
       "      <th>Survived</th>\n",
       "      <th>Pclass</th>\n",
       "      <th>Name</th>\n",
       "      <th>Sex</th>\n",
       "      <th>Age</th>\n",
       "      <th>SibSp</th>\n",
       "      <th>Parch</th>\n",
       "      <th>Ticket</th>\n",
       "      <th>Fare</th>\n",
       "      <th>Cabin</th>\n",
       "      <th>Embarked</th>\n",
       "    </tr>\n",
       "  </thead>\n",
       "  <tbody>\n",
       "    <tr>\n",
       "      <th>0</th>\n",
       "      <td>1</td>\n",
       "      <td>0</td>\n",
       "      <td>3</td>\n",
       "      <td>Braund, Mr. Owen Harris</td>\n",
       "      <td>male</td>\n",
       "      <td>22</td>\n",
       "      <td>1</td>\n",
       "      <td>0</td>\n",
       "      <td>A/5 21171</td>\n",
       "      <td>7.25</td>\n",
       "      <td>NaN</td>\n",
       "      <td>S</td>\n",
       "    </tr>\n",
       "  </tbody>\n",
       "</table>\n",
       "</div>"
      ],
      "text/plain": [
       "   PassengerId  Survived  Pclass                     Name   Sex  Age  SibSp  \\\n",
       "0            1         0       3  Braund, Mr. Owen Harris  male   22      1   \n",
       "\n",
       "   Parch     Ticket  Fare Cabin Embarked  \n",
       "0      0  A/5 21171  7.25   NaN        S  "
      ]
     },
     "execution_count": 3,
     "metadata": {},
     "output_type": "execute_result"
    }
   ],
   "source": [
    "data.head(1)"
   ]
  },
  {
   "cell_type": "markdown",
   "metadata": {},
   "source": [
    "#### возьмем колонку Parch - кол-во родителей и детей пассажира на борту (из неё -- первые 10 элементов)"
   ]
  },
  {
   "cell_type": "code",
   "execution_count": 4,
   "metadata": {
    "collapsed": false
   },
   "outputs": [
    {
     "data": {
      "text/plain": [
       "0    0\n",
       "1    0\n",
       "2    0\n",
       "3    0\n",
       "4    0\n",
       "5    0\n",
       "6    0\n",
       "7    1\n",
       "8    2\n",
       "9    0\n",
       "Name: Parch, dtype: int64"
      ]
     },
     "execution_count": 4,
     "metadata": {},
     "output_type": "execute_result"
    }
   ],
   "source": [
    "data['Parch'][:10]"
   ]
  },
  {
   "cell_type": "markdown",
   "metadata": {},
   "source": [
    "#### возьмем только тех пассажиров, которые сели в Cherbourg (Embarked=C) и заплатили более 200 у.е. (fare > 200)\n",
    "\n",
    "Убедитесь, что Вы понимаете, как эта конструкция работает. <br />\n",
    "Если нет - посмотрите, как вычисляется выражение в квадратных в скобках."
   ]
  },
  {
   "cell_type": "code",
   "execution_count": 7,
   "metadata": {
    "collapsed": false
   },
   "outputs": [
    {
     "data": {
      "text/html": [
       "<div style=\"max-height:1000px;max-width:1500px;overflow:auto;\">\n",
       "<table border=\"1\" class=\"dataframe\">\n",
       "  <thead>\n",
       "    <tr style=\"text-align: right;\">\n",
       "      <th></th>\n",
       "      <th>PassengerId</th>\n",
       "      <th>Survived</th>\n",
       "      <th>Pclass</th>\n",
       "      <th>Name</th>\n",
       "      <th>Sex</th>\n",
       "      <th>Age</th>\n",
       "      <th>SibSp</th>\n",
       "      <th>Parch</th>\n",
       "      <th>Ticket</th>\n",
       "      <th>Fare</th>\n",
       "      <th>Cabin</th>\n",
       "      <th>Embarked</th>\n",
       "    </tr>\n",
       "  </thead>\n",
       "  <tbody>\n",
       "    <tr>\n",
       "      <th>118</th>\n",
       "      <td> 119</td>\n",
       "      <td> 0</td>\n",
       "      <td> 1</td>\n",
       "      <td>                          Baxter, Mr. Quigg Edmond</td>\n",
       "      <td>   male</td>\n",
       "      <td> 24</td>\n",
       "      <td> 0</td>\n",
       "      <td> 1</td>\n",
       "      <td> PC 17558</td>\n",
       "      <td> 247.5208</td>\n",
       "      <td>         B58 B60</td>\n",
       "      <td> C</td>\n",
       "    </tr>\n",
       "    <tr>\n",
       "      <th>258</th>\n",
       "      <td> 259</td>\n",
       "      <td> 1</td>\n",
       "      <td> 1</td>\n",
       "      <td>                                  Ward, Miss. Anna</td>\n",
       "      <td> female</td>\n",
       "      <td> 35</td>\n",
       "      <td> 0</td>\n",
       "      <td> 0</td>\n",
       "      <td> PC 17755</td>\n",
       "      <td> 512.3292</td>\n",
       "      <td>             NaN</td>\n",
       "      <td> C</td>\n",
       "    </tr>\n",
       "    <tr>\n",
       "      <th>299</th>\n",
       "      <td> 300</td>\n",
       "      <td> 1</td>\n",
       "      <td> 1</td>\n",
       "      <td>   Baxter, Mrs. James (Helene DeLaudeniere Chaput)</td>\n",
       "      <td> female</td>\n",
       "      <td> 50</td>\n",
       "      <td> 0</td>\n",
       "      <td> 1</td>\n",
       "      <td> PC 17558</td>\n",
       "      <td> 247.5208</td>\n",
       "      <td>         B58 B60</td>\n",
       "      <td> C</td>\n",
       "    </tr>\n",
       "    <tr>\n",
       "      <th>311</th>\n",
       "      <td> 312</td>\n",
       "      <td> 1</td>\n",
       "      <td> 1</td>\n",
       "      <td>                        Ryerson, Miss. Emily Borie</td>\n",
       "      <td> female</td>\n",
       "      <td> 18</td>\n",
       "      <td> 2</td>\n",
       "      <td> 2</td>\n",
       "      <td> PC 17608</td>\n",
       "      <td> 262.3750</td>\n",
       "      <td> B57 B59 B63 B66</td>\n",
       "      <td> C</td>\n",
       "    </tr>\n",
       "    <tr>\n",
       "      <th>377</th>\n",
       "      <td> 378</td>\n",
       "      <td> 0</td>\n",
       "      <td> 1</td>\n",
       "      <td>                         Widener, Mr. Harry Elkins</td>\n",
       "      <td>   male</td>\n",
       "      <td> 27</td>\n",
       "      <td> 0</td>\n",
       "      <td> 2</td>\n",
       "      <td>   113503</td>\n",
       "      <td> 211.5000</td>\n",
       "      <td>             C82</td>\n",
       "      <td> C</td>\n",
       "    </tr>\n",
       "    <tr>\n",
       "      <th>380</th>\n",
       "      <td> 381</td>\n",
       "      <td> 1</td>\n",
       "      <td> 1</td>\n",
       "      <td>                             Bidois, Miss. Rosalie</td>\n",
       "      <td> female</td>\n",
       "      <td> 42</td>\n",
       "      <td> 0</td>\n",
       "      <td> 0</td>\n",
       "      <td> PC 17757</td>\n",
       "      <td> 227.5250</td>\n",
       "      <td>             NaN</td>\n",
       "      <td> C</td>\n",
       "    </tr>\n",
       "    <tr>\n",
       "      <th>557</th>\n",
       "      <td> 558</td>\n",
       "      <td> 0</td>\n",
       "      <td> 1</td>\n",
       "      <td>                               Robbins, Mr. Victor</td>\n",
       "      <td>   male</td>\n",
       "      <td>NaN</td>\n",
       "      <td> 0</td>\n",
       "      <td> 0</td>\n",
       "      <td> PC 17757</td>\n",
       "      <td> 227.5250</td>\n",
       "      <td>             NaN</td>\n",
       "      <td> C</td>\n",
       "    </tr>\n",
       "    <tr>\n",
       "      <th>679</th>\n",
       "      <td> 680</td>\n",
       "      <td> 1</td>\n",
       "      <td> 1</td>\n",
       "      <td>                Cardeza, Mr. Thomas Drake Martinez</td>\n",
       "      <td>   male</td>\n",
       "      <td> 36</td>\n",
       "      <td> 0</td>\n",
       "      <td> 1</td>\n",
       "      <td> PC 17755</td>\n",
       "      <td> 512.3292</td>\n",
       "      <td>     B51 B53 B55</td>\n",
       "      <td> C</td>\n",
       "    </tr>\n",
       "    <tr>\n",
       "      <th>700</th>\n",
       "      <td> 701</td>\n",
       "      <td> 1</td>\n",
       "      <td> 1</td>\n",
       "      <td> Astor, Mrs. John Jacob (Madeleine Talmadge Force)</td>\n",
       "      <td> female</td>\n",
       "      <td> 18</td>\n",
       "      <td> 1</td>\n",
       "      <td> 0</td>\n",
       "      <td> PC 17757</td>\n",
       "      <td> 227.5250</td>\n",
       "      <td>         C62 C64</td>\n",
       "      <td> C</td>\n",
       "    </tr>\n",
       "    <tr>\n",
       "      <th>716</th>\n",
       "      <td> 717</td>\n",
       "      <td> 1</td>\n",
       "      <td> 1</td>\n",
       "      <td>                     Endres, Miss. Caroline Louise</td>\n",
       "      <td> female</td>\n",
       "      <td> 38</td>\n",
       "      <td> 0</td>\n",
       "      <td> 0</td>\n",
       "      <td> PC 17757</td>\n",
       "      <td> 227.5250</td>\n",
       "      <td>             C45</td>\n",
       "      <td> C</td>\n",
       "    </tr>\n",
       "    <tr>\n",
       "      <th>737</th>\n",
       "      <td> 738</td>\n",
       "      <td> 1</td>\n",
       "      <td> 1</td>\n",
       "      <td>                            Lesurer, Mr. Gustave J</td>\n",
       "      <td>   male</td>\n",
       "      <td> 35</td>\n",
       "      <td> 0</td>\n",
       "      <td> 0</td>\n",
       "      <td> PC 17755</td>\n",
       "      <td> 512.3292</td>\n",
       "      <td>            B101</td>\n",
       "      <td> C</td>\n",
       "    </tr>\n",
       "    <tr>\n",
       "      <th>742</th>\n",
       "      <td> 743</td>\n",
       "      <td> 1</td>\n",
       "      <td> 1</td>\n",
       "      <td>             Ryerson, Miss. Susan Parker \"Suzette\"</td>\n",
       "      <td> female</td>\n",
       "      <td> 21</td>\n",
       "      <td> 2</td>\n",
       "      <td> 2</td>\n",
       "      <td> PC 17608</td>\n",
       "      <td> 262.3750</td>\n",
       "      <td> B57 B59 B63 B66</td>\n",
       "      <td> C</td>\n",
       "    </tr>\n",
       "  </tbody>\n",
       "</table>\n",
       "</div>"
      ],
      "text/plain": [
       "     PassengerId  Survived  Pclass  \\\n",
       "118          119         0       1   \n",
       "258          259         1       1   \n",
       "299          300         1       1   \n",
       "311          312         1       1   \n",
       "377          378         0       1   \n",
       "380          381         1       1   \n",
       "557          558         0       1   \n",
       "679          680         1       1   \n",
       "700          701         1       1   \n",
       "716          717         1       1   \n",
       "737          738         1       1   \n",
       "742          743         1       1   \n",
       "\n",
       "                                                  Name     Sex  Age  SibSp  \\\n",
       "118                           Baxter, Mr. Quigg Edmond    male   24      0   \n",
       "258                                   Ward, Miss. Anna  female   35      0   \n",
       "299    Baxter, Mrs. James (Helene DeLaudeniere Chaput)  female   50      0   \n",
       "311                         Ryerson, Miss. Emily Borie  female   18      2   \n",
       "377                          Widener, Mr. Harry Elkins    male   27      0   \n",
       "380                              Bidois, Miss. Rosalie  female   42      0   \n",
       "557                                Robbins, Mr. Victor    male  NaN      0   \n",
       "679                 Cardeza, Mr. Thomas Drake Martinez    male   36      0   \n",
       "700  Astor, Mrs. John Jacob (Madeleine Talmadge Force)  female   18      1   \n",
       "716                      Endres, Miss. Caroline Louise  female   38      0   \n",
       "737                             Lesurer, Mr. Gustave J    male   35      0   \n",
       "742              Ryerson, Miss. Susan Parker \"Suzette\"  female   21      2   \n",
       "\n",
       "     Parch    Ticket      Fare            Cabin Embarked  \n",
       "118      1  PC 17558  247.5208          B58 B60        C  \n",
       "258      0  PC 17755  512.3292              NaN        C  \n",
       "299      1  PC 17558  247.5208          B58 B60        C  \n",
       "311      2  PC 17608  262.3750  B57 B59 B63 B66        C  \n",
       "377      2    113503  211.5000              C82        C  \n",
       "380      0  PC 17757  227.5250              NaN        C  \n",
       "557      0  PC 17757  227.5250              NaN        C  \n",
       "679      1  PC 17755  512.3292      B51 B53 B55        C  \n",
       "700      0  PC 17757  227.5250          C62 C64        C  \n",
       "716      0  PC 17757  227.5250              C45        C  \n",
       "737      0  PC 17755  512.3292             B101        C  \n",
       "742      2  PC 17608  262.3750  B57 B59 B63 B66        C  "
      ]
     },
     "execution_count": 7,
     "metadata": {},
     "output_type": "execute_result"
    }
   ],
   "source": [
    "data[(data['Embarked'] == 'C') & (data['Fare'] > 200)]"
   ]
  },
  {
   "cell_type": "markdown",
   "metadata": {},
   "source": [
    "### 1. Сколько мужчин / жещин находилось на борту?"
   ]
  },
  {
   "cell_type": "code",
   "execution_count": null,
   "metadata": {
    "collapsed": false
   },
   "outputs": [],
   "source": [
    "{здесь будет код}"
   ]
  },
  {
   "cell_type": "markdown",
   "metadata": {},
   "source": [
    "### 2. Выведите рапределение по переменной Pclass (социально-экономический статус); \n",
    "\n",
    "### дополнительно -- это же распределение только для мужчин / женщин\n"
   ]
  },
  {
   "cell_type": "code",
   "execution_count": null,
   "metadata": {
    "collapsed": false
   },
   "outputs": [],
   "source": [
    "{здесь будет код}"
   ]
  },
  {
   "cell_type": "markdown",
   "metadata": {},
   "source": [
    "### 3. Сколько в среднем заплатил один пассажир? Найдите дисперсию этой величины. Сколько все пассажиры заплатили в сумме?"
   ]
  },
  {
   "cell_type": "code",
   "execution_count": null,
   "metadata": {
    "collapsed": false
   },
   "outputs": [],
   "source": [
    "{здесь будет код}"
   ]
  },
  {
   "cell_type": "markdown",
   "metadata": {},
   "source": [
    "### 4. Правда ли, что молодые выживали чаще (с большей вероятностью), чем старики?"
   ]
  },
  {
   "cell_type": "code",
   "execution_count": null,
   "metadata": {
    "collapsed": false
   },
   "outputs": [],
   "source": [
    "{здесь будет код}"
   ]
  },
  {
   "cell_type": "markdown",
   "metadata": {},
   "source": [
    "### 5. Правда ли, что женщины выживали чаще мужчин?"
   ]
  },
  {
   "cell_type": "code",
   "execution_count": null,
   "metadata": {
    "collapsed": false
   },
   "outputs": [],
   "source": [
    "{здесь будет код}"
   ]
  },
  {
   "cell_type": "markdown",
   "metadata": {},
   "source": [
    "### 6. Какое самое популярное мужское имя? (среди тех, кто был на борту, конечно)"
   ]
  },
  {
   "cell_type": "code",
   "execution_count": null,
   "metadata": {
    "collapsed": false
   },
   "outputs": [],
   "source": [
    "{здесь будет код}"
   ]
  },
  {
   "cell_type": "markdown",
   "metadata": {},
   "source": [
    "### 7. Сравните распределение стоимости билетов у спасенных и у погибших\n",
    "Есть мысли, откуда появилось это различие?"
   ]
  },
  {
   "cell_type": "code",
   "execution_count": null,
   "metadata": {
    "collapsed": false
   },
   "outputs": [],
   "source": [
    "{здесь будет код}"
   ]
  },
  {
   "cell_type": "markdown",
   "metadata": {},
   "source": [
    "### 8. Как отличается средний возраст мужчин / женщин в зависимости от класса обслуживания?"
   ]
  },
  {
   "cell_type": "code",
   "execution_count": null,
   "metadata": {
    "collapsed": false
   },
   "outputs": [],
   "source": [
    "{здесь будет код"
   ]
  }
 ],
 "metadata": {
  "kernelspec": {
   "display_name": "Python 2",
   "language": "python",
   "name": "python2"
  },
  "language_info": {
   "codemirror_mode": {
    "name": "ipython",
    "version": 2
   },
   "file_extension": ".py",
   "mimetype": "text/x-python",
   "name": "python",
   "nbconvert_exporter": "python",
   "pygments_lexer": "ipython2",
   "version": "2.7.10"
  },
  "name": "seminar12_optional_pandas_titanic.ipynb"
 },
 "nbformat": 4,
 "nbformat_minor": 0
}
