{
 "cells": [
  {
   "cell_type": "code",
   "execution_count": 1,
   "metadata": {
    "collapsed": true
   },
   "outputs": [],
   "source": [
    "students = ['Андрей Коломиец',     # 0\n",
    "            'Евгений Урнышев',     # 1\n",
    "            'Александр Мендеев',    # 2\n",
    "            'Кирилл Бабич',        # 3\n",
    "            'Никита Лейбович',      # 4\n",
    "            'Александр Смилянский',  # 5\n",
    "            'Даниил Шлёнский',      # 6\n",
    "            'Андрей Берюхов',      # 7\n",
    "            'Алексей Иванов',       # 8\n",
    "            'Павел Путро',         # 9\n",
    "            'Александр Варгулёв',    # 10\n",
    "            'Джан Моазам Фазли',   # 11\n",
    "            'Олег Иванов',         # 12\n",
    "            'Вадим Калашников']    # 13"
   ]
  },
  {
   "cell_type": "code",
   "execution_count": 28,
   "metadata": {
    "collapsed": true
   },
   "outputs": [],
   "source": [
    "from random import randint\n",
    "def random_number(surname, nonces, num_tickets=30):\n",
    "    return [abs(hash(surname + str(nonce) + str(randint(0, num_tickets)))) % num_tickets + 1\n",
    "           for nonce in nonces]"
   ]
  },
  {
   "cell_type": "code",
   "execution_count": 33,
   "metadata": {
    "collapsed": false
   },
   "outputs": [
    {
     "data": {
      "text/plain": [
       "[9, 17, 30]"
      ]
     },
     "execution_count": 33,
     "metadata": {},
     "output_type": "execute_result"
    }
   ],
   "source": [
    "random_number('Юрий Кашницкий', [3, 4, 5])"
   ]
  }
 ],
 "metadata": {
  "kernelspec": {
   "display_name": "Python 2",
   "language": "python",
   "name": "python2"
  },
  "language_info": {
   "codemirror_mode": {
    "name": "ipython",
    "version": 2
   },
   "file_extension": ".py",
   "mimetype": "text/x-python",
   "name": "python",
   "nbconvert_exporter": "python",
   "pygments_lexer": "ipython2",
   "version": "2.7.11"
  }
 },
 "nbformat": 4,
 "nbformat_minor": 0
}
