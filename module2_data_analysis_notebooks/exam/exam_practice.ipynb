{
 "cells": [
  {
   "cell_type": "markdown",
   "metadata": {},
   "source": [
    "<center>\n",
    "<img src=\"../../img/ml_theme.png\">\n",
    "# Майнор \"Интеллектуальный анализ данных\" \n",
    "# Курс \"Введение в анализ данных\"\n",
    "<img src=\"../../img/faculty_logo.jpg\" height=\"240\" width=\"240\">\n",
    "## Автор материала: преподаватели ФКН НИУ ВШЭ Кашницкий Юрий\n",
    "</center>\n",
    "Материал распространяется на условиях лицензии <a href=\"http://www.microsoft.com/en-us/openness/default.aspx#Ms-RL\">Ms-RL</a>. Можно использовать в любых целях, но с обязательным упоминанием автора курса и аффилиации."
   ]
  },
  {
   "cell_type": "markdown",
   "metadata": {},
   "source": [
    "## Практическое задание на экзамене"
   ]
  },
  {
   "cell_type": "markdown",
   "metadata": {},
   "source": [
    "Наборы данных (все файлы в **'../data/'**), целевые признаки и метрики качества:\n",
    "1. **forest_train**, Cover_Type, accuracy, ROC AUC\n",
    "2. **telecom_churn**, Churn, ROC AUC, F1\n",
    "3. **titanic_train**, Survived, accuracy, ROC AUC\n",
    "4. **car_price**, year, rmse, mae\n",
    "5. **credit_scoring_train**, Delinquent90, ROC AUC (можно оставить случайные 30 тыс. записей)\n",
    "6. **bank**, y, F1, ROC AUC\n",
    "7. **beauty**, looks, rmse, mae\n",
    "8. **girls**, Height, rmse, mae\n",
    "9. **advertising**, Sales, rmse, mae\n",
    "10. **pima-indians-diabetes**, diabetes_positive, accuracy, ROC AUC"
   ]
  },
  {
   "cell_type": "markdown",
   "metadata": {},
   "source": [
    "**1. Считайте данные в DataFrame pandas.**"
   ]
  },
  {
   "cell_type": "code",
   "execution_count": null,
   "metadata": {
    "collapsed": true
   },
   "outputs": [],
   "source": []
  },
  {
   "cell_type": "markdown",
   "metadata": {},
   "source": [
    "**2. Выдайте статистику по имеющимся данным. Укажите число категориальных, вещественных и бинарных признаков, число пропусков в данных. Имеется ли перекос в классах (если это задача классификации). <font color='green'>Дополнительно:</font> укажите, какие объекты можно считать выбросами и при каких условиях.**"
   ]
  },
  {
   "cell_type": "code",
   "execution_count": null,
   "metadata": {
    "collapsed": true
   },
   "outputs": [],
   "source": []
  },
  {
   "cell_type": "markdown",
   "metadata": {},
   "source": [
    "**3. Постройте гистограммы распределения значений признаков, а также диаграммы рассения для пар признаков. <font color='green'>Дополнительно:</font> постройте диаграммы рассения с раскраской по целевому классу (если это задача классификации) и t-SNE проекцию данных на плоскость.**"
   ]
  },
  {
   "cell_type": "code",
   "execution_count": null,
   "metadata": {
    "collapsed": true
   },
   "outputs": [],
   "source": []
  },
  {
   "cell_type": "markdown",
   "metadata": {},
   "source": [
    "**4. Отметьте все особенности в данных, которые сичтаете важными для классификации/регрессии.**"
   ]
  },
  {
   "cell_type": "code",
   "execution_count": null,
   "metadata": {
    "collapsed": true
   },
   "outputs": [],
   "source": []
  },
  {
   "cell_type": "markdown",
   "metadata": {},
   "source": [
    "**5. Подготовьте выборку для обучения (может понадобиться LabelEncoder, StandardScaler и т.д.). Разбейте данные в пропорции 70%-30%, оставив таким образом holdout-выборку.**"
   ]
  },
  {
   "cell_type": "code",
   "execution_count": null,
   "metadata": {
    "collapsed": true
   },
   "outputs": [],
   "source": []
  },
  {
   "cell_type": "markdown",
   "metadata": {},
   "source": [
    "**6. Выберите 2 модели из Sklearn и сравните их качество на 5-кратной страифицированной кросс-валидации и на holdout-выборке. Выведите резуьтаты в виде DataFrame.\n",
    "Какие выводы можно сделать?**"
   ]
  },
  {
   "cell_type": "code",
   "execution_count": null,
   "metadata": {
    "collapsed": true
   },
   "outputs": [],
   "source": []
  }
 ],
 "metadata": {
  "kernelspec": {
   "display_name": "Python 2",
   "language": "python",
   "name": "python2"
  },
  "language_info": {
   "codemirror_mode": {
    "name": "ipython",
    "version": 2
   },
   "file_extension": ".py",
   "mimetype": "text/x-python",
   "name": "python",
   "nbconvert_exporter": "python",
   "pygments_lexer": "ipython2",
   "version": "2.7.11"
  }
 },
 "nbformat": 4,
 "nbformat_minor": 0
}
