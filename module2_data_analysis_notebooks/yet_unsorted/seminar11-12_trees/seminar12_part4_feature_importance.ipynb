{
 "cells": [
  {
   "cell_type": "markdown",
   "metadata": {},
   "source": [
    "<center>\n",
    "<img src=\"../../img/ml_theme.png\">\n",
    "# Майнор \"Интеллектуальный анализ данных\" \n",
    "# Курс \"Введение в анализ данных\"\n",
    "<img src=\"../../img/faculty_logo.jpg\" height=\"240\" width=\"240\">\n",
    "## Автор материала: преподаватель ФКН НИУ ВШЭ Кашницкий Юрий\n",
    "</center>\n",
    "Материал распространяется на условиях лицензии <a href=\"http://www.microsoft.com/en-us/openness/default.aspx#Ms-RL\">Ms-RL</a>. Можно использовать в любых целях, но с обязательным упоминанием автора курса и аффилиации."
   ]
  },
  {
   "cell_type": "markdown",
   "metadata": {},
   "source": [
    "# Семинар 12. Случайный лес и бустинг"
   ]
  },
  {
   "cell_type": "markdown",
   "metadata": {},
   "source": [
    "## Часть 4. Оценка важности признаков с помощью случайного леса"
   ]
  },
  {
   "cell_type": "markdown",
   "metadata": {},
   "source": [
    "## Суть метода"
   ]
  },
  {
   "cell_type": "markdown",
   "metadata": {},
   "source": [
    "По данной картинке интуитивно понятно, что важность признака \"Возраст\" в задаче кредитного скоринга выше, чем важность признака \"Доход\". Формализуется это с помощью понятия прироста информации.\n",
    "<img src=\"../../img/decision_tree2.gif\">"
   ]
  },
  {
   "cell_type": "markdown",
   "metadata": {},
   "source": [
    "Если посторить много деревьев решений (случайный лес), то чем выше в среднем признак в дереве решений, тем он важнее в данной задаче классификации/регрессии."
   ]
  },
  {
   "cell_type": "markdown",
   "metadata": {},
   "source": [
    "**Пример.** \n",
    "\n",
    "Рассмотрим результаты анкетирования посетителей хостелов с сайтов Booking.com и TripAdvisor.com. Признаки - средние оценки по разным факторам (перечислены ниже) - персонал, состояние комнат и т.д. \n",
    "Целевой признак - рейтинг хостела на сайте."
   ]
  },
  {
   "cell_type": "code",
   "execution_count": 1,
   "metadata": {
    "collapsed": false
   },
   "outputs": [
    {
     "name": "stdout",
     "output_type": "stream",
     "text": [
      "Populating the interactive namespace from numpy and matplotlib\n"
     ]
    }
   ],
   "source": [
    "from __future__ import division, print_function\n",
    "# отключим всякие предупреждения Anaconda\n",
    "import warnings\n",
    "warnings.filterwarnings('ignore')\n",
    "%pylab inline\n",
    "import seaborn as sns\n",
    "# russian headres\n",
    "from matplotlib import rc\n",
    "font = {'family': 'Verdana',\n",
    "        'weight': 'normal'}\n",
    "rc('font', **font)\n",
    "import pandas as pd\n",
    "import numpy as np\n",
    "from sklearn.ensemble.forest import RandomForestRegressor"
   ]
  },
  {
   "cell_type": "code",
   "execution_count": 2,
   "metadata": {
    "collapsed": false
   },
   "outputs": [
    {
     "data": {
      "text/html": [
       "<div>\n",
       "<table border=\"1\" class=\"dataframe\">\n",
       "  <thead>\n",
       "    <tr style=\"text-align: right;\">\n",
       "      <th></th>\n",
       "      <th>hostel</th>\n",
       "      <th>f1</th>\n",
       "      <th>f2</th>\n",
       "      <th>f3</th>\n",
       "      <th>f4</th>\n",
       "      <th>f5</th>\n",
       "      <th>f6</th>\n",
       "      <th>f7</th>\n",
       "      <th>f8</th>\n",
       "      <th>f9</th>\n",
       "      <th>f10</th>\n",
       "      <th>rating</th>\n",
       "    </tr>\n",
       "  </thead>\n",
       "  <tbody>\n",
       "    <tr>\n",
       "      <th>0</th>\n",
       "      <td>hostel1</td>\n",
       "      <td>0.675</td>\n",
       "      <td>0.1</td>\n",
       "      <td>0.300000</td>\n",
       "      <td>0.875000</td>\n",
       "      <td>0.250000</td>\n",
       "      <td>0.425000</td>\n",
       "      <td>0.35</td>\n",
       "      <td>0.725000</td>\n",
       "      <td>0.400000</td>\n",
       "      <td>0.275</td>\n",
       "      <td>9.0</td>\n",
       "    </tr>\n",
       "    <tr>\n",
       "      <th>1</th>\n",
       "      <td>hostel2</td>\n",
       "      <td>0.500</td>\n",
       "      <td>0.0</td>\n",
       "      <td>0.058824</td>\n",
       "      <td>0.573529</td>\n",
       "      <td>0.117647</td>\n",
       "      <td>0.382353</td>\n",
       "      <td>0.00</td>\n",
       "      <td>0.161765</td>\n",
       "      <td>0.308824</td>\n",
       "      <td>0.000</td>\n",
       "      <td>8.3</td>\n",
       "    </tr>\n",
       "  </tbody>\n",
       "</table>\n",
       "</div>"
      ],
      "text/plain": [
       "    hostel     f1   f2        f3        f4        f5        f6    f7  \\\n",
       "0  hostel1  0.675  0.1  0.300000  0.875000  0.250000  0.425000  0.35   \n",
       "1  hostel2  0.500  0.0  0.058824  0.573529  0.117647  0.382353  0.00   \n",
       "\n",
       "         f8        f9    f10  rating  \n",
       "0  0.725000  0.400000  0.275     9.0  \n",
       "1  0.161765  0.308824  0.000     8.3  "
      ]
     },
     "execution_count": 2,
     "metadata": {},
     "output_type": "execute_result"
    }
   ],
   "source": [
    "hostel_data = pd.read_csv(\"../../data/hostel_factors.csv\") \n",
    "hostel_data.head(2)"
   ]
  },
  {
   "cell_type": "code",
   "execution_count": 3,
   "metadata": {
    "collapsed": true
   },
   "outputs": [],
   "source": [
    "features = {\"f1\":u\"Персонал\",\n",
    "\"f2\":u\"Бронирование хостела \",\n",
    "\"f3\":u\"Заезд в хостел и выезд из хостела\",\n",
    "\"f4\":u\"Состояние комнаты\",\n",
    "\"f5\":u\"Состояние общей кухни\",\n",
    "\"f6\":u\"Состояние общего пространства\",\n",
    "\"f7\":u\"Дополнительные услуги\",\n",
    "\"f8\":u\"Общие условия и удобства\",\n",
    "\"f9\":u\"Цена/качество\",\n",
    "\"f10\":u\"ССЦ\"}"
   ]
  },
  {
   "cell_type": "code",
   "execution_count": 4,
   "metadata": {
    "collapsed": false
   },
   "outputs": [
    {
     "data": {
      "text/plain": [
       "array([ 0.18275657,  0.0536145 ,  0.06152141,  0.03930534,  0.07427316,\n",
       "        0.12829575,  0.11660351,  0.08858868,  0.14837347,  0.1066676 ])"
      ]
     },
     "execution_count": 4,
     "metadata": {},
     "output_type": "execute_result"
    }
   ],
   "source": [
    "forest = RandomForestRegressor(n_estimators=1000,\n",
    "                               max_features=10,\n",
    "                                random_state=0)\n",
    "\n",
    "forest.fit(hostel_data.drop(['hostel', 'rating'], axis=1), \n",
    "           hostel_data['rating'])\n",
    "importances = forest.feature_importances_\n",
    "importances"
   ]
  },
  {
   "cell_type": "code",
   "execution_count": 5,
   "metadata": {
    "collapsed": false
   },
   "outputs": [
    {
     "name": "stdout",
     "output_type": "stream",
     "text": [
      "Feature ranking:\n",
      "1. Персонал 0.182757 \n",
      "2. Цена/качество 0.148373 \n",
      "3. Состояние общего пространства 0.128296 \n",
      "4. Дополнительные услуги 0.116604 \n",
      "5. ССЦ 0.106668 \n",
      "6. Общие условия и удобства 0.088589 \n",
      "7. Состояние общей кухни 0.074273 \n",
      "8. Заезд в хостел и выезд из хостела 0.061521 \n",
      "9. Бронирование хостела  0.053615 \n",
      "10. Состояние комнаты 0.039305 \n"
     ]
    },
    {
     "data": {
      "text/plain": [
       "<matplotlib.legend.Legend at 0x10e6b7ed0>"
      ]
     },
     "execution_count": 5,
     "metadata": {},
     "output_type": "execute_result"
    },
    {
     "data": {
      "image/png": "[encoded data removed]",
      "text/plain": [
       "<matplotlib.figure.Figure at 0x10e62a410>"
      ]
     },
     "metadata": {},
     "output_type": "display_data"
    }
   ],
   "source": [
    "indices = np.argsort(importances)[::-1]\n",
    "# Plot the feature importancies of the forest\n",
    "num_to_plot = 10\n",
    "feature_indices = [ind+1 for ind in indices[:num_to_plot]]\n",
    "\n",
    "# Print the feature ranking\n",
    "print(\"Feature ranking:\")\n",
    "  \n",
    "for f in range(num_to_plot):\n",
    "    print(\"%d. %s %f \" % (f + 1, \n",
    "            features[\"f\"+str(feature_indices[f])], \n",
    "            importances[indices[f]]))\n",
    "plt.figure()\n",
    "plt.title(u\"Важность конструктов\")\n",
    "bars = plt.bar(range(num_to_plot), \n",
    "               importances[indices[:num_to_plot]],\n",
    "       color=([str(i/float(num_to_plot)) \n",
    "               for i in range(num_to_plot)]),\n",
    "               align=\"center\")\n",
    "ticks = plt.xticks(range(num_to_plot), \n",
    "                   feature_indices)\n",
    "plt.xlim([-1, num_to_plot])\n",
    "plt.legend(bars, [u''.join(features[\"f\"+str(i)]) \n",
    "                  for i in feature_indices])"
   ]
  }
 ],
 "metadata": {
  "kernelspec": {
   "display_name": "Python 2",
   "language": "python",
   "name": "python2"
  },
  "language_info": {
   "codemirror_mode": {
    "name": "ipython",
    "version": 2
   },
   "file_extension": ".py",
   "mimetype": "text/x-python",
   "name": "python",
   "nbconvert_exporter": "python",
   "pygments_lexer": "ipython2",
   "version": "2.7.11"
  },
  "name": "2_1_3_kNN.ipynb"
 },
 "nbformat": 4,
 "nbformat_minor": 0
}
