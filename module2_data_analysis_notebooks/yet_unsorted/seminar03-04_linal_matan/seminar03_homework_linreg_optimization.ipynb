{
 "cells": [
  {
   "cell_type": "markdown",
   "metadata": {},
   "source": [
    "<center>\n",
    "<img src=\"../../img/ml_theme.png\">\n",
    "# Майнор \"Интеллектуальный анализ данных\" \n",
    "# Курс \"Введение в анализ данных\"\n",
    "<img src=\"../../img/faculty_logo.jpg\" height=\"240\" width=\"240\">\n",
    "## Автор материала: преподаватель ФКН НИУ ВШЭ Кашницкий Юрий\n",
    "</center>\n",
    "Материал распространяется на условиях лицензии <a href=\"http://www.microsoft.com/en-us/openness/default.aspx#Ms-RL\">Ms-RL</a>. Можно использовать в любых целях, но с обязательным упоминанием автора курса и аффилиации."
   ]
  },
  {
   "cell_type": "markdown",
   "metadata": {},
   "source": [
    "# Семинар 3. Линейная алгебра и Python"
   ]
  },
  {
   "cell_type": "markdown",
   "metadata": {},
   "source": [
    "## Домашнее задание 2. Библиотеки Python: линейная алгебра с NumPy, оптимизация с SciPy, визуализация с Matplotlib, Seaborn и Pandas"
   ]
  },
  {
   "cell_type": "code",
   "execution_count": null,
   "metadata": {
    "collapsed": false
   },
   "outputs": [],
   "source": [
    "# Python 2 and 3 compatibility\n",
    "from __future__ import (absolute_import, division,\n",
    "                        print_function, unicode_literals)\n",
    "# отключим предупреждения Anaconda\n",
    "import warnings\n",
    "warnings.simplefilter('ignore')\n",
    "import pandas as pd\n",
    "%pylab inline\n",
    "import seaborn as sns\n",
    "import matplotlib.pyplot as plt"
   ]
  },
  {
   "cell_type": "markdown",
   "metadata": {},
   "source": [
    "## Часть 1. Первичный анализ данных с Pandas"
   ]
  },
  {
   "cell_type": "markdown",
   "metadata": {},
   "source": [
    "**Считайте данные по моделям месяца Playboy ('../../data/girls.csv') в объект Pandas DataFrame.**"
   ]
  },
  {
   "cell_type": "code",
   "execution_count": null,
   "metadata": {
    "collapsed": true
   },
   "outputs": [],
   "source": [
    "girls = # Ваш код здесь"
   ]
  },
  {
   "cell_type": "markdown",
   "metadata": {},
   "source": [
    "**Посмотрите на первые 5 записей с помощью метода head Pandas DataFrame. Нарисуйте гистограмму распределения роста девушек с помощью метода hist Pandas DataFrame. Сделайте гистограмму зеленой, подпишите оси и картинку.**"
   ]
  },
  {
   "cell_type": "code",
   "execution_count": null,
   "metadata": {
    "collapsed": false
   },
   "outputs": [],
   "source": [
    "# Ваш код здесь"
   ]
  },
  {
   "cell_type": "markdown",
   "metadata": {},
   "source": [
    "**Постройте картинку, на которой будут отображены попарные зависимости признаков 'Bust', 'Waist', 'Hips', 'Height', 'Weight'  друг от друга. Используйте метод pairplot библиотеки Seaborn. Подпишите картинку.**"
   ]
  },
  {
   "cell_type": "code",
   "execution_count": null,
   "metadata": {
    "collapsed": false
   },
   "outputs": [],
   "source": [
    "sns.pairplot # Ваш код здесь"
   ]
  },
  {
   "cell_type": "markdown",
   "metadata": {},
   "source": [
    "**Создайте в DataFrame girls новый признак weight_category, который будет иметь 3 значения: 1 – если вес девушки меньше 49 кг., 3 - если вес девушки больше или равен 55 кг, 2 – в остальных случаях. Постройте «ящик с усами» (boxplot), демонстрирующий зависимость роста от весовой категории. Используйте метод boxplot библиотеки Seaborn и метод apply Pandas DataFrame. Подпишите ось y меткой «Рост», ось x – меткой «Весовая категория».**"
   ]
  },
  {
   "cell_type": "code",
   "execution_count": null,
   "metadata": {
    "collapsed": false
   },
   "outputs": [],
   "source": [
    "def weight_category(weight):\n",
    "    pass\n",
    "\n",
    "girls['weight_cat'] = # Ваш код здесь\n",
    "sns.boxplot # Ваш код здесь"
   ]
  },
  {
   "cell_type": "markdown",
   "metadata": {},
   "source": [
    "**Постройте scatter plot зависимости охвата груди от веса, используя метод scatter. Подпишите оси.**"
   ]
  },
  {
   "cell_type": "code",
   "execution_count": null,
   "metadata": {
    "collapsed": false
   },
   "outputs": [],
   "source": [
    "girls.plot(kind='scatter' # Ваш код здесь"
   ]
  },
  {
   "cell_type": "markdown",
   "metadata": {},
   "source": [
    "## Часть 2. Минимизация квадратичной ошибки"
   ]
  },
  {
   "cell_type": "markdown",
   "metadata": {},
   "source": [
    "**Напишите функцию, которая по двум параметрам $\\alpha_0$ и $\\alpha_1$ вычисляет квадратичную ошибку приближения зависимости охвата груди $b$ от веса $w$ прямой линией  $b = \\alpha_0 + \\alpha_1 * w$:\n",
    "$$error(\\alpha_0, \\alpha_1) = \\sum_{i=1}^n {(b_i - (\\alpha_0 + \\alpha_1 * w_i))}^2 $$\n",
    "Здесь $n$ – число наблюдений (девушек) в наборе данных, $b_i$ и $w_i$ – охват груди и вес $i$-ой девушки. **"
   ]
  },
  {
   "cell_type": "code",
   "execution_count": null,
   "metadata": {
    "collapsed": true
   },
   "outputs": [],
   "source": [
    "def sq_error(x_series, y_series, alpha0, alpha1):\n",
    "    pass"
   ]
  },
  {
   "cell_type": "markdown",
   "metadata": {},
   "source": [
    "**Проведите на графике из последнего пункта Части 1 две прямые, соответствующие значениям параметров ($\\alpha_0, \\alpha_1) = (40, 1.1)$ и ($\\alpha_0, \\alpha_1) = (60, 0.4)$. Используйте метод plot из matplotlib.pyplot, а также методы linspace, ones, dot и c\\_ библиотеки NumPy. Подпишите оси и график.**"
   ]
  },
  {
   "cell_type": "code",
   "execution_count": null,
   "metadata": {
    "collapsed": false
   },
   "outputs": [],
   "source": [
    "def plot_line(x_series, num_points, params):\n",
    "    pass\n",
    "      \n",
    "# Ваш код здесь"
   ]
  },
  {
   "cell_type": "markdown",
   "metadata": {},
   "source": [
    "**Постройте график зависимости функции ошибки $error(\\alpha_0, \\alpha_1)$ от параметра $\\alpha_1$ при $\\alpha_0$ = 50. Подпишите оси и график.**"
   ]
  },
  {
   "cell_type": "code",
   "execution_count": null,
   "metadata": {
    "collapsed": false
   },
   "outputs": [],
   "source": [
    "INTERCEPT, NUM_POINTS, ALPHA1_LOWER, ALPHA1_UPPER = 50, 200, -5, 5\n",
    "\n",
    "alpha1_values = np.linspace # Ваш код здесь"
   ]
  },
  {
   "cell_type": "markdown",
   "metadata": {},
   "source": [
    "**С помощью метода minimize\\_scalar из scipy.optimize найдите минимум функции, определенной в предыдущем пункте для значений параметра  $\\alpha_1$ в диапазоне [-5,5]. Проведите на графике из последнего пункта Части 1 прямую, соответствующую значениям параметров ($\\alpha_0$, $\\alpha_1$) = (50, $\\alpha_1\\_opt$), где $\\alpha_1\\_opt$ – найденное в предыдущем пункте оптимальное значение параметра $\\alpha_1$.**"
   ]
  },
  {
   "cell_type": "code",
   "execution_count": null,
   "metadata": {
    "collapsed": false
   },
   "outputs": [],
   "source": [
    "from scipy.optimize import minimize_scalar\n",
    "\n",
    "func = lambda alpha1: sq_error( # Ваш код здесь\n",
    "\n",
    "result = minimize_scalar(func, bounds=[ALPHA1_LOWER, ALPHA1_UPPER], method = 'bounded')"
   ]
  },
  {
   "cell_type": "code",
   "execution_count": null,
   "metadata": {
    "collapsed": false
   },
   "outputs": [],
   "source": [
    "girls.plot # Ваш код здесь\n",
    "plot_line # Ваш код здесь"
   ]
  },
  {
   "cell_type": "markdown",
   "metadata": {},
   "source": [
    "**Постройте 3D-график зависимости функции ошибки $error(\\alpha_0, \\alpha_1)$ от параметров $\\alpha_0$ и $\\alpha_1$ $x$ меткой «Intercept», ось $y$ – меткой «Slope», а ось $z$ – меткой «Error». [Пример](http://stackoverflow.com/questions/9170838/surface-plots-in-matplotlib) построения 3D-графика.**"
   ]
  },
  {
   "cell_type": "code",
   "execution_count": null,
   "metadata": {
    "collapsed": false
   },
   "outputs": [],
   "source": [
    "NUM_POINTS, ALPHA0_LOWER, ALPHA0_UPPER, ALPHA1_LOWER, ALPHA1_UPPER = 200, -100, 100, -5, 5\n",
    "\n",
    "alpha0_values = np.linspace(ALPHA0_LOWER, ALPHA0_UPPER, NUM_POINTS)\n",
    "alpha1_values = np.linspace(ALPHA1_LOWER, ALPHA1_UPPER, NUM_POINTS)"
   ]
  },
  {
   "cell_type": "code",
   "execution_count": null,
   "metadata": {
    "collapsed": false
   },
   "outputs": [],
   "source": [
    "from mpl_toolkits.mplot3d import Axes3D\n",
    "\n",
    "# Ваш код здесь"
   ]
  },
  {
   "cell_type": "markdown",
   "metadata": {},
   "source": [
    "**С помощью метода minimize из scipy.optimize найдите минимум функции $error(\\alpha_0, \\alpha_1)$ для значений параметра $\\alpha_0$ в диапазоне [-100,100] и $\\alpha_1$ - в диапазоне [-5, 5]. Начальная точка – ($\\alpha_0$, $\\alpha_1$) = (0, 0). Используйте метод оптимизации L-BFGS-B (аргумент method метода minimize). Проведите на графике из последнего пункта Части 1 прямую, соответствующую найденным оптимальным значениям параметров $\\alpha_0$ и $\\alpha_1$. Подпишите оси и график.**"
   ]
  },
  {
   "cell_type": "code",
   "execution_count": null,
   "metadata": {
    "collapsed": false
   },
   "outputs": [],
   "source": [
    "from scipy.optimize import minimize\n",
    "\n",
    "error = lambda (alpha0, alpha1): # Ваш код здесь\n",
    "alpha_initial = (0, 0) \n",
    "bounds = [(-100, 100), (-5, 5)]\n",
    "result = minimize(error, alpha_initial, bounds=bounds, method='L-BFGS-B')"
   ]
  },
  {
   "cell_type": "code",
   "execution_count": null,
   "metadata": {
    "collapsed": false
   },
   "outputs": [],
   "source": [
    "# Ваш код здесь"
   ]
  }
 ],
 "metadata": {
  "kernelspec": {
   "display_name": "Python 2",
   "language": "python",
   "name": "python2"
  },
  "language_info": {
   "codemirror_mode": {
    "name": "ipython",
    "version": 2
   },
   "file_extension": ".py",
   "mimetype": "text/x-python",
   "name": "python",
   "nbconvert_exporter": "python",
   "pygments_lexer": "ipython2",
   "version": "2.7.11"
  }
 },
 "nbformat": 4,
 "nbformat_minor": 0
}
