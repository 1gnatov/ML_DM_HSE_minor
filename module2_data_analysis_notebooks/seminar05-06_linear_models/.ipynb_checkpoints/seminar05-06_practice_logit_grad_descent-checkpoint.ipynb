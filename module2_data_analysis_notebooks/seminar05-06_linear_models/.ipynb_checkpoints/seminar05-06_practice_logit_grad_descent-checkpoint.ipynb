{
 "cells": [
  {
   "cell_type": "code",
   "execution_count": 1,
   "metadata": {
    "collapsed": false
   },
   "outputs": [],
   "source": [
    "from sklearn import datasets\n",
    "from sklearn.linear_model import LogisticRegression\n",
    "from sklearn.metrics import roc_auc_score\n",
    "import numpy as np\n",
    "import pandas as pd\n",
    "from math import log, exp, sqrt"
   ]
  },
  {
   "cell_type": "code",
   "execution_count": 2,
   "metadata": {
    "collapsed": false
   },
   "outputs": [],
   "source": [
    "data = pd.read_csv('data/data-logistic.csv', header=None)\n",
    "data.columns = ['Class', 'x1', 'x2']"
   ]
  },
  {
   "cell_type": "code",
   "execution_count": 3,
   "metadata": {
    "collapsed": false
   },
   "outputs": [
    {
     "data": {
      "text/html": [
       "<div>\n",
       "<table border=\"1\" class=\"dataframe\">\n",
       "  <thead>\n",
       "    <tr style=\"text-align: right;\">\n",
       "      <th></th>\n",
       "      <th>Class</th>\n",
       "      <th>x1</th>\n",
       "      <th>x2</th>\n",
       "    </tr>\n",
       "  </thead>\n",
       "  <tbody>\n",
       "    <tr>\n",
       "      <th>0</th>\n",
       "      <td>-1</td>\n",
       "      <td>-0.663827</td>\n",
       "      <td>-0.138526</td>\n",
       "    </tr>\n",
       "    <tr>\n",
       "      <th>1</th>\n",
       "      <td>1</td>\n",
       "      <td>1.994596</td>\n",
       "      <td>2.468025</td>\n",
       "    </tr>\n",
       "    <tr>\n",
       "      <th>2</th>\n",
       "      <td>-1</td>\n",
       "      <td>-1.247395</td>\n",
       "      <td>0.749425</td>\n",
       "    </tr>\n",
       "    <tr>\n",
       "      <th>3</th>\n",
       "      <td>1</td>\n",
       "      <td>2.309374</td>\n",
       "      <td>1.899836</td>\n",
       "    </tr>\n",
       "    <tr>\n",
       "      <th>4</th>\n",
       "      <td>1</td>\n",
       "      <td>0.849143</td>\n",
       "      <td>2.407750</td>\n",
       "    </tr>\n",
       "  </tbody>\n",
       "</table>\n",
       "</div>"
      ],
      "text/plain": [
       "   Class        x1        x2\n",
       "0     -1 -0.663827 -0.138526\n",
       "1      1  1.994596  2.468025\n",
       "2     -1 -1.247395  0.749425\n",
       "3      1  2.309374  1.899836\n",
       "4      1  0.849143  2.407750"
      ]
     },
     "execution_count": 3,
     "metadata": {},
     "output_type": "execute_result"
    }
   ],
   "source": [
    "data.head()"
   ]
  },
  {
   "cell_type": "markdown",
   "metadata": {},
   "source": [
    "**Функция ошибки.**"
   ]
  },
  {
   "cell_type": "code",
   "execution_count": 4,
   "metadata": {
    "collapsed": true
   },
   "outputs": [],
   "source": [
    "def log_error(df, w1, w2, reg_param):\n",
    "    margins = df['Class']*(w1*df['x1'] + w2*df['x2'])\n",
    "    return margins.apply(lambda x: log(1 + exp(-x))).sum() / float(df.shape[0]) +\\\n",
    "            0.5 * reg_param * sqrt(w1 ** 2 + w2 ** 2)"
   ]
  },
  {
   "cell_type": "code",
   "execution_count": 5,
   "metadata": {
    "collapsed": false
   },
   "outputs": [
    {
     "name": "stdout",
     "output_type": "stream",
     "text": [
      "0.69314718056\n"
     ]
    }
   ],
   "source": [
    "print(log_error(data, 0, 0, 0.1))"
   ]
  },
  {
   "cell_type": "markdown",
   "metadata": {},
   "source": [
    "**Ответ алгоритма.**"
   ]
  },
  {
   "cell_type": "code",
   "execution_count": 6,
   "metadata": {
    "collapsed": true
   },
   "outputs": [],
   "source": [
    "def a(df, w1, w2):\n",
    "    return (w1*df['x1'] + w2*df['x2']).apply(lambda x: 1. / (1 + exp(-x)))"
   ]
  },
  {
   "cell_type": "markdown",
   "metadata": {},
   "source": [
    "**Градиентный спуск.**"
   ]
  },
  {
   "cell_type": "code",
   "execution_count": 7,
   "metadata": {
    "collapsed": true
   },
   "outputs": [],
   "source": [
    "def grad_step(df, w1, w2, reg_param, step, regularize=True):\n",
    "    margins = data['Class']*(w1*data['x1'] + w2*data['x2'])\n",
    "    margins = margins.apply(lambda x: 1 - 1./(1 + exp(-x)))\n",
    "    x1_grad = (data['Class'] * data['x1'] * margins).sum() / float(df.shape[0])\n",
    "    x2_grad = (data['Class'] * data['x2'] * margins).sum() / float(df.shape[0])\n",
    "    new_w1 = w1 + step * x1_grad\n",
    "    new_w2 = w2 + step * x2_grad\n",
    "    if regularize:\n",
    "        new_w1 -= step * reg_param * w1\n",
    "        new_w2 -= step * reg_param * w2\n",
    "    return new_w1, new_w2"
   ]
  },
  {
   "cell_type": "code",
   "execution_count": 8,
   "metadata": {
    "collapsed": true
   },
   "outputs": [],
   "source": [
    "def grad_descent(df, error_func, \n",
    "                 init_point=(0,0), step=0.1, regularize=True,\n",
    "                max_iter=10000, max_error=1e-5, reg_param=0.1):\n",
    "    w1, w2 = init_point\n",
    "    for i in range(max_iter):\n",
    "        w1, w2 = grad_step(df, w1, w2, reg_param, step,\n",
    "                          regularize=regularize)\n",
    "        new_error = error_func(df, w1, w2, reg_param)\n",
    "        if new_error <= max_error:\n",
    "            return w1, w2, new_error\n",
    "    return w1, w2, new_error"
   ]
  },
  {
   "cell_type": "markdown",
   "metadata": {},
   "source": [
    "**Запуск без регуляризации.**"
   ]
  },
  {
   "cell_type": "code",
   "execution_count": 10,
   "metadata": {
    "collapsed": false
   },
   "outputs": [],
   "source": [
    "w1, w2, err = grad_descent(data, log_error, step=0.1, regularize=False,\n",
    "                           init_point=(0, 0), max_iter=10000)"
   ]
  },
  {
   "cell_type": "code",
   "execution_count": 11,
   "metadata": {
    "collapsed": false
   },
   "outputs": [
    {
     "data": {
      "text/plain": [
       "(0.2881081945770693, 0.09170910047596165, 0.6536875325355475)"
      ]
     },
     "execution_count": 11,
     "metadata": {},
     "output_type": "execute_result"
    }
   ],
   "source": [
    "w1, w2, err"
   ]
  },
  {
   "cell_type": "code",
   "execution_count": 12,
   "metadata": {
    "collapsed": false
   },
   "outputs": [
    {
     "data": {
      "text/plain": [
       "0.92676190476190468"
      ]
     },
     "execution_count": 12,
     "metadata": {},
     "output_type": "execute_result"
    }
   ],
   "source": [
    "roc_auc_score(data['Class'], a(data[['x1', 'x2']], w1, w2))"
   ]
  },
  {
   "cell_type": "markdown",
   "metadata": {},
   "source": [
    "**Запуск с регуляризацией.**"
   ]
  },
  {
   "cell_type": "code",
   "execution_count": 13,
   "metadata": {
    "collapsed": true
   },
   "outputs": [],
   "source": [
    "w1, w2, err = grad_descent(data, log_error, step=0.1,\n",
    "                           init_point=(0, 0), \n",
    "                           regularize=True, max_iter=10000)"
   ]
  },
  {
   "cell_type": "code",
   "execution_count": 14,
   "metadata": {
    "collapsed": false
   },
   "outputs": [
    {
     "data": {
      "text/plain": [
       "(0.24122089712619665, 0.1051394906743666, 0.6522166471591115)"
      ]
     },
     "execution_count": 14,
     "metadata": {},
     "output_type": "execute_result"
    }
   ],
   "source": [
    "w1, w2, err"
   ]
  },
  {
   "cell_type": "code",
   "execution_count": 15,
   "metadata": {
    "collapsed": false
   },
   "outputs": [
    {
     "data": {
      "text/plain": [
       "0.93104761904761901"
      ]
     },
     "execution_count": 15,
     "metadata": {},
     "output_type": "execute_result"
    }
   ],
   "source": [
    "roc_auc_score(data['Class'], a(data[['x1', 'x2']], w1, w2))"
   ]
  }
 ],
 "metadata": {
  "kernelspec": {
   "display_name": "Python 2",
   "language": "python",
   "name": "python2"
  },
  "language_info": {
   "codemirror_mode": {
    "name": "ipython",
    "version": 2
   },
   "file_extension": ".py",
   "mimetype": "text/x-python",
   "name": "python",
   "nbconvert_exporter": "python",
   "pygments_lexer": "ipython2",
   "version": "2.7.11"
  }
 },
 "nbformat": 4,
 "nbformat_minor": 0
}
