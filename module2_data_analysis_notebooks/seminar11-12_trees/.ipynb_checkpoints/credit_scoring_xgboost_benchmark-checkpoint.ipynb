{
 "cells": [
  {
   "cell_type": "markdown",
   "metadata": {},
   "source": [
    "<center>\n",
    "<img src=\"../../img/ml_theme.png\">\n",
    "# Майнор \"Интеллектуальный анализ данных\" \n",
    "# Курс \"Введение в анализ данных\"\n",
    "<img src=\"../../img/faculty_logo.jpg\" height=\"240\" width=\"240\">\n",
    "## Автор материала: преподаватель ФКН НИУ ВШЭ Кашницкий Юрий\n",
    "</center>\n",
    "Материал распространяется на условиях лицензии <a href=\"http://www.microsoft.com/en-us/openness/default.aspx#Ms-RL\">Ms-RL</a>. Можно использовать в любых целях, но с обязательным упоминанием автора курса и аффилиации."
   ]
  },
  {
   "cell_type": "markdown",
   "metadata": {},
   "source": [
    "# Семинар 12. Случайный лес и бустинг"
   ]
  },
  {
   "cell_type": "markdown",
   "metadata": {},
   "source": [
    "## Практика. Соревнование по кредитному скорингу. Xgboost"
   ]
  },
  {
   "cell_type": "markdown",
   "metadata": {},
   "source": [
    "[Соревнование](https://inclass.kaggle.com/c/beeline-credit-scoring-competition)\n",
    "\n",
    "Здесь мы будет прогнозировать, что человек просрочит выплаты по кредиту на 3 месяца и более (целевой признак - Delinquent90).\n",
    "\n",
    "Признаки клиентов банка:\n",
    "\n",
    "- Age - возраст (вещественный)\n",
    "- Income - месячный доход (вещественный)\n",
    "- BalanceToCreditLimit - отношение баланса на кредитной карте к лимиту по кредиту (вещественный)\n",
    "- DIR - Debt-to-income Ratio (вещественный)\n",
    "- NumLoans - число заемов и кредитных линий\n",
    "- NumRealEstateLoans - число ипотек и заемов, связанных с недвижимостью (натуральное число)\n",
    "- NumDependents - число членов семьи, которых содержит клиент, исключая самого клиента (натуральное число)\n",
    "- Num30-59Delinquencies - число просрочек выплат по кредиту от 30 до 59 дней (натуральное число)\n",
    "- Num60-89Delinquencies - число просрочек выплат по кредиту от 60 до 89 дней (натуральное число)\n",
    "- Delinquent90 - были ли просрочки выплат по кредиту более 90 дней (бинарный) - имеется только в обучающей выборке"
   ]
  },
  {
   "cell_type": "code",
   "execution_count": 2,
   "metadata": {
    "collapsed": false
   },
   "outputs": [
    {
     "name": "stdout",
     "output_type": "stream",
     "text": [
      "Populating the interactive namespace from numpy and matplotlib\n"
     ]
    }
   ],
   "source": [
    "import warnings\n",
    "warnings.filterwarnings('ignore')\n",
    "import numpy as np\n",
    "import pandas as pd\n",
    "from sklearn.preprocessing import StandardScaler\n",
    "import xgboost as xgb\n",
    "from sklearn.cross_validation import StratifiedKFold\n",
    "from sklearn.metrics import roc_auc_score\n",
    "%pylab inline"
   ]
  },
  {
   "cell_type": "code",
   "execution_count": 3,
   "metadata": {
    "collapsed": true
   },
   "outputs": [],
   "source": [
    "train_df = pd.read_csv('../../data/credit_scoring_train.csv', index_col='client_id')\n",
    "test_df = pd.read_csv('../../data/credit_scoring_test.csv', index_col='client_id')"
   ]
  },
  {
   "cell_type": "code",
   "execution_count": 4,
   "metadata": {
    "collapsed": true
   },
   "outputs": [],
   "source": [
    "y = train_df['Delinquent90']\n",
    "train_df.drop('Delinquent90', axis=1, inplace=True)"
   ]
  },
  {
   "cell_type": "code",
   "execution_count": 5,
   "metadata": {
    "collapsed": false
   },
   "outputs": [
    {
     "data": {
      "text/html": [
       "<div>\n",
       "<table border=\"1\" class=\"dataframe\">\n",
       "  <thead>\n",
       "    <tr style=\"text-align: right;\">\n",
       "      <th></th>\n",
       "      <th>DIR</th>\n",
       "      <th>Age</th>\n",
       "      <th>NumLoans</th>\n",
       "      <th>NumRealEstateLoans</th>\n",
       "      <th>NumDependents</th>\n",
       "      <th>Num30-59Delinquencies</th>\n",
       "      <th>Num60-89Delinquencies</th>\n",
       "      <th>Income</th>\n",
       "      <th>BalanceToCreditLimit</th>\n",
       "    </tr>\n",
       "    <tr>\n",
       "      <th>client_id</th>\n",
       "      <th></th>\n",
       "      <th></th>\n",
       "      <th></th>\n",
       "      <th></th>\n",
       "      <th></th>\n",
       "      <th></th>\n",
       "      <th></th>\n",
       "      <th></th>\n",
       "      <th></th>\n",
       "    </tr>\n",
       "  </thead>\n",
       "  <tbody>\n",
       "    <tr>\n",
       "      <th>0</th>\n",
       "      <td>0.496289</td>\n",
       "      <td>49.1</td>\n",
       "      <td>13</td>\n",
       "      <td>0</td>\n",
       "      <td>0.0</td>\n",
       "      <td>2</td>\n",
       "      <td>0</td>\n",
       "      <td>5298.360639</td>\n",
       "      <td>0.387028</td>\n",
       "    </tr>\n",
       "    <tr>\n",
       "      <th>1</th>\n",
       "      <td>0.433567</td>\n",
       "      <td>48.0</td>\n",
       "      <td>9</td>\n",
       "      <td>2</td>\n",
       "      <td>2.0</td>\n",
       "      <td>1</td>\n",
       "      <td>0</td>\n",
       "      <td>6008.056256</td>\n",
       "      <td>0.234679</td>\n",
       "    </tr>\n",
       "    <tr>\n",
       "      <th>2</th>\n",
       "      <td>2206.731199</td>\n",
       "      <td>55.5</td>\n",
       "      <td>21</td>\n",
       "      <td>1</td>\n",
       "      <td>NaN</td>\n",
       "      <td>1</td>\n",
       "      <td>0</td>\n",
       "      <td>NaN</td>\n",
       "      <td>0.348227</td>\n",
       "    </tr>\n",
       "    <tr>\n",
       "      <th>3</th>\n",
       "      <td>886.132793</td>\n",
       "      <td>55.3</td>\n",
       "      <td>3</td>\n",
       "      <td>0</td>\n",
       "      <td>0.0</td>\n",
       "      <td>0</td>\n",
       "      <td>0</td>\n",
       "      <td>NaN</td>\n",
       "      <td>0.971930</td>\n",
       "    </tr>\n",
       "    <tr>\n",
       "      <th>4</th>\n",
       "      <td>0.000000</td>\n",
       "      <td>52.3</td>\n",
       "      <td>1</td>\n",
       "      <td>0</td>\n",
       "      <td>0.0</td>\n",
       "      <td>0</td>\n",
       "      <td>0</td>\n",
       "      <td>2504.613105</td>\n",
       "      <td>1.004350</td>\n",
       "    </tr>\n",
       "  </tbody>\n",
       "</table>\n",
       "</div>"
      ],
      "text/plain": [
       "                   DIR   Age  NumLoans  NumRealEstateLoans  NumDependents  \\\n",
       "client_id                                                                   \n",
       "0             0.496289  49.1        13                   0            0.0   \n",
       "1             0.433567  48.0         9                   2            2.0   \n",
       "2          2206.731199  55.5        21                   1            NaN   \n",
       "3           886.132793  55.3         3                   0            0.0   \n",
       "4             0.000000  52.3         1                   0            0.0   \n",
       "\n",
       "           Num30-59Delinquencies  Num60-89Delinquencies       Income  \\\n",
       "client_id                                                              \n",
       "0                              2                      0  5298.360639   \n",
       "1                              1                      0  6008.056256   \n",
       "2                              1                      0          NaN   \n",
       "3                              0                      0          NaN   \n",
       "4                              0                      0  2504.613105   \n",
       "\n",
       "           BalanceToCreditLimit  \n",
       "client_id                        \n",
       "0                      0.387028  \n",
       "1                      0.234679  \n",
       "2                      0.348227  \n",
       "3                      0.971930  \n",
       "4                      1.004350  "
      ]
     },
     "execution_count": 5,
     "metadata": {},
     "output_type": "execute_result"
    }
   ],
   "source": [
    "train_df.head()"
   ]
  },
  {
   "cell_type": "markdown",
   "metadata": {},
   "source": [
    "**Посчитайте число пропусков в каждом признаке.**"
   ]
  },
  {
   "cell_type": "code",
   "execution_count": 6,
   "metadata": {
    "collapsed": false
   },
   "outputs": [
    {
     "name": "stdout",
     "output_type": "stream",
     "text": [
      "DIR, num. NA's: 0\n",
      "Age, num. NA's: 0\n",
      "NumLoans, num. NA's: 0\n",
      "NumRealEstateLoans, num. NA's: 0\n",
      "NumDependents, num. NA's: 1916\n",
      "Num30-59Delinquencies, num. NA's: 0\n",
      "Num60-89Delinquencies, num. NA's: 0\n",
      "Income, num. NA's: 14847\n",
      "BalanceToCreditLimit, num. NA's: 0\n"
     ]
    }
   ],
   "source": [
    "for col in train_df.columns:\n",
    "    print(\"{0}, num. NA's: {1}\".format(col, pd.isnull(train_df[col]).sum()))"
   ]
  },
  {
   "cell_type": "code",
   "execution_count": 7,
   "metadata": {
    "collapsed": false
   },
   "outputs": [
    {
     "name": "stdout",
     "output_type": "stream",
     "text": [
      "DIR, num. NA's: 0\n",
      "Age, num. NA's: 0\n",
      "NumLoans, num. NA's: 0\n",
      "NumRealEstateLoans, num. NA's: 0\n",
      "NumDependents, num. NA's: 2008\n",
      "Num30-59Delinquencies, num. NA's: 0\n",
      "Num60-89Delinquencies, num. NA's: 0\n",
      "Income, num. NA's: 14884\n",
      "BalanceToCreditLimit, num. NA's: 0\n"
     ]
    }
   ],
   "source": [
    "for col in test_df.columns:\n",
    "    print(\"{0}, num. NA's: {1}\".format(col, pd.isnull(test_df[col]).sum()))"
   ]
  },
  {
   "cell_type": "markdown",
   "metadata": {},
   "source": [
    "**Замените пропуски медианными значениями.**"
   ]
  },
  {
   "cell_type": "code",
   "execution_count": 8,
   "metadata": {
    "collapsed": true
   },
   "outputs": [],
   "source": [
    "train_df['NumDependents'].fillna(train_df['NumDependents'].median(), inplace=True)\n",
    "train_df['Income'].fillna(train_df['Income'].median(), inplace=True)\n",
    "test_df['NumDependents'].fillna(test_df['NumDependents'].median(), inplace=True)\n",
    "test_df['Income'].fillna(test_df['Income'].median(), inplace=True)"
   ]
  },
  {
   "cell_type": "markdown",
   "metadata": {},
   "source": [
    "**Проведите кросс-валидацию с Xgboost с помо**"
   ]
  },
  {
   "cell_type": "code",
   "execution_count": 9,
   "metadata": {
    "collapsed": false
   },
   "outputs": [],
   "source": [
    "dtrain = xgb.DMatrix(data=train_df.values, label=y)"
   ]
  },
  {
   "cell_type": "code",
   "execution_count": 10,
   "metadata": {
    "collapsed": false
   },
   "outputs": [
    {
     "name": "stderr",
     "output_type": "stream",
     "text": [
      "[0]\tcv-test-auc:0.785080333333+0.0244357997527\tcv-train-auc:0.794484+0.0285592483445\n",
      "[1]\tcv-test-auc:0.829924333333+0.00742989153502\tcv-train-auc:0.836047+0.00219539943215\n",
      "[2]\tcv-test-auc:0.828198+0.00676770290916\tcv-train-auc:0.836112+0.00295067178792\n",
      "[3]\tcv-test-auc:0.829377333333+0.008661129154\tcv-train-auc:0.838102+0.00332725111766\n",
      "[4]\tcv-test-auc:0.829179+0.0107508840877\tcv-train-auc:0.839347666667+0.00561314869055\n",
      "[5]\tcv-test-auc:0.831528+0.0101182228018\tcv-train-auc:0.841546333333+0.00521915065461\n",
      "[6]\tcv-test-auc:0.834610333333+0.00549039047387\tcv-train-auc:0.84515+0.00155319047984\n",
      "[7]\tcv-test-auc:0.834411666667+0.00582365591551\tcv-train-auc:0.844499666667+0.00176936718129\n",
      "[8]\tcv-test-auc:0.834627333333+0.00708486821018\tcv-train-auc:0.844442+0.00242765991578\n",
      "[9]\tcv-test-auc:0.836072333333+0.00520396299842\tcv-train-auc:0.846025+0.000949244260803\n",
      "[10]\tcv-test-auc:0.835924333333+0.00581139853124\tcv-train-auc:0.846102333333+0.00156266787543\n",
      "[11]\tcv-test-auc:0.836037+0.00650169706051\tcv-train-auc:0.846235666667+0.00185738567765\n",
      "[12]\tcv-test-auc:0.836458+0.00769459602578\tcv-train-auc:0.846467+0.00288247856309\n",
      "[13]\tcv-test-auc:0.836224333333+0.00778004645802\tcv-train-auc:0.846570666667+0.00346889937716\n",
      "[14]\tcv-test-auc:0.837879666667+0.00625433685978\tcv-train-auc:0.848095666667+0.00200841468715\n",
      "[15]\tcv-test-auc:0.838295+0.00435343749237\tcv-train-auc:0.849372+0.000487767020889\n",
      "[16]\tcv-test-auc:0.839421666667+0.00361151513295\tcv-train-auc:0.850774+0.000451569116157\n",
      "[17]\tcv-test-auc:0.840450666667+0.00347305152408\tcv-train-auc:0.851733666667+0.000734043292698\n",
      "[18]\tcv-test-auc:0.841189666667+0.00351963495582\tcv-train-auc:0.852363666667+0.000984592752811\n",
      "[19]\tcv-test-auc:0.841331+0.00365173410861\tcv-train-auc:0.852624666667+0.00101922105333\n",
      "[20]\tcv-test-auc:0.841877333333+0.00383027208201\tcv-train-auc:0.853238+0.00110622089416\n",
      "[21]\tcv-test-auc:0.841878+0.0038065599518\tcv-train-auc:0.853237+0.000731954916644\n",
      "[22]\tcv-test-auc:0.841844666667+0.00380963316986\tcv-train-auc:0.853161333333+0.00084670551092\n",
      "[23]\tcv-test-auc:0.841621+0.0036247816486\tcv-train-auc:0.853115+0.000854953020152\n",
      "[24]\tcv-test-auc:0.841850666667+0.0035598299897\tcv-train-auc:0.853539+0.000976760291303\n",
      "[25]\tcv-test-auc:0.842089333333+0.00393759531807\tcv-train-auc:0.853778+0.000889675596308\n",
      "[26]\tcv-test-auc:0.841938666667+0.00391567212905\tcv-train-auc:0.853662+0.00098744755135\n",
      "[27]\tcv-test-auc:0.842064333333+0.00404498325776\tcv-train-auc:0.853719333333+0.000984741703302\n",
      "[28]\tcv-test-auc:0.842177333333+0.00433093910781\tcv-train-auc:0.853762+0.00087860381667\n",
      "[29]\tcv-test-auc:0.842415333333+0.00421094259704\tcv-train-auc:0.854200333333+0.000738221887752\n",
      "[30]\tcv-test-auc:0.842408666667+0.00396800658042\tcv-train-auc:0.854393666667+0.00133304096795\n",
      "[31]\tcv-test-auc:0.842449666667+0.00386059359282\tcv-train-auc:0.854573666667+0.00159712957799\n",
      "[32]\tcv-test-auc:0.842465+0.00369366222964\tcv-train-auc:0.854709666667+0.00172016323515\n",
      "[33]\tcv-test-auc:0.84271+0.00370510089831\tcv-train-auc:0.855016+0.00164025993875\n",
      "[34]\tcv-test-auc:0.842709+0.0037831576758\tcv-train-auc:0.855077666667+0.00161532851836\n",
      "[35]\tcv-test-auc:0.842868+0.00381291410866\tcv-train-auc:0.855302+0.00147041649429\n",
      "[36]\tcv-test-auc:0.843081+0.00394286122843\tcv-train-auc:0.855470666667+0.00155704984577\n",
      "[37]\tcv-test-auc:0.843208666667+0.00401060181131\tcv-train-auc:0.855644666667+0.00154236924531\n",
      "[38]\tcv-test-auc:0.843354333333+0.00381833299869\tcv-train-auc:0.855716666667+0.00155118886306\n",
      "[39]\tcv-test-auc:0.843273+0.00387379305935\tcv-train-auc:0.855823+0.00160644597378\n",
      "[40]\tcv-test-auc:0.843249+0.00383159783902\tcv-train-auc:0.855911333333+0.00159384259644\n",
      "[41]\tcv-test-auc:0.843225+0.00371765759585\tcv-train-auc:0.855944333333+0.00165972815713\n",
      "[42]\tcv-test-auc:0.843484666667+0.00360509059834\tcv-train-auc:0.856275666667+0.00179338234134\n",
      "[43]\tcv-test-auc:0.843555333333+0.00379439765385\tcv-train-auc:0.856362333333+0.00167295752752\n",
      "[44]\tcv-test-auc:0.843402+0.00368356376353\tcv-train-auc:0.856399+0.00162407327421\n",
      "[45]\tcv-test-auc:0.843401666667+0.00378992614997\tcv-train-auc:0.856451333333+0.00158740046057\n",
      "[46]\tcv-test-auc:0.843447+0.00371367239625\tcv-train-auc:0.856604333333+0.00160747966982\n",
      "[47]\tcv-test-auc:0.843606333333+0.00356097836119\tcv-train-auc:0.856761333333+0.00171030335191\n",
      "[48]\tcv-test-auc:0.843705333333+0.00348752924321\tcv-train-auc:0.856853333333+0.00173019928204\n",
      "[49]\tcv-test-auc:0.843842333333+0.00346250009226\tcv-train-auc:0.856968+0.00186591693277\n",
      "[50]\tcv-test-auc:0.843769666667+0.00338032664431\tcv-train-auc:0.857059+0.00181745701462\n",
      "[51]\tcv-test-auc:0.843733333333+0.0033594166491\tcv-train-auc:0.857016333333+0.00180533179468\n",
      "[52]\tcv-test-auc:0.843701+0.00333619134144\tcv-train-auc:0.856989+0.00178379763426\n",
      "[53]\tcv-test-auc:0.843745333333+0.00341622036109\tcv-train-auc:0.857101666667+0.00166695177561\n",
      "[54]\tcv-test-auc:0.843802+0.00341223533772\tcv-train-auc:0.85718+0.00157383163013\n",
      "[55]\tcv-test-auc:0.843905+0.00340781875496\tcv-train-auc:0.857273333333+0.00155542755823\n",
      "[56]\tcv-test-auc:0.843947666667+0.00329976002494\tcv-train-auc:0.857491333333+0.00161508644419\n",
      "[57]\tcv-test-auc:0.844017666667+0.00333273924706\tcv-train-auc:0.857575333333+0.00151729942844\n",
      "[58]\tcv-test-auc:0.844047+0.00348280777534\tcv-train-auc:0.857641+0.00154370485089\n",
      "[59]\tcv-test-auc:0.844032+0.00348209247436\tcv-train-auc:0.857745333333+0.00171351574904\n",
      "[60]\tcv-test-auc:0.843917333333+0.00351564051379\tcv-train-auc:0.857611666667+0.00166296168193\n",
      "[61]\tcv-test-auc:0.843942666667+0.00357707183166\tcv-train-auc:0.857632666667+0.00154749439058\n",
      "[62]\tcv-test-auc:0.843977+0.00350951801059\tcv-train-auc:0.857637+0.00167840479821\n",
      "[63]\tcv-test-auc:0.844043666667+0.00340471186577\tcv-train-auc:0.85768+0.00172033562617\n",
      "[64]\tcv-test-auc:0.844025666667+0.00335042617521\tcv-train-auc:0.857790333333+0.0016847491076\n",
      "[65]\tcv-test-auc:0.844021666667+0.00340690136178\tcv-train-auc:0.857829+0.00170820080787\n",
      "[66]\tcv-test-auc:0.843963333333+0.00342546895411\tcv-train-auc:0.857923333333+0.00171241765414\n",
      "[67]\tcv-test-auc:0.843986333333+0.00341907222633\tcv-train-auc:0.857985+0.00165483131064\n",
      "[68]\tcv-test-auc:0.843972333333+0.0033708986273\tcv-train-auc:0.857982666667+0.00167712975712\n",
      "[69]\tcv-test-auc:0.843982333333+0.0033906925874\tcv-train-auc:0.858071+0.00161218630024\n",
      "[70]\tcv-test-auc:0.844038333333+0.00342148129064\tcv-train-auc:0.858087+0.00168099157246\n",
      "[71]\tcv-test-auc:0.844108666667+0.00337850828358\tcv-train-auc:0.858192333333+0.00169340137659\n",
      "[72]\tcv-test-auc:0.844172333333+0.00337897117807\tcv-train-auc:0.858256333333+0.00175057044671\n",
      "[73]\tcv-test-auc:0.844165666667+0.00332977780373\tcv-train-auc:0.858267+0.00170896830476\n",
      "[74]\tcv-test-auc:0.844253+0.00327036827692\tcv-train-auc:0.858442666667+0.0019141358944\n",
      "[75]\tcv-test-auc:0.844332666667+0.00331051872404\tcv-train-auc:0.858520666667+0.00189875403591\n",
      "[76]\tcv-test-auc:0.844304666667+0.00336258088709\tcv-train-auc:0.858479+0.00189293916085\n",
      "[77]\tcv-test-auc:0.844335+0.00332859139377\tcv-train-auc:0.858477333333+0.00189856372614\n",
      "[78]\tcv-test-auc:0.844317666667+0.00324578827953\tcv-train-auc:0.858651666667+0.0019151574928\n",
      "[79]\tcv-test-auc:0.844327333333+0.00325546866399\tcv-train-auc:0.858679333333+0.0018809434394\n",
      "[80]\tcv-test-auc:0.844299333333+0.00323943352387\tcv-train-auc:0.858692+0.00195820274742\n",
      "[81]\tcv-test-auc:0.844364333333+0.00322334239916\tcv-train-auc:0.858711+0.00192911015756\n",
      "[82]\tcv-test-auc:0.844403+0.00326474531932\tcv-train-auc:0.858727+0.00188679746308\n",
      "[83]\tcv-test-auc:0.844454+0.00324793175216\tcv-train-auc:0.858803666667+0.00189724191628\n",
      "[84]\tcv-test-auc:0.844463333333+0.00325704306934\tcv-train-auc:0.858814+0.0019234053135\n",
      "[85]\tcv-test-auc:0.844471+0.0032633844395\tcv-train-auc:0.858827333333+0.00191261153633\n",
      "[86]\tcv-test-auc:0.844453+0.00325714793442\tcv-train-auc:0.858897666667+0.00183643029332\n",
      "[87]\tcv-test-auc:0.844498333333+0.0032040620399\tcv-train-auc:0.858967+0.00191452674744\n",
      "[88]\tcv-test-auc:0.844601666667+0.00314608543361\tcv-train-auc:0.859114+0.00196677112717\n",
      "[89]\tcv-test-auc:0.844613333333+0.0031799153378\tcv-train-auc:0.859124+0.00198942319949\n",
      "[90]\tcv-test-auc:0.844635+0.00318469852053\tcv-train-auc:0.859310333333+0.00207591848481\n",
      "[91]\tcv-test-auc:0.844642666667+0.00317142242885\tcv-train-auc:0.859374+0.00202900188927\n",
      "[92]\tcv-test-auc:0.844595666667+0.00314454843958\tcv-train-auc:0.859435+0.00198823154252\n",
      "[93]\tcv-test-auc:0.844606+0.00311592340513\tcv-train-auc:0.859526333333+0.00193404607552\n",
      "[94]\tcv-test-auc:0.844666333333+0.00315946159267\tcv-train-auc:0.859629333333+0.0019235471285\n",
      "[95]\tcv-test-auc:0.844701666667+0.00312215804995\tcv-train-auc:0.859667666667+0.00201231977799\n",
      "[96]\tcv-test-auc:0.844728666667+0.00311383711128\tcv-train-auc:0.859705333333+0.0020556475595\n",
      "[97]\tcv-test-auc:0.844683666667+0.00312102700334\tcv-train-auc:0.859794666667+0.00204208232504\n",
      "[98]\tcv-test-auc:0.844705666667+0.0030863102386\tcv-train-auc:0.859901333333+0.00200188583313\n",
      "[99]\tcv-test-auc:0.844741333333+0.00310890831143\tcv-train-auc:0.859937+0.0019756929586\n",
      "[100]\tcv-test-auc:0.844704666667+0.00311032006213\tcv-train-auc:0.859925+0.00198396790969\n",
      "[101]\tcv-test-auc:0.844762+0.00309635021706\tcv-train-auc:0.860005666667+0.00191729085488\n",
      "[102]\tcv-test-auc:0.844756333333+0.00306178666069\tcv-train-auc:0.860091333333+0.00196993406545\n",
      "[103]\tcv-test-auc:0.844829+0.00311337212681\tcv-train-auc:0.860127333333+0.00191251498179\n",
      "[104]\tcv-test-auc:0.844898666667+0.00315899059124\tcv-train-auc:0.860243666667+0.00187655310491\n",
      "[105]\tcv-test-auc:0.844861333333+0.00313646152358\tcv-train-auc:0.860309333333+0.00185727512472\n",
      "[106]\tcv-test-auc:0.844902+0.00310632333582\tcv-train-auc:0.860336333333+0.00199832702251\n",
      "[107]\tcv-test-auc:0.844909666667+0.00311013722455\tcv-train-auc:0.860361333333+0.00199277717994\n",
      "[108]\tcv-test-auc:0.844922333333+0.00307557499592\tcv-train-auc:0.860376666667+0.00201393848521\n",
      "[109]\tcv-test-auc:0.844927666667+0.00307490166058\tcv-train-auc:0.860388333333+0.00206783015636\n",
      "[110]\tcv-test-auc:0.844965666667+0.00309514828221\tcv-train-auc:0.860481666667+0.00197272270958\n",
      "[111]\tcv-test-auc:0.844984666667+0.00309030681684\tcv-train-auc:0.860514666667+0.00191673060763\n",
      "[112]\tcv-test-auc:0.844980333333+0.00309488657125\tcv-train-auc:0.860551666667+0.00184325876884\n",
      "[113]\tcv-test-auc:0.845050666667+0.00304486960129\tcv-train-auc:0.860668+0.00183694438312\n",
      "[114]\tcv-test-auc:0.845031333333+0.00309633012165\tcv-train-auc:0.860661+0.00185937910784\n",
      "[115]\tcv-test-auc:0.845075+0.00306461231915\tcv-train-auc:0.860789666667+0.00185799360123\n",
      "[116]\tcv-test-auc:0.845138+0.0030908498292\tcv-train-auc:0.860870333333+0.00187229366168\n",
      "[117]\tcv-test-auc:0.845249666667+0.00300059908833\tcv-train-auc:0.860964333333+0.00189497235395\n",
      "[118]\tcv-test-auc:0.845221666667+0.0029889722128\tcv-train-auc:0.861072+0.00189615681489\n",
      "[119]\tcv-test-auc:0.845227666667+0.00299111376506\tcv-train-auc:0.861241333333+0.0018873032495\n",
      "[120]\tcv-test-auc:0.845229+0.00298074901101\tcv-train-auc:0.861261+0.00195018067539\n",
      "[121]\tcv-test-auc:0.845240666667+0.00300149233253\tcv-train-auc:0.861333333333+0.00199142400195\n",
      "[122]\tcv-test-auc:0.845308+0.00302105952716\tcv-train-auc:0.861311+0.00198120316979\n",
      "[123]\tcv-test-auc:0.845312333333+0.00300530479135\tcv-train-auc:0.861381333333+0.00195780103404\n",
      "[124]\tcv-test-auc:0.845325666667+0.00304888354794\tcv-train-auc:0.861471333333+0.00186537330193\n",
      "[125]\tcv-test-auc:0.845328666667+0.00307912761816\tcv-train-auc:0.861497333333+0.00183298742191\n",
      "[126]\tcv-test-auc:0.84539+0.0030833518558\tcv-train-auc:0.861569666667+0.00183486063655\n",
      "[127]\tcv-test-auc:0.845396+0.00307909380608\tcv-train-auc:0.861645+0.00186489731621\n",
      "[128]\tcv-test-auc:0.845422+0.00308240728436\tcv-train-auc:0.861698333333+0.00188339274243\n",
      "[129]\tcv-test-auc:0.845441666667+0.00308419458242\tcv-train-auc:0.861772+0.00186251514535\n",
      "[130]\tcv-test-auc:0.845426333333+0.00311157680642\tcv-train-auc:0.861776666667+0.00183405004173\n",
      "[131]\tcv-test-auc:0.845406666667+0.00309820596833\tcv-train-auc:0.861778+0.00180725777538\n",
      "[132]\tcv-test-auc:0.845377+0.00312356985942\tcv-train-auc:0.861864666667+0.00183266769734\n",
      "[133]\tcv-test-auc:0.845392333333+0.00308776794609\tcv-train-auc:0.861879333333+0.00184456396534\n",
      "[134]\tcv-test-auc:0.84544+0.00304151574055\tcv-train-auc:0.861922+0.00190493201978\n",
      "[135]\tcv-test-auc:0.845472+0.00308625641622\tcv-train-auc:0.861981666667+0.00190741960658\n",
      "[136]\tcv-test-auc:0.845477333333+0.00307874133734\tcv-train-auc:0.861991666667+0.00192079885002\n",
      "[137]\tcv-test-auc:0.845479333333+0.00304369537825\tcv-train-auc:0.861995+0.00195739486733\n",
      "[138]\tcv-test-auc:0.845515333333+0.00307906147317\tcv-train-auc:0.862086+0.00192015745882\n",
      "[139]\tcv-test-auc:0.845542333333+0.00307872812845\tcv-train-auc:0.862144+0.00191748289866\n",
      "[140]\tcv-test-auc:0.845585+0.00305625435242\tcv-train-auc:0.862179333333+0.00194013063707\n",
      "[141]\tcv-test-auc:0.845545+0.00308233710032\tcv-train-auc:0.862227666667+0.0019608986602\n",
      "[142]\tcv-test-auc:0.845540333333+0.00306723462132\tcv-train-auc:0.862289333333+0.00191320922942\n",
      "[143]\tcv-test-auc:0.845559333333+0.00306964127473\tcv-train-auc:0.862325333333+0.00190317319817\n",
      "[144]\tcv-test-auc:0.84554+0.00308457139108\tcv-train-auc:0.86231+0.00192146003515\n",
      "[145]\tcv-test-auc:0.845540666667+0.00303889632743\tcv-train-auc:0.862337666667+0.00192747578166\n",
      "[146]\tcv-test-auc:0.845553333333+0.00301900693754\tcv-train-auc:0.862349666667+0.0019271810732\n",
      "[147]\tcv-test-auc:0.845571333333+0.00301321813939\tcv-train-auc:0.862372333333+0.00185503572892\n",
      "[148]\tcv-test-auc:0.845536666667+0.00306807402489\tcv-train-auc:0.862349+0.00186077958573\n",
      "[149]\tcv-test-auc:0.845523+0.00308662447775\tcv-train-auc:0.862359666667+0.0018305027239\n",
      "[150]\tcv-test-auc:0.845540666667+0.00309172792392\tcv-train-auc:0.862431333333+0.00183903205216\n",
      "[151]\tcv-test-auc:0.845593333333+0.00307376341893\tcv-train-auc:0.862454+0.00186638920557\n",
      "[152]\tcv-test-auc:0.845573+0.0031168209231\tcv-train-auc:0.862537+0.00184900856317\n",
      "[153]\tcv-test-auc:0.845559+0.00311079614676\tcv-train-auc:0.862582666667+0.00179744491493\n",
      "[154]\tcv-test-auc:0.845572+0.00316393215266\tcv-train-auc:0.862681333333+0.0017536113848\n",
      "[155]\tcv-test-auc:0.845572333333+0.00313995459981\tcv-train-auc:0.862737333333+0.00175455622753\n",
      "[156]\tcv-test-auc:0.845593666667+0.00316471445087\tcv-train-auc:0.862850333333+0.00167661371686\n",
      "[157]\tcv-test-auc:0.84563+0.00315469628755\tcv-train-auc:0.862929+0.00166551873801\n",
      "[158]\tcv-test-auc:0.845650666667+0.00321905993869\tcv-train-auc:0.862976+0.00159647883377\n",
      "[159]\tcv-test-auc:0.845633666667+0.00325036432146\tcv-train-auc:0.863012666667+0.00153954654219\n",
      "[160]\tcv-test-auc:0.845642333333+0.00330169454809\tcv-train-auc:0.863052+0.00149503600848\n",
      "[161]\tcv-test-auc:0.845748+0.0032365365233\tcv-train-auc:0.863210333333+0.00153379471319\n",
      "[162]\tcv-test-auc:0.845803333333+0.00318929420963\tcv-train-auc:0.863228333333+0.00157408181349\n",
      "[163]\tcv-test-auc:0.845856666667+0.00318649696201\tcv-train-auc:0.863345+0.00162097439832\n",
      "[164]\tcv-test-auc:0.84588+0.00320767745677\tcv-train-auc:0.863416333333+0.00157281368537\n",
      "[165]\tcv-test-auc:0.845877+0.00324219133715\tcv-train-auc:0.863502333333+0.00154001998544\n",
      "[166]\tcv-test-auc:0.845874333333+0.00325648238987\tcv-train-auc:0.863524666667+0.00153379753843\n",
      "[167]\tcv-test-auc:0.845913333333+0.00323064331399\tcv-train-auc:0.863621+0.00155808921439\n",
      "[168]\tcv-test-auc:0.845952+0.00324427249164\tcv-train-auc:0.863658+0.00155817264769\n",
      "[169]\tcv-test-auc:0.845942333333+0.00327266021592\tcv-train-auc:0.863729333333+0.00148823930274\n",
      "[170]\tcv-test-auc:0.845966666667+0.00322121191824\tcv-train-auc:0.863884333333+0.00151049888742\n",
      "[171]\tcv-test-auc:0.845974333333+0.00318399752233\tcv-train-auc:0.863948666667+0.00154731602748\n",
      "[172]\tcv-test-auc:0.845991+0.00315689752764\tcv-train-auc:0.863969+0.00156087347341\n",
      "[173]\tcv-test-auc:0.845964666667+0.00317255631243\tcv-train-auc:0.863976666667+0.00158825067991\n",
      "[174]\tcv-test-auc:0.845957666667+0.00318468630934\tcv-train-auc:0.863983666667+0.0015393523169\n",
      "[175]\tcv-test-auc:0.846015+0.0031332699639\tcv-train-auc:0.864084666667+0.00152807206055\n",
      "[176]\tcv-test-auc:0.846027666667+0.00317800884552\tcv-train-auc:0.86409+0.00152994139321\n",
      "[177]\tcv-test-auc:0.846061+0.00314211786327\tcv-train-auc:0.864181333333+0.00158548863831\n",
      "[178]\tcv-test-auc:0.846098+0.00315062575795\tcv-train-auc:0.864245666667+0.00160184150971\n",
      "[179]\tcv-test-auc:0.846059333333+0.00320069954159\tcv-train-auc:0.864337666667+0.00161473554766\n",
      "[180]\tcv-test-auc:0.846061+0.00314141380061\tcv-train-auc:0.864351+0.00162003353875\n",
      "[181]\tcv-test-auc:0.846038333333+0.00318606343663\tcv-train-auc:0.864353666667+0.00161389473703\n",
      "[182]\tcv-test-auc:0.846065333333+0.00324765683053\tcv-train-auc:0.864402+0.00155194480142\n",
      "[183]\tcv-test-auc:0.846121666667+0.00327319470175\tcv-train-auc:0.864481666667+0.00153411023796\n",
      "[184]\tcv-test-auc:0.84611+0.00327184840725\tcv-train-auc:0.864589+0.00146266970525\n",
      "[185]\tcv-test-auc:0.846127+0.00324299439819\tcv-train-auc:0.864649666667+0.00147296103894\n",
      "[186]\tcv-test-auc:0.846161333333+0.00326027916323\tcv-train-auc:0.864679666667+0.00145083340034\n",
      "[187]\tcv-test-auc:0.846126+0.00324827307965\tcv-train-auc:0.864744666667+0.00140132540435\n",
      "[188]\tcv-test-auc:0.846091666667+0.00323588600266\tcv-train-auc:0.864757+0.00137217515889\n",
      "[189]\tcv-test-auc:0.846124333333+0.00320959544007\tcv-train-auc:0.864803+0.00134115944864\n",
      "[190]\tcv-test-auc:0.846141333333+0.00319868476443\tcv-train-auc:0.864800333333+0.00130854227631\n",
      "[191]\tcv-test-auc:0.846136333333+0.00321961740308\tcv-train-auc:0.864855666667+0.00124111840245\n",
      "[192]\tcv-test-auc:0.846108666667+0.00319351074664\tcv-train-auc:0.864888333333+0.00123818828222\n",
      "[193]\tcv-test-auc:0.846101333333+0.00320161306566\tcv-train-auc:0.864957+0.00127941575208\n",
      "[194]\tcv-test-auc:0.846079+0.00322443049235\tcv-train-auc:0.864933+0.0012487564481\n",
      "[195]\tcv-test-auc:0.846092666667+0.00321542162433\tcv-train-auc:0.864981+0.00127611075799\n",
      "[196]\tcv-test-auc:0.846118666667+0.00318430152816\tcv-train-auc:0.864979+0.00130543504881\n",
      "[197]\tcv-test-auc:0.846158333333+0.00320508526494\tcv-train-auc:0.865027333333+0.00130276483765\n",
      "[198]\tcv-test-auc:0.846172666667+0.00321172937147\tcv-train-auc:0.865019333333+0.00126716753255\n",
      "[199]\tcv-test-auc:0.846171+0.0032222334904\tcv-train-auc:0.865059+0.00124908206296\n"
     ]
    }
   ],
   "source": [
    "param = {}\n",
    "param['objective']           = \"binary:logistic\"\n",
    "param['eval_metric']         = \"auc\" \n",
    "param['booster']             = \"gbtree\"\n",
    "param['eta']                 = 0.01\n",
    "param['max_depth']           = 6\n",
    "param['subsample']           = 0.5\n",
    "param['colsample_bytree']    = 0.5 \n",
    "param['min_child_weight']    = 0\n",
    "              \n",
    "clf = xgb.cv(params=param, dtrain=dtrain, \n",
    "             num_boost_round= 200, show_progress=1, nfold=3)"
   ]
  },
  {
   "cell_type": "code",
   "execution_count": 11,
   "metadata": {
    "collapsed": false
   },
   "outputs": [],
   "source": [
    "best_num_rounds = clf.index[np.argmax(clf['test-auc-mean'])]"
   ]
  },
  {
   "cell_type": "code",
   "execution_count": 12,
   "metadata": {
    "collapsed": false
   },
   "outputs": [
    {
     "data": {
      "text/plain": [
       "198"
      ]
     },
     "execution_count": 12,
     "metadata": {},
     "output_type": "execute_result"
    }
   ],
   "source": [
    "best_num_rounds"
   ]
  },
  {
   "cell_type": "code",
   "execution_count": 13,
   "metadata": {
    "collapsed": false
   },
   "outputs": [],
   "source": [
    "best_xgb = xgb.train(param, dtrain, best_num_rounds)"
   ]
  },
  {
   "cell_type": "markdown",
   "metadata": {},
   "source": [
    "**Прогноз для тестовой выборки.**"
   ]
  },
  {
   "cell_type": "code",
   "execution_count": 14,
   "metadata": {
    "collapsed": false
   },
   "outputs": [],
   "source": [
    "dtest = xgb.DMatrix(data=test_df.values)\n",
    "xgb_pred = best_xgb.predict(dtest)"
   ]
  },
  {
   "cell_type": "markdown",
   "metadata": {},
   "source": [
    "**Запишем прогноз в файл**"
   ]
  },
  {
   "cell_type": "code",
   "execution_count": 15,
   "metadata": {
    "collapsed": true
   },
   "outputs": [],
   "source": [
    "def write_to_submission_file(predicted_labels, out_file,\n",
    "                             target='Delinquent90', index_label=\"client_id\"):\n",
    "    # turn predictions into data frame and save as csv file\n",
    "    predicted_df = pd.DataFrame(predicted_labels,\n",
    "                                index = np.arange(75000, \n",
    "                                                  predicted_labels.shape[0] + 75000),\n",
    "                                columns=[target])\n",
    "    predicted_df.to_csv(out_file, index_label=index_label)"
   ]
  },
  {
   "cell_type": "code",
   "execution_count": 16,
   "metadata": {
    "collapsed": false
   },
   "outputs": [],
   "source": [
    "write_to_submission_file(xgb_pred, '../../output/credit_scoring_first_xgb_pred.csv')"
   ]
  }
 ],
 "metadata": {
  "kernelspec": {
   "display_name": "Python 2",
   "language": "python",
   "name": "python2"
  },
  "language_info": {
   "codemirror_mode": {
    "name": "ipython",
    "version": 2
   },
   "file_extension": ".py",
   "mimetype": "text/x-python",
   "name": "python",
   "nbconvert_exporter": "python",
   "pygments_lexer": "ipython2",
   "version": "2.7.11"
  }
 },
 "nbformat": 4,
 "nbformat_minor": 0
}
