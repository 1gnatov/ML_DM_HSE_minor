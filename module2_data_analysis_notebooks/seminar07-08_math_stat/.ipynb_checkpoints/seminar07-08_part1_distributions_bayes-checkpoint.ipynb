{
 "cells": [
  {
   "cell_type": "markdown",
   "metadata": {},
   "source": [
    "<center>\n",
    "<img src=\"../../img/ml_theme.png\">\n",
    "# Майнор \"Интеллектуальный анализ данных\" \n",
    "# Курс \"Введение в анализ данных\"\n",
    "<img src=\"../../img/faculty_logo.jpg\" height=\"240\" width=\"240\">\n",
    "## Авторы материала: преподаватели ФКН НИУ ВШЭ Кашницкий Юрий и Козлова Анна\n",
    "</center>\n",
    "Материал распространяется на условиях лицензии <a href=\"http://www.microsoft.com/en-us/openness/default.aspx#Ms-RL\">Ms-RL</a>. Можно использовать в любых целях, но с обязательным упоминанием автора курса и аффилиации."
   ]
  },
  {
   "cell_type": "markdown",
   "metadata": {},
   "source": [
    "# Семинары 7 и 8. Теория вероятностей и математическая статистика"
   ]
  },
  {
   "cell_type": "markdown",
   "metadata": {},
   "source": [
    "## Часть 1. Распределения. Наивный байесов классификатор"
   ]
  },
  {
   "cell_type": "markdown",
   "metadata": {},
   "source": [
    "## Напоминание теории с лекций\n",
    "\n",
    "**Вероятностное пространство** — это совокупность $(\\Omega, \\mathcal{F}, \\mathbb{P})$, где\n",
    "\n",
    "1) $\\Omega$ — множество элементарных исходов;\n",
    "\n",
    "2) $\\mathcal{F}$ — множество событий (подмножеств $\\Omega$);\n",
    "\n",
    "3) $\\mathbb{P}: \\mathcal{F} \\to [0; 1]$ — вероятность (функция, заданная на множестве событий)."
   ]
  },
  {
   "cell_type": "markdown",
   "metadata": {},
   "source": [
    "**Пример.**\n",
    "\n",
    "Рассмотрим одиночное подбрасывание кубика. Пронумеруем его грани числами от 1 до 6. В данном случае:\n",
    "\n",
    "1) $\\Omega = \\{ 1, 2, 3, 4, 5, 6\\}$. Т.е. элементарный исход — это выпадение одной из граней кубика.\n",
    "\n",
    "2) $\\mathcal{F}$ — подмножества $\\Omega$.\n",
    "\n",
    "$A_1 = \\{2, 4, 6\\} \\in \\mathcal{F}$ — событие \"выпало чётное число\".\n",
    "\n",
    "$A_2 = \\{ 1, 2, 3\\} \\in \\mathcal{F}$ — событие \"выпало число меньше 4\".\n",
    "\n",
    "$A_3 = \\{ 1 \\} \\in \\mathcal{F}$ — событие \"выпало число 1\".\n",
    "\n",
    "3) $\\mathbb{P}(w) = \\frac{1}{6} \\quad \\forall$ (для любого) $w \\in \\Omega$, т.е. выпадение всех граней равновероятно."
   ]
  },
  {
   "cell_type": "markdown",
   "metadata": {},
   "source": [
    "### Дискретные случайные величины\n",
    "\n",
    "Распределение Бернулли:\n",
    "\n",
    "$\\xi = 1$ — успех (выпадение орла/правильный ответ на вопрос и пр.)\n",
    "\n",
    "$$\\Large \\xi \\sim Ber(p)$$\n",
    "\n",
    "$$\\Large P(\\xi = 1) = p$$"
   ]
  },
  {
   "cell_type": "code",
   "execution_count": 1,
   "metadata": {
    "collapsed": true
   },
   "outputs": [],
   "source": [
    "import numpy as np\n",
    "import pandas as pd\n",
    "import scipy as sp\n",
    "import pylab as plt\n",
    "%matplotlib inline"
   ]
  },
  {
   "cell_type": "code",
   "execution_count": 2,
   "metadata": {
    "collapsed": true
   },
   "outputs": [],
   "source": [
    "def plot_hist(sample, title, xlabel='value', ylabel='freq', bins=10):\n",
    "    plt.hist(sample, bins, normed=True, facecolor='green', alpha=0.75)\n",
    "\n",
    "    plt.xlabel(xlabel)\n",
    "    plt.ylabel(ylabel)\n",
    "    plt.title(title)\n",
    "    plt.grid(True)\n",
    "\n",
    "    plt.show()"
   ]
  },
  {
   "cell_type": "code",
   "execution_count": 3,
   "metadata": {
    "collapsed": false
   },
   "outputs": [],
   "source": [
    "from scipy.stats import bernoulli"
   ]
  },
  {
   "cell_type": "code",
   "execution_count": 4,
   "metadata": {
    "collapsed": false
   },
   "outputs": [
    {
     "data": {
      "image/png": "[encoded data removed]",
      "text/plain": [
       "<matplotlib.figure.Figure at 0x10dbe51d0>"
      ]
     },
     "metadata": {},
     "output_type": "display_data"
    }
   ],
   "source": [
    "p = 0.3\n",
    "sample = bernoulli.rvs(p, size=1000)\n",
    "plot_hist(sample, 'Bernoulli')"
   ]
  },
  {
   "cell_type": "markdown",
   "metadata": {},
   "source": [
    "### Биномиальное распределение\n",
    "\n",
    "$$\\Large \\xi_i \\sim Ber(p)$$\n",
    "\n",
    "$$\\Large \\eta = \\sum_{i=1}^n\\xi_i \\sim Bin(n, p)$$\n",
    "\n",
    "$$\\Large P(\\eta = k) = C^n_kp^k(1-p)^{n-k}$$"
   ]
  },
  {
   "cell_type": "code",
   "execution_count": 5,
   "metadata": {
    "collapsed": false
   },
   "outputs": [
    {
     "data": {
      "image/png": "[encoded data removed]",
      "text/plain": [
       "<matplotlib.figure.Figure at 0x10dbe5290>"
      ]
     },
     "metadata": {},
     "output_type": "display_data"
    }
   ],
   "source": [
    "n, p = 100, .3\n",
    "sample = np.random.binomial(n, p, 1000)\n",
    "plot_hist(sample, 'Binomial')"
   ]
  },
  {
   "cell_type": "markdown",
   "metadata": {},
   "source": [
    "### Распределение Пуассона\n",
    "\n",
    "$\\xi_i$ — частнотность некоторого редкого события (например, число обращений конкретного человека в колл-центр или число обнаружений конкретного слова в тексте).\n",
    "\n",
    "$$\\Large P(\\xi_i = k) = \\frac{\\lambda^k e^{-\\lambda}}{k!}, \\lambda > 0$$"
   ]
  },
  {
   "cell_type": "code",
   "execution_count": 6,
   "metadata": {
    "collapsed": false
   },
   "outputs": [
    {
     "data": {
      "image/png": "[encoded data removed]",
      "text/plain": [
       "<matplotlib.figure.Figure at 0x11001f410>"
      ]
     },
     "metadata": {},
     "output_type": "display_data"
    }
   ],
   "source": [
    "sample = np.random.poisson(0.1, 1000)\n",
    "plot_hist(sample, 'Poison, $\\lambda$ = 0.1')"
   ]
  },
  {
   "cell_type": "code",
   "execution_count": 7,
   "metadata": {
    "collapsed": false
   },
   "outputs": [
    {
     "data": {
      "image/png": "[encoded data removed]",
      "text/plain": [
       "<matplotlib.figure.Figure at 0x11075bc10>"
      ]
     },
     "metadata": {},
     "output_type": "display_data"
    }
   ],
   "source": [
    "sample = np.random.poisson(1, 1000)\n",
    "plot_hist(sample, 'Poison, $\\lambda$ = 1')"
   ]
  },
  {
   "cell_type": "code",
   "execution_count": 8,
   "metadata": {
    "collapsed": false
   },
   "outputs": [
    {
     "data": {
      "image/png": "[encoded data removed]",
      "text/plain": [
       "<matplotlib.figure.Figure at 0x110eecf90>"
      ]
     },
     "metadata": {},
     "output_type": "display_data"
    }
   ],
   "source": [
    "sample = np.random.poisson(10, 1000)\n",
    "plot_hist(sample, 'Poison, $\\lambda$ = 10')"
   ]
  },
  {
   "cell_type": "markdown",
   "metadata": {},
   "source": [
    "**Нормальное распределение**\n",
    "\n",
    "$$\\Large \\xi \\sim \\mathcal{N} (\\mu, \\sigma^2)$$\n",
    "\n",
    "Плотность нормального распределения:\n",
    "$$\\Large p(x; \\mu, \\sigma^2) = \\frac{1}{\\sqrt{2 \\pi \\sigma^2}} e^{- \\frac{(x- \\mu)^2}{2 \\sigma^2}}$$"
   ]
  },
  {
   "cell_type": "code",
   "execution_count": 43,
   "metadata": {
    "collapsed": false
   },
   "outputs": [
    {
     "data": {
      "image/png": "[encoded data removed]",
      "text/plain": [
       "<matplotlib.figure.Figure at 0x110727d50>"
      ]
     },
     "metadata": {},
     "output_type": "display_data"
    }
   ],
   "source": [
    "mu, sigma = 0, 0.1 # mean and standard deviation\n",
    "sample = np.random.normal(mu, sigma, 10000)\n",
    "plot_hist(sample, 'Normal distribution, $\\mu=0,\\ \\sigma=0.1$')"
   ]
  },
  {
   "cell_type": "markdown",
   "metadata": {},
   "source": [
    "**Независимые события**\n",
    "\n",
    "События A и B называются независимыми, если выполнено соотношение:\n",
    "\n",
    "$$\\Large P(AB) = P(A)P(B)$$\n",
    "\n",
    "где P(AB) — вероятность что произошло и A и B.\n",
    "\n",
    "Определение продолжается очевидным образом: n событий $A_1,...,A_n$ называются независимыми, если выполнено\n",
    "\n",
    "$$\\Large P(A_1,...,A_n) = P(A_1) \\cdots P(A_n)$$\n",
    "\n",
    "**Условная вероятность**\n",
    "\n",
    "Допустим, есть два события: A и B. Если известно, что B произошло, то вероятность A можно вычислить по формуле:\n",
    "\n",
    "$$\\Large P(A|B) = \\dfrac{P(AB)}{P(B)}$$\n",
    "\n",
    "Значит\n",
    "\n",
    "$$\\Large P(AB) = P(A|B)P(B) = P(B|A)P(A)$$\n",
    "\n",
    "Отсюда получаем **формулу Байеса**\n",
    "\n",
    "$$\\Large P(A|B) = \\dfrac{P(B|A)P(A)}{P(B)} = \\frac{P(B|A)\\cdot P(A)}{\\sum_{i=1}^n P(B|A_i) \\cdot P(A_i)} $$"
   ]
  },
  {
   "cell_type": "markdown",
   "metadata": {},
   "source": [
    "**Задача.** У 1% пациентов в выборке обнаружен рак. У лаборатории есть тест для определения этой болезни. Для 80% пациентов, болеющих раком, тест дал положительный результат (то есть что человек реально болеет). Тем не менее, в 7% случаев тест дает положительный результат и для здоровых пациентов. Какова вероятность того, что человек болен раком, если тест показал положительный результат. "
   ]
  },
  {
   "cell_type": "markdown",
   "metadata": {},
   "source": [
    "**Как из этого построить классификатор на основе формулы Байеса?**\n",
    "\n",
    "Пусть у нас есть некоторая обучающая выборка: $X^\\ell = (x_i, y_i)_{i=1}^\\ell$\n",
    "\n",
    "Будем считать что событие A — \"объект принадлежит классу $\\dot{y}$\", а событие B — \"объект описывается набором признаков $(x^1, \\cdots, x^n)$\". Тогда можно переписать формулу в следующем виде:\n",
    "\n",
    "$$\\Large P(\\dot{y}~|~(x^1, \\cdots, x^n)) = \\dfrac{P((x^1, \\cdots, x^n)~|~\\dot{y})P(\\dot{y})}{P((x^1, \\cdots, x^n))}$$\n",
    "\n",
    "Плотности распределения $P((x^1, \\cdots, x^n)~|~\\dot{y})$ называются *функциями правдоподобия классов*.\n",
    "\n",
    "$P(\\dot{y})$ называются *априорными вероятностями классов*. \n",
    "\n",
    "А теперь сделаем \"наивное\" предположение: пусть все признаки независимы. Тогда:\n",
    "\n",
    "$$\\Large P(\\dot{y}~|~(x^1, \\cdots, x^n)) = \\dfrac{\\prod_j{P(x^j~|~\\dot{y}})P(\\dot{y})}{P(x^1, \\cdots, x^n)}$$\n",
    "\n",
    "Откуда получаем сам классификатор:\n",
    "\n",
    "$$\\Large a(x) = \\arg\\max_{\\dot{y}} P(\\dot{y}~|~(x^1, \\cdots, x^n)) = \\arg\\max_{\\dot{y}} \\prod_j{P(x^j~|~\\dot{y}})P(\\dot{y})$$"
   ]
  },
  {
   "cell_type": "markdown",
   "metadata": {},
   "source": [
    "### Байесовский классификатор\n",
    "\n",
    "$$\\Large a(x) = \\arg\\max_{y \\in Y} P(y) \\prod_j P(x^j|y)$$"
   ]
  },
  {
   "cell_type": "markdown",
   "metadata": {},
   "source": [
    "**Небольшой спам-фильтр своими руками**\n",
    "\n",
    "Разберем работу наивного байесовского классификатора на примере. В качестве данных взяли набор sms-сообщений, нужно определить, является ли данное сообщение спамом.\n",
    "\n",
    "Объекты — сообщения\n",
    "\n",
    "Признаки — слова сообщения\n",
    "\n",
    "Целевая метка — спам/не спам"
   ]
  },
  {
   "cell_type": "code",
   "execution_count": 9,
   "metadata": {
    "collapsed": false
   },
   "outputs": [
    {
     "data": {
      "text/html": [
       "<div>\n",
       "<table border=\"1\" class=\"dataframe\">\n",
       "  <thead>\n",
       "    <tr style=\"text-align: right;\">\n",
       "      <th></th>\n",
       "      <th>label</th>\n",
       "      <th>text</th>\n",
       "    </tr>\n",
       "  </thead>\n",
       "  <tbody>\n",
       "    <tr>\n",
       "      <th>0</th>\n",
       "      <td>ham</td>\n",
       "      <td>Go until jurong point, crazy.. Available only ...</td>\n",
       "    </tr>\n",
       "    <tr>\n",
       "      <th>1</th>\n",
       "      <td>ham</td>\n",
       "      <td>Ok lar... Joking wif u oni...</td>\n",
       "    </tr>\n",
       "    <tr>\n",
       "      <th>2</th>\n",
       "      <td>spam</td>\n",
       "      <td>Free entry in 2 a wkly comp to win FA Cup fina...</td>\n",
       "    </tr>\n",
       "    <tr>\n",
       "      <th>3</th>\n",
       "      <td>ham</td>\n",
       "      <td>U dun say so early hor... U c already then say...</td>\n",
       "    </tr>\n",
       "    <tr>\n",
       "      <th>4</th>\n",
       "      <td>ham</td>\n",
       "      <td>Nah I don't think he goes to usf, he lives aro...</td>\n",
       "    </tr>\n",
       "  </tbody>\n",
       "</table>\n",
       "</div>"
      ],
      "text/plain": [
       "  label                                               text\n",
       "0   ham  Go until jurong point, crazy.. Available only ...\n",
       "1   ham                      Ok lar... Joking wif u oni...\n",
       "2  spam  Free entry in 2 a wkly comp to win FA Cup fina...\n",
       "3   ham  U dun say so early hor... U c already then say...\n",
       "4   ham  Nah I don't think he goes to usf, he lives aro..."
      ]
     },
     "execution_count": 9,
     "metadata": {},
     "output_type": "execute_result"
    }
   ],
   "source": [
    "from __future__ import division, print_function\n",
    "\n",
    "data = pd.read_csv('../../data/sms_data.txt', sep='\\t', names=('label', 'text'))\n",
    "data.head()"
   ]
  },
  {
   "cell_type": "markdown",
   "metadata": {},
   "source": [
    "Разобъем выборку на 2: обучающую и тестовую"
   ]
  },
  {
   "cell_type": "code",
   "execution_count": 10,
   "metadata": {
    "collapsed": true
   },
   "outputs": [],
   "source": [
    "data = data.reindex(np.random.permutation(data.index))\n",
    "\n",
    "data_train = data[:4000]\n",
    "data_test = data[4000:]"
   ]
  },
  {
   "cell_type": "markdown",
   "metadata": {},
   "source": [
    "Напишем вспомогательные функции:"
   ]
  },
  {
   "cell_type": "code",
   "execution_count": 11,
   "metadata": {
    "collapsed": false
   },
   "outputs": [
    {
     "data": {
      "text/plain": [
       "['go',\n",
       " 'until',\n",
       " 'jurong',\n",
       " 'point',\n",
       " 'crazy',\n",
       " 'available',\n",
       " 'only',\n",
       " 'in',\n",
       " 'bugis',\n",
       " 'n',\n",
       " 'great',\n",
       " 'world',\n",
       " 'la',\n",
       " 'e',\n",
       " 'buffet',\n",
       " 'cine',\n",
       " 'there',\n",
       " 'got',\n",
       " 'amore',\n",
       " 'wat']"
      ]
     },
     "execution_count": 11,
     "metadata": {},
     "output_type": "execute_result"
    }
   ],
   "source": [
    "import re\n",
    "\n",
    "def split_message(message):\n",
    "    return re.sub(\"[^a-zA-Z]\", \" \",  message.lower()).split()\n",
    "\n",
    "split_message(data.text[0])"
   ]
  },
  {
   "cell_type": "code",
   "execution_count": 12,
   "metadata": {
    "collapsed": false
   },
   "outputs": [
    {
     "name": "stderr",
     "output_type": "stream",
     "text": [
      "//anaconda/lib/python2.7/site-packages/pandas/core/indexing.py:499: SettingWithCopyWarning: \n",
      "A value is trying to be set on a copy of a slice from a DataFrame.\n",
      "Try using .loc[row_indexer,col_indexer] = value instead\n",
      "\n",
      "See the caveats in the documentation: http://pandas.pydata.org/pandas-docs/stable/indexing.html#indexing-view-versus-copy\n",
      "  self.obj[item_labels[indexer[info_axis]]] = value\n"
     ]
    },
    {
     "data": {
      "text/html": [
       "<div>\n",
       "<table border=\"1\" class=\"dataframe\">\n",
       "  <thead>\n",
       "    <tr style=\"text-align: right;\">\n",
       "      <th></th>\n",
       "      <th>label</th>\n",
       "      <th>text</th>\n",
       "    </tr>\n",
       "  </thead>\n",
       "  <tbody>\n",
       "    <tr>\n",
       "      <th>4798</th>\n",
       "      <td>spam</td>\n",
       "      <td>[santa, calling, would, your, little, ones, li...</td>\n",
       "    </tr>\n",
       "    <tr>\n",
       "      <th>4066</th>\n",
       "      <td>ham</td>\n",
       "      <td>[dont, kick, coco, when, he, s, down]</td>\n",
       "    </tr>\n",
       "    <tr>\n",
       "      <th>3113</th>\n",
       "      <td>ham</td>\n",
       "      <td>[just, haven, t, decided, where, yet, eh]</td>\n",
       "    </tr>\n",
       "    <tr>\n",
       "      <th>5016</th>\n",
       "      <td>ham</td>\n",
       "      <td>[i, think, the, other, two, still, need, to, g...</td>\n",
       "    </tr>\n",
       "    <tr>\n",
       "      <th>1515</th>\n",
       "      <td>ham</td>\n",
       "      <td>[k, all, the, best, congrats]</td>\n",
       "    </tr>\n",
       "  </tbody>\n",
       "</table>\n",
       "</div>"
      ],
      "text/plain": [
       "     label                                               text\n",
       "4798  spam  [santa, calling, would, your, little, ones, li...\n",
       "4066   ham              [dont, kick, coco, when, he, s, down]\n",
       "3113   ham          [just, haven, t, decided, where, yet, eh]\n",
       "5016   ham  [i, think, the, other, two, still, need, to, g...\n",
       "1515   ham                      [k, all, the, best, congrats]"
      ]
     },
     "execution_count": 12,
     "metadata": {},
     "output_type": "execute_result"
    }
   ],
   "source": [
    "train_messages = data_train.apply(lambda row: split_message(row['text']), axis=1)\n",
    "data_train.iloc[:, 1] = train_messages\n",
    "test_messages = data_test.apply(lambda row: split_message(row['text']), axis=1)\n",
    "data_test.iloc[:, 1] = test_messages\n",
    "\n",
    "data_train.head()"
   ]
  },
  {
   "cell_type": "markdown",
   "metadata": {},
   "source": [
    "Теперь есть две задачи:\n",
    "1. Оценить по выборке $P(y)$ — вероятность класса (спам/не спам)\n",
    "2. Оценить по выборке $P(x^j|y)$ — вероятность признака для данного класса (вероятность встретить некоторое слово в сообщении типа спам/не спам)\n",
    "\n",
    "Обратите внимание, что все оценки будут вычисляться только по обучающей выборке!"
   ]
  },
  {
   "cell_type": "code",
   "execution_count": 13,
   "metadata": {
    "collapsed": false
   },
   "outputs": [
    {
     "name": "stdout",
     "output_type": "stream",
     "text": [
      "0.1325 0.8675\n"
     ]
    }
   ],
   "source": [
    "n = data_train.shape[0]\n",
    "n_spam = data_train[data_train['label'] == 'spam'].shape[0]\n",
    "n_ham = data_train[data_train['label'] == 'ham'].shape[0]\n",
    "\n",
    "p_spam = n_spam / n\n",
    "p_ham = n_ham / n\n",
    "\n",
    "print(p_spam, p_ham)"
   ]
  },
  {
   "cell_type": "markdown",
   "metadata": {
    "collapsed": false
   },
   "source": [
    "Как будем оценивать вероятности слов? \n",
    "\n",
    "1. Найдем все уникальные слова.\n",
    "2. Для каждого слова посчитаем число spam/ham-сообщений, в которых оно встречалось\n",
    "3. Посчитаем для каждого класса: $P(x^j~|~y) = \\dfrac{count(x^j, x^j \\in y)}{count(y)}$\n",
    "\n",
    "Однако вычисление вероятности по нижней формуле плохо, так как если слово не встречалось в каком-либо из классов, соответствующая его вероятность будет равна 0, отсюда все выражение $P(y) \\prod_j P(x^j|y)$ будет равно 0. Поэтому немного изменим нашу формулу:\n",
    "\n",
    "$P(x^j~|~y) = \\dfrac{count(x^j, x^j \\in y) + \\alpha}{count(y) + |V|\\alpha}$\n",
    "\n",
    "где $|V|$ — количество уникальных слов"
   ]
  },
  {
   "cell_type": "code",
   "execution_count": 14,
   "metadata": {
    "collapsed": true
   },
   "outputs": [],
   "source": [
    "from collections import defaultdict\n",
    "\n",
    "def find_counts(data):\n",
    "    spam_counts, ham_counts = defaultdict(int), defaultdict(int)\n",
    "    for _, (label, message) in data.iterrows():\n",
    "        if label == 'spam':\n",
    "            for word in message:\n",
    "                spam_counts[word] += 1\n",
    "        else:\n",
    "            for word in message:\n",
    "                ham_counts[word] += 1\n",
    "    return spam_counts, ham_counts"
   ]
  },
  {
   "cell_type": "code",
   "execution_count": 15,
   "metadata": {
    "collapsed": false
   },
   "outputs": [],
   "source": [
    "spam_counts, ham_counts = find_counts(data_train)"
   ]
  },
  {
   "cell_type": "code",
   "execution_count": 16,
   "metadata": {
    "collapsed": true
   },
   "outputs": [],
   "source": [
    "def find_probs(spam_counts, ham_counts, alpha=0.1):\n",
    "    spam_probs, ham_probs = defaultdict(lambda: 1 / n_words), defaultdict(lambda: 1 / n_words)\n",
    "    unique_words = np.unique(spam_counts.keys() + ham_counts.keys())\n",
    "    n_words = unique_words.shape[0]\n",
    "    spam_div = np.sum(spam_counts[w] for w in spam_counts) + alpha * n_words\n",
    "    ham_div = np.sum(ham_counts[w] for w in ham_counts) + alpha * n_words\n",
    "    for word in unique_words:\n",
    "        spam_probs[word] = (spam_counts[word] + alpha) / spam_div\n",
    "        ham_probs[word] = (ham_counts[word] + alpha) / ham_div\n",
    "    return spam_probs, ham_probs"
   ]
  },
  {
   "cell_type": "code",
   "execution_count": 17,
   "metadata": {
    "collapsed": false
   },
   "outputs": [],
   "source": [
    "spam_probs, ham_probs = find_probs(spam_counts, ham_counts, alpha=0.1)"
   ]
  },
  {
   "cell_type": "code",
   "execution_count": 18,
   "metadata": {
    "collapsed": false
   },
   "outputs": [],
   "source": [
    "def classify(p_spam, p_ham, spam_probs, ham_probs, message):\n",
    "    spam_score = p_spam * np.prod([spam_probs[word] for word in message])\n",
    "    ham_score = p_ham * np.prod([ham_probs[word] for word in message])\n",
    "    if spam_score > ham_score:\n",
    "        return 'spam'\n",
    "    return 'ham'"
   ]
  },
  {
   "cell_type": "markdown",
   "metadata": {},
   "source": [
    "Итак, посчитаем качество нашего классификатора:"
   ]
  },
  {
   "cell_type": "code",
   "execution_count": 19,
   "metadata": {
    "collapsed": false
   },
   "outputs": [
    {
     "data": {
      "text/plain": [
       "0.98155216284987279"
      ]
     },
     "execution_count": 19,
     "metadata": {},
     "output_type": "execute_result"
    }
   ],
   "source": [
    "apply_classify = lambda m: classify(p_spam, p_ham, spam_probs, ham_probs, m)\n",
    "(data_test.label == data_test.text.apply(apply_classify)).mean()"
   ]
  },
  {
   "cell_type": "markdown",
   "metadata": {},
   "source": [
    "Как часто спам оказывается помечен как обычное сообщение?"
   ]
  },
  {
   "cell_type": "code",
   "execution_count": 20,
   "metadata": {
    "collapsed": false
   },
   "outputs": [
    {
     "data": {
      "text/plain": [
       "0.09216589861751151"
      ]
     },
     "execution_count": 20,
     "metadata": {},
     "output_type": "execute_result"
    }
   ],
   "source": [
    "(((data_test.label == 'spam') & (data_test.text.apply(apply_classify) == 'ham')).mean() / \n",
    "     (data_test.label == 'spam').mean())"
   ]
  },
  {
   "cell_type": "markdown",
   "metadata": {},
   "source": [
    "Что интересного можно посмотреть? Например, найдем топ10 слов, наиболее вероятных для каждого класса."
   ]
  },
  {
   "cell_type": "code",
   "execution_count": 21,
   "metadata": {
    "collapsed": false
   },
   "outputs": [
    {
     "data": {
      "text/plain": [
       "[('to', 0.03862918036146383),\n",
       " ('a', 0.021998376329084992),\n",
       " ('call', 0.02050081577640633),\n",
       " ('you', 0.0164022290006542),\n",
       " ('your', 0.014904668447975535),\n",
       " ('free', 0.012224823248445297),\n",
       " ('for', 0.011515452460334351),\n",
       " ('the', 0.011515452460334351),\n",
       " ('now', 0.011436633483877578),\n",
       " ('or', 0.011121357578050491),\n",
       " ('p', 0.01056962474285309),\n",
       " ('txt', 0.009781434978285371),\n",
       " ('u', 0.009387340096001513),\n",
       " ('is', 0.008677969307890568),\n",
       " ('ur', 0.007968598519779622),\n",
       " ('on', 0.007968598519779622),\n",
       " ('stop', 0.007495684661038992),\n",
       " ('from', 0.007180408755211904),\n",
       " ('mobile', 0.0071015897787551335),\n",
       " ('have', 0.0071015897787551335)]"
      ]
     },
     "execution_count": 21,
     "metadata": {},
     "output_type": "execute_result"
    }
   ],
   "source": [
    "sorted(spam_probs.iteritems(), key=lambda x: x[1], reverse=True)[:20]"
   ]
  },
  {
   "cell_type": "code",
   "execution_count": 22,
   "metadata": {
    "collapsed": false
   },
   "outputs": [
    {
     "data": {
      "text/plain": [
       "[('i', 0.041690645561284115),\n",
       " ('you', 0.0274516318503005),\n",
       " ('to', 0.022428424235592388),\n",
       " ('the', 0.015111153300781366),\n",
       " ('a', 0.014715625142142932),\n",
       " ('u', 0.014537637470755637),\n",
       " ('and', 0.011966704439605817),\n",
       " ('in', 0.011333859385784323),\n",
       " ('me', 0.01083944918748628),\n",
       " ('is', 0.010562579476439377),\n",
       " ('my', 0.010562579476439377),\n",
       " ('it', 0.010186827725732863),\n",
       " ('that', 0.007872987997698026),\n",
       " ('of', 0.007319248575604218),\n",
       " ('for', 0.0072203665359446105),\n",
       " ('s', 0.006963273232829629),\n",
       " ('so', 0.006607297890055038),\n",
       " ('have', 0.006409533810735821),\n",
       " ('can', 0.0063502045869400555),\n",
       " ('but', 0.006073334875893152)]"
      ]
     },
     "execution_count": 22,
     "metadata": {},
     "output_type": "execute_result"
    }
   ],
   "source": [
    "sorted(ham_probs.iteritems(), key=lambda x: x[1], reverse=True)[:20]"
   ]
  },
  {
   "cell_type": "markdown",
   "metadata": {},
   "source": [
    "## Задание"
   ]
  },
  {
   "cell_type": "markdown",
   "metadata": {},
   "source": [
    "Найдите вероятность того, что стоит играть в солнечную погоду."
   ]
  },
  {
   "cell_type": "code",
   "execution_count": 23,
   "metadata": {
    "collapsed": false
   },
   "outputs": [
    {
     "data": {
      "text/html": [
       "<div>\n",
       "<table border=\"1\" class=\"dataframe\">\n",
       "  <thead>\n",
       "    <tr style=\"text-align: right;\">\n",
       "      <th></th>\n",
       "      <th>Play</th>\n",
       "      <th>Weather</th>\n",
       "    </tr>\n",
       "  </thead>\n",
       "  <tbody>\n",
       "    <tr>\n",
       "      <th>0</th>\n",
       "      <td>0</td>\n",
       "      <td>Sunny</td>\n",
       "    </tr>\n",
       "    <tr>\n",
       "      <th>1</th>\n",
       "      <td>1</td>\n",
       "      <td>Overcast</td>\n",
       "    </tr>\n",
       "    <tr>\n",
       "      <th>2</th>\n",
       "      <td>1</td>\n",
       "      <td>Rainy</td>\n",
       "    </tr>\n",
       "    <tr>\n",
       "      <th>3</th>\n",
       "      <td>1</td>\n",
       "      <td>Sunny</td>\n",
       "    </tr>\n",
       "    <tr>\n",
       "      <th>4</th>\n",
       "      <td>1</td>\n",
       "      <td>Sunny</td>\n",
       "    </tr>\n",
       "    <tr>\n",
       "      <th>5</th>\n",
       "      <td>1</td>\n",
       "      <td>Overcast</td>\n",
       "    </tr>\n",
       "    <tr>\n",
       "      <th>6</th>\n",
       "      <td>0</td>\n",
       "      <td>Rainy</td>\n",
       "    </tr>\n",
       "    <tr>\n",
       "      <th>7</th>\n",
       "      <td>0</td>\n",
       "      <td>Rainy</td>\n",
       "    </tr>\n",
       "    <tr>\n",
       "      <th>8</th>\n",
       "      <td>1</td>\n",
       "      <td>Sunny</td>\n",
       "    </tr>\n",
       "    <tr>\n",
       "      <th>9</th>\n",
       "      <td>1</td>\n",
       "      <td>Rainy</td>\n",
       "    </tr>\n",
       "    <tr>\n",
       "      <th>10</th>\n",
       "      <td>0</td>\n",
       "      <td>Sunny</td>\n",
       "    </tr>\n",
       "    <tr>\n",
       "      <th>11</th>\n",
       "      <td>1</td>\n",
       "      <td>Overcast</td>\n",
       "    </tr>\n",
       "    <tr>\n",
       "      <th>12</th>\n",
       "      <td>1</td>\n",
       "      <td>Overcast</td>\n",
       "    </tr>\n",
       "    <tr>\n",
       "      <th>13</th>\n",
       "      <td>0</td>\n",
       "      <td>Rainy</td>\n",
       "    </tr>\n",
       "  </tbody>\n",
       "</table>\n",
       "</div>"
      ],
      "text/plain": [
       "    Play   Weather\n",
       "0      0     Sunny\n",
       "1      1  Overcast\n",
       "2      1     Rainy\n",
       "3      1     Sunny\n",
       "4      1     Sunny\n",
       "5      1  Overcast\n",
       "6      0     Rainy\n",
       "7      0     Rainy\n",
       "8      1     Sunny\n",
       "9      1     Rainy\n",
       "10     0     Sunny\n",
       "11     1  Overcast\n",
       "12     1  Overcast\n",
       "13     0     Rainy"
      ]
     },
     "execution_count": 23,
     "metadata": {},
     "output_type": "execute_result"
    }
   ],
   "source": [
    "tennis_df = pd.DataFrame({'Weather': ['Sunny', 'Overcast', 'Rainy', 'Sunny', 'Sunny', \n",
    "                               'Overcast', 'Rainy', 'Rainy', 'Sunny', 'Rainy', \n",
    "                               'Sunny', 'Overcast', 'Overcast', 'Rainy'], \n",
    "                   'Play': [0, 1, 1, 1, 1, 1, 0, 0, 1, 1, 0, 1, 1, 0]})\n",
    "\n",
    "tennis_df"
   ]
  },
  {
   "cell_type": "markdown",
   "metadata": {},
   "source": [
    "## Naive Bayes в Sklearn"
   ]
  },
  {
   "cell_type": "code",
   "execution_count": 24,
   "metadata": {
    "collapsed": true
   },
   "outputs": [],
   "source": [
    "from sklearn.naive_bayes import MultinomialNB\n",
    "from sklearn.cross_validation import cross_val_score, KFold"
   ]
  },
  {
   "cell_type": "code",
   "execution_count": 25,
   "metadata": {
    "collapsed": false
   },
   "outputs": [
    {
     "data": {
      "text/html": [
       "<div>\n",
       "<table border=\"1\" class=\"dataframe\">\n",
       "  <thead>\n",
       "    <tr style=\"text-align: right;\">\n",
       "      <th></th>\n",
       "      <th>N_PREGNANCY</th>\n",
       "      <th>PLASMA_CONC</th>\n",
       "      <th>BLOOD_PRESSURE</th>\n",
       "      <th>SKIN_THICKNESS</th>\n",
       "      <th>SERUM_INSULIN</th>\n",
       "      <th>BODY_MASS_INDEX</th>\n",
       "      <th>DIABETES_FUNCTION</th>\n",
       "      <th>AGE</th>\n",
       "      <th>TARGET</th>\n",
       "    </tr>\n",
       "  </thead>\n",
       "  <tbody>\n",
       "    <tr>\n",
       "      <th>0</th>\n",
       "      <td>1</td>\n",
       "      <td>85</td>\n",
       "      <td>66</td>\n",
       "      <td>29</td>\n",
       "      <td>0</td>\n",
       "      <td>26.6</td>\n",
       "      <td>0.351</td>\n",
       "      <td>31</td>\n",
       "      <td>0</td>\n",
       "    </tr>\n",
       "    <tr>\n",
       "      <th>1</th>\n",
       "      <td>8</td>\n",
       "      <td>183</td>\n",
       "      <td>64</td>\n",
       "      <td>0</td>\n",
       "      <td>0</td>\n",
       "      <td>23.3</td>\n",
       "      <td>0.672</td>\n",
       "      <td>32</td>\n",
       "      <td>1</td>\n",
       "    </tr>\n",
       "    <tr>\n",
       "      <th>2</th>\n",
       "      <td>1</td>\n",
       "      <td>89</td>\n",
       "      <td>66</td>\n",
       "      <td>23</td>\n",
       "      <td>94</td>\n",
       "      <td>28.1</td>\n",
       "      <td>0.167</td>\n",
       "      <td>21</td>\n",
       "      <td>0</td>\n",
       "    </tr>\n",
       "    <tr>\n",
       "      <th>3</th>\n",
       "      <td>0</td>\n",
       "      <td>137</td>\n",
       "      <td>40</td>\n",
       "      <td>35</td>\n",
       "      <td>168</td>\n",
       "      <td>43.1</td>\n",
       "      <td>2.288</td>\n",
       "      <td>33</td>\n",
       "      <td>1</td>\n",
       "    </tr>\n",
       "    <tr>\n",
       "      <th>4</th>\n",
       "      <td>5</td>\n",
       "      <td>116</td>\n",
       "      <td>74</td>\n",
       "      <td>0</td>\n",
       "      <td>0</td>\n",
       "      <td>25.6</td>\n",
       "      <td>0.201</td>\n",
       "      <td>30</td>\n",
       "      <td>0</td>\n",
       "    </tr>\n",
       "  </tbody>\n",
       "</table>\n",
       "</div>"
      ],
      "text/plain": [
       "   N_PREGNANCY  PLASMA_CONC  BLOOD_PRESSURE  SKIN_THICKNESS  SERUM_INSULIN  \\\n",
       "0            1           85              66              29              0   \n",
       "1            8          183              64               0              0   \n",
       "2            1           89              66              23             94   \n",
       "3            0          137              40              35            168   \n",
       "4            5          116              74               0              0   \n",
       "\n",
       "   BODY_MASS_INDEX  DIABETES_FUNCTION  AGE  TARGET  \n",
       "0             26.6              0.351   31       0  \n",
       "1             23.3              0.672   32       1  \n",
       "2             28.1              0.167   21       0  \n",
       "3             43.1              2.288   33       1  \n",
       "4             25.6              0.201   30       0  "
      ]
     },
     "execution_count": 25,
     "metadata": {},
     "output_type": "execute_result"
    }
   ],
   "source": [
    "data = pd.read_csv('https://archive.ics.uci.edu/ml/machine-learning-databases/pima-indians-diabetes/pima-indians-diabetes.data')\n",
    "data.columns = [\"N_PREGNANCY\",\n",
    "                \"PLASMA_CONC\",\n",
    "                \"BLOOD_PRESSURE\",\n",
    "                \"SKIN_THICKNESS\",\n",
    "                \"SERUM_INSULIN\",\n",
    "                \"BODY_MASS_INDEX\",\n",
    "                \"DIABETES_FUNCTION\",\n",
    "                \"AGE\",\n",
    "                \"TARGET\"]\n",
    "data.head()"
   ]
  },
  {
   "cell_type": "code",
   "execution_count": 26,
   "metadata": {
    "collapsed": false
   },
   "outputs": [
    {
     "data": {
      "text/plain": [
       "(767, 9)"
      ]
     },
     "execution_count": 26,
     "metadata": {},
     "output_type": "execute_result"
    }
   ],
   "source": [
    "data.shape"
   ]
  },
  {
   "cell_type": "code",
   "execution_count": 27,
   "metadata": {
    "collapsed": true
   },
   "outputs": [],
   "source": [
    "clf = MultinomialNB(alpha=0.1)"
   ]
  },
  {
   "cell_type": "code",
   "execution_count": 28,
   "metadata": {
    "collapsed": false
   },
   "outputs": [
    {
     "data": {
      "text/plain": [
       "array([ 0.62890625,  0.5859375 ,  0.56862745])"
      ]
     },
     "execution_count": 28,
     "metadata": {},
     "output_type": "execute_result"
    }
   ],
   "source": [
    "cross_val_score(clf, data.drop(['TARGET'], axis=1), data['TARGET'], cv=KFold(data.shape[0], n_folds=3))"
   ]
  },
  {
   "cell_type": "markdown",
   "metadata": {},
   "source": [
    "## Классификация текстов с помощью Naive Bayes"
   ]
  },
  {
   "cell_type": "code",
   "execution_count": 29,
   "metadata": {
    "collapsed": true
   },
   "outputs": [],
   "source": [
    "from sklearn import datasets\n",
    "from sklearn.feature_extraction.text import TfidfVectorizer\n",
    "from sklearn.grid_search import GridSearchCV"
   ]
  },
  {
   "cell_type": "code",
   "execution_count": 30,
   "metadata": {
    "collapsed": false
   },
   "outputs": [],
   "source": [
    "newsgroups = datasets.fetch_20newsgroups(\n",
    "                    subset='train', \n",
    "                    categories=['alt.atheism', 'sci.space'],\n",
    "    data_home='../../data')"
   ]
  },
  {
   "cell_type": "code",
   "execution_count": 31,
   "metadata": {
    "collapsed": false
   },
   "outputs": [],
   "source": [
    "X, y = newsgroups.data, newsgroups.target"
   ]
  },
  {
   "cell_type": "code",
   "execution_count": 32,
   "metadata": {
    "collapsed": true
   },
   "outputs": [],
   "source": [
    "vectorizer = TfidfVectorizer()"
   ]
  },
  {
   "cell_type": "code",
   "execution_count": 33,
   "metadata": {
    "collapsed": true
   },
   "outputs": [],
   "source": [
    "X = vectorizer.fit_transform(X)"
   ]
  },
  {
   "cell_type": "code",
   "execution_count": 34,
   "metadata": {
    "collapsed": true
   },
   "outputs": [],
   "source": [
    "nb_params = {'alpha': np.logspace(-2, 2)}"
   ]
  },
  {
   "cell_type": "code",
   "execution_count": 35,
   "metadata": {
    "collapsed": false
   },
   "outputs": [],
   "source": [
    "clf = GridSearchCV(MultinomialNB(), \n",
    "                   nb_params, cv=5, verbose=True)"
   ]
  },
  {
   "cell_type": "code",
   "execution_count": 36,
   "metadata": {
    "collapsed": false
   },
   "outputs": [
    {
     "name": "stderr",
     "output_type": "stream",
     "text": [
      "[Parallel(n_jobs=1)]: Done  49 tasks       | elapsed:    0.6s\n",
      "[Parallel(n_jobs=1)]: Done 199 tasks       | elapsed:    1.9s\n"
     ]
    },
    {
     "name": "stdout",
     "output_type": "stream",
     "text": [
      "Fitting 5 folds for each of 50 candidates, totalling 250 fits\n"
     ]
    },
    {
     "name": "stderr",
     "output_type": "stream",
     "text": [
      "[Parallel(n_jobs=1)]: Done 250 out of 250 | elapsed:    2.3s finished\n"
     ]
    },
    {
     "data": {
      "text/plain": [
       "GridSearchCV(cv=5, error_score='raise',\n",
       "       estimator=MultinomialNB(alpha=1.0, class_prior=None, fit_prior=True),\n",
       "       fit_params={}, iid=True, n_jobs=1,\n",
       "       param_grid={'alpha': array([  1.00000e-02,   1.20679e-02,   1.45635e-02,   1.75751e-02,\n",
       "         2.12095e-02,   2.55955e-02,   3.08884e-02,   3.72759e-02,\n",
       "         4.49843e-02,   5.42868e-02,   6.55129e-02,   7.90604e-02,\n",
       "         9.54095e-02,   1.15140e-01,   1.38950e-01,   1.67683e-01,\n",
       "         2....    3.90694e+01,   4.71487e+01,   5.68987e+01,   6.86649e+01,\n",
       "         8.28643e+01,   1.00000e+02])},\n",
       "       pre_dispatch='2*n_jobs', refit=True, scoring=None, verbose=True)"
      ]
     },
     "execution_count": 36,
     "metadata": {},
     "output_type": "execute_result"
    }
   ],
   "source": [
    "clf.fit(X, y)"
   ]
  },
  {
   "cell_type": "code",
   "execution_count": 37,
   "metadata": {
    "collapsed": false
   },
   "outputs": [
    {
     "data": {
      "text/plain": [
       "({'alpha': 0.07906043210907697},\n",
       " MultinomialNB(alpha=0.07906043210907697, class_prior=None, fit_prior=True),\n",
       " 0.99720410065237652)"
      ]
     },
     "execution_count": 37,
     "metadata": {},
     "output_type": "execute_result"
    }
   ],
   "source": [
    "clf.best_params_, clf.best_estimator_, clf.best_score_"
   ]
  }
 ],
 "metadata": {
  "kernelspec": {
   "display_name": "Python 2",
   "language": "python",
   "name": "python2"
  },
  "language_info": {
   "codemirror_mode": {
    "name": "ipython",
    "version": 2
   },
   "file_extension": ".py",
   "mimetype": "text/x-python",
   "name": "python",
   "nbconvert_exporter": "python",
   "pygments_lexer": "ipython2",
   "version": "2.7.11"
  }
 },
 "nbformat": 4,
 "nbformat_minor": 0
}
