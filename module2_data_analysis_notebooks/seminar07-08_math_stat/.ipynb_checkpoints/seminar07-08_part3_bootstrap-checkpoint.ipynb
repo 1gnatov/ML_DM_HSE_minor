{
 "cells": [
  {
   "cell_type": "markdown",
   "metadata": {},
   "source": [
    "<center>\n",
    "<img src=\"../../img/ml_theme.png\">\n",
    "# Майнор \"Интеллектуальный анализ данных\" \n",
    "# Курс \"Введение в анализ данных\"\n",
    "<img src=\"../../img/faculty_logo.jpg\" height=\"240\" width=\"240\">\n",
    "## Авторы материала: преподаватели ФКН НИУ ВШЭ Кашницкий Юрий, Надежда Чиркова и Талгат Даулбаев\n",
    "</center>\n",
    "Материал распространяется на условиях лицензии <a href=\"http://www.microsoft.com/en-us/openness/default.aspx#Ms-RL\">Ms-RL</a>. Можно использовать в любых целях, но с обязательным упоминанием автора курса и аффилиации."
   ]
  },
  {
   "cell_type": "markdown",
   "metadata": {},
   "source": [
    "# Семинары 7 и 8. Теория вероятностей и математическая статистика"
   ]
  },
  {
   "cell_type": "markdown",
   "metadata": {},
   "source": [
    "## Часть 3. Bootstrap"
   ]
  },
  {
   "cell_type": "markdown",
   "metadata": {},
   "source": [
    "Bootstrap - это эмпирический способ оценки параметров распределений. Часто позволяет получить ответы на вопросы, появляющиеся при практическом анализе данных, методом \"грубой силы\". [Пример](https://habrahabr.ru/post/192000/)"
   ]
  },
  {
   "cell_type": "markdown",
   "metadata": {},
   "source": [
    "Метод bootstrab заключается в следующем. Пусть имеется выборка $X$ размера $N$. Равномерно возьмем из выборки $N$ объектов с возвращением. Отметим, что из-за возвращения среди них окажутся повторы. Обозначим новую выборку через $X_1$. Повторяя процедуру $M$ раз, сгенерируем $M$ подвыборок $X_1, \\dots, X_M$. Теперь мы имеем достаточно большое число выборок и можем оценивать различные статистики исходного распределения.\n",
    "\n",
    "Например, предположим, что мы хотим оценить средний вес среди всех людей в мире. У нас нет возможности взвесить всех людей, но мы можем взять небольшую выборку размера $N$ и взвесить всех этих людей. По такой выборке мы можем только оценить среднее. Однако чтобы делать выводы и генеральной совокупности, нам необходимо больше информации и разбросе среднего, как если бы мы оценили средний вес по нескольким таким выборкам.\n",
    "\n",
    "С помощью бутстрэпа мы можем получить большое число выборок, каждая из которых является выборкой с возвращением из нашей исходной выборки, и по каждой из них оценить средний вес. По этим оценкам мы можем построить гистограмму таких средних, которая позволяет оценить форму распределения среднего веса. Рассмотрим пример:"
   ]
  },
  {
   "cell_type": "code",
   "execution_count": 29,
   "metadata": {
    "collapsed": false
   },
   "outputs": [
    {
     "name": "stdout",
     "output_type": "stream",
     "text": [
      "Populating the interactive namespace from numpy and matplotlib\n"
     ]
    },
    {
     "name": "stderr",
     "output_type": "stream",
     "text": [
      "WARNING: pylab import has clobbered these variables: ['sample', 'mean', 'cov']\n",
      "`%matplotlib` prevents importing * from pylab and numpy\n"
     ]
    },
    {
     "data": {
      "text/plain": [
       "<matplotlib.text.Text at 0x1112bb6d0>"
      ]
     },
     "execution_count": 29,
     "metadata": {},
     "output_type": "execute_result"
    },
    {
     "data": {
      "image/png": "[encoded data removed]",
      "text/plain": [
       "<matplotlib.figure.Figure at 0x1112aebd0>"
      ]
     },
     "metadata": {},
     "output_type": "display_data"
    }
   ],
   "source": [
    "from __future__ import division, print_function\n",
    "# отключим всякие предупреждения Anaconda\n",
    "import warnings\n",
    "warnings.filterwarnings('ignore')\n",
    "%pylab inline\n",
    "import seaborn as sns\n",
    "import numpy as np\n",
    "from sklearn.utils import resample\n",
    "\n",
    "N = 1000 # Sample size\n",
    "M = 1000 # Number of bootstrap samples\n",
    "X = 50.0 + 10 * np.random.randn(N) # Initial sample\n",
    "\n",
    "# Resampling M times with replacement from X and estimating mean every time\n",
    "means = [np.mean(resample(X)) for i in range(M)] \n",
    "    \n",
    "plt.hist(means)\n",
    "plt.title('Histogram of means')\n",
    "plt.xlabel('Mean')"
   ]
  },
  {
   "cell_type": "markdown",
   "metadata": {},
   "source": [
    "Bootstrap нашел отличное применение в машинном обучении - составление ансамблей алгоритмов, каждый из которых обучен на разных подвыборках данных. Но об этом - далее в курсе. "
   ]
  },
  {
   "cell_type": "markdown",
   "metadata": {},
   "source": [
    "**Еще примеры**"
   ]
  },
  {
   "cell_type": "markdown",
   "metadata": {},
   "source": [
    "Сгенериурем выборку из нормального распределения, затем оценим по ней параметры и сравним с исходными."
   ]
  },
  {
   "cell_type": "code",
   "execution_count": 30,
   "metadata": {
    "collapsed": false
   },
   "outputs": [],
   "source": [
    "sample = np.random.normal(loc=1, scale=5, size=10000)\n",
    "mean = sample.mean()\n",
    "scale = sample.var()"
   ]
  },
  {
   "cell_type": "code",
   "execution_count": 31,
   "metadata": {
    "collapsed": false
   },
   "outputs": [
    {
     "data": {
      "text/plain": [
       "(1.0535927190315209, 4.9887315895976059)"
      ]
     },
     "execution_count": 31,
     "metadata": {},
     "output_type": "execute_result"
    }
   ],
   "source": [
    "mean, np.sqrt(scale)"
   ]
  },
  {
   "cell_type": "markdown",
   "metadata": {},
   "source": [
    "Сравним результаты для выборок разных размеров:"
   ]
  },
  {
   "cell_type": "code",
   "execution_count": 32,
   "metadata": {
    "collapsed": false
   },
   "outputs": [
    {
     "name": "stdout",
     "output_type": "stream",
     "text": [
      "1.69960695006 5.07581742047\n",
      "1.02099981325 4.95893311938\n",
      "1.02038716133 4.99948565686\n"
     ]
    }
   ],
   "source": [
    "for n in [100, 1000, 10000]:\n",
    "    subsample = np.random.choice(sample, n)\n",
    "    print(subsample.mean(), np.sqrt(subsample.var()))"
   ]
  },
  {
   "cell_type": "markdown",
   "metadata": {},
   "source": [
    "Теперь то же самое для многомерного нормального распределения:"
   ]
  },
  {
   "cell_type": "code",
   "execution_count": 33,
   "metadata": {
    "collapsed": false
   },
   "outputs": [
    {
     "name": "stdout",
     "output_type": "stream",
     "text": [
      "[  5.00020283  10.00039938]\n",
      "[[ 1.00034041  0.50013728]\n",
      " [ 0.50013728  1.00015386]]\n"
     ]
    }
   ],
   "source": [
    "mean = np.array([5, 10])\n",
    "cov = np.array([[1, 0.5], [0.5, 1]])\n",
    "sample = np.random.multivariate_normal(mean=mean, cov=cov, size=10**7)\n",
    "print(sample.mean(axis=0))\n",
    "print(np.cov(sample.T))"
   ]
  },
  {
   "cell_type": "code",
   "execution_count": 34,
   "metadata": {
    "collapsed": false
   },
   "outputs": [
    {
     "data": {
      "text/plain": [
       "[<matplotlib.lines.Line2D at 0x116c297d0>]"
      ]
     },
     "execution_count": 34,
     "metadata": {},
     "output_type": "execute_result"
    },
    {
     "data": {
      "image/png": "[encoded data removed]",
      "text/plain": [
       "<matplotlib.figure.Figure at 0x111084110>"
      ]
     },
     "metadata": {},
     "output_type": "display_data"
    }
   ],
   "source": [
    "plt.plot(sample[:500, 0], sample[:500, 1], \"bo\")"
   ]
  },
  {
   "cell_type": "code",
   "execution_count": 35,
   "metadata": {
    "collapsed": false
   },
   "outputs": [
    {
     "name": "stdout",
     "output_type": "stream",
     "text": [
      "[  5.20636236  10.07271086]\n",
      "[  4.98622108  10.05167263]\n",
      "[ 4.98130796  9.97399007]\n"
     ]
    }
   ],
   "source": [
    "for n in [100, 1000, 10000]:\n",
    "    rand_ind = np.random.choice(range(len(sample)), n)\n",
    "    subsample = sample[rand_ind,:]\n",
    "    print(subsample.mean(axis=0))"
   ]
  },
  {
   "cell_type": "markdown",
   "metadata": {},
   "source": [
    "Многомерное нормальное распределение представляет собой облако точек в пространстве; на плоскости это выглядит как овал. За его вытянутость и форму отвечает матрица ковариаций, а за центр --- среднее."
   ]
  },
  {
   "cell_type": "markdown",
   "metadata": {},
   "source": [
    "Так же можно генерировать выборки из других распределений: см. документацию np.random. На больших выборках гистограмма хорошо приближает настоящую плотность или функцию вероятности, пример с кодом [здесь](http://docs.scipy.org/doc/numpy-1.10.1/reference/generated/numpy.random.normal.html)."
   ]
  },
  {
   "cell_type": "markdown",
   "metadata": {},
   "source": [
    "## Задание"
   ]
  },
  {
   "cell_type": "markdown",
   "metadata": {},
   "source": [
    "**Birthday Paradox**\n",
    "Какова вероятность, что в классе из $n$ человек **хотя бы у двух** человек день рождения приходится на один и тот же день? Расчитаем вероятность:\n",
    "\n",
    "Пусть $P(n)$ - искомая вероятность. Найдем дополнение к ней $\\bar{P}(n) = 1-P(n)$, что означает, что в нашем классе у всех человек дни рождения различны. Возьмём любого человека и запомним его день рождения. Вероятность, что у следующего человека день рождения в другой день равна $(1 - \\frac{1}{365})$. Того, что у третьего день рождения в день, отличный от первых двух - $(1 - \\frac{2}{365})$, и так далее. Теперь нам нужно совместить все эти события.\n",
    "\n",
    "Так как они независимы, то мы можем просто перемножить найденные вероятности:\n",
    "\n",
    "$$ \\bar{P}(n) = \\prod_{i=1}^{n-1}(1 - \\frac{i}{365}) = \\frac{365 \\cdot 364 \\cdot (365 - n + 1)} {365^n} = \\frac{365!}{365^n(365 -n)!} $$"
   ]
  },
  {
   "cell_type": "markdown",
   "metadata": {},
   "source": [
    "Можно попробовать посчитать это выражение \"в лоб\". Но лучше поступим по-другому.<br/> Мы будем генерировать случайные группы людей, в каждой будем проверять, есть ли среди них хотя бы она пара с одинаковым днем рождения, а затем усредним наши результаты за все эксперименты. Такой метод оценки с помощью многокраного повторения какого-либо эксперимента называется **Методом Монте-Карло**."
   ]
  },
  {
   "cell_type": "code",
   "execution_count": null,
   "metadata": {
    "collapsed": true
   },
   "outputs": [],
   "source": [
    "n = 20 # количество человек в классе\n",
    "iter_num  = 100000 # количество экспериментов\n",
    "\n",
    "# Задайте n дней рождений - случайных чисел от 0 до 364.\n",
    "birthdays = # Ваш код здесь\n",
    "\n",
    "def birthday_montecarlo(n, iter_num):\n",
    "    # Ваш код здесь"
   ]
  }
 ],
 "metadata": {
  "kernelspec": {
   "display_name": "Python 2",
   "language": "python",
   "name": "python2"
  },
  "language_info": {
   "codemirror_mode": {
    "name": "ipython",
    "version": 2
   },
   "file_extension": ".py",
   "mimetype": "text/x-python",
   "name": "python",
   "nbconvert_exporter": "python",
   "pygments_lexer": "ipython2",
   "version": "2.7.11"
  }
 },
 "nbformat": 4,
 "nbformat_minor": 0
}
