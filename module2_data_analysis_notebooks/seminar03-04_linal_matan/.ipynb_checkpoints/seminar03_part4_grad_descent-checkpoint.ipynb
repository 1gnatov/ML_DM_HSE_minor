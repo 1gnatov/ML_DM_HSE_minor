{
 "cells": [
  {
   "cell_type": "markdown",
   "metadata": {},
   "source": [
    "<center>\n",
    "<img src=\"../../img/ml_theme.png\">\n",
    "# Майнор \"Интеллектуальный анализ данных\" \n",
    "# Курс \"Введение в анализ данных\"\n",
    "<img src=\"../../img/faculty_logo.jpg\" height=\"240\" width=\"240\">\n",
    "## Авторы материала: преподаватели ФКН НИУ ВШЭ Кашницкий Юрий, Гитман Игорь и Захаров Егор\n",
    "</center>\n",
    "Материал распространяется на условиях лицензии <a href=\"http://www.microsoft.com/en-us/openness/default.aspx#Ms-RL\">Ms-RL</a>. Можно использовать в любых целях, но с обязательным упоминанием автора курса и аффилиации."
   ]
  },
  {
   "cell_type": "markdown",
   "metadata": {},
   "source": [
    "# Семинар 3. Линейная алгебра и Python\n",
    "## Часть 4. Линейная регрессия, градиентный спуск"
   ]
  },
  {
   "cell_type": "markdown",
   "metadata": {},
   "source": [
    "\n",
    "\n",
    "|тип целевой переменной:|непрерывная|категориальная|\n",
    "|---|---|---|\n",
    "|**с учителем:**|**регрессия**|классификация|\n",
    "|**без учителя:**|уменьшение размерности|кластеризация|\n",
    "\n",
    "**Зачем это нужно?**\n",
    "\n",
    "Почему нам нужно знать о линейной регрессии?\n",
    "- широко используется\n",
    "- быстро работает\n",
    "- легко использовать\n",
    "- легко интерпретировать\n",
    "- база для более сложных методов"
   ]
  },
  {
   "cell_type": "code",
   "execution_count": 6,
   "metadata": {
    "collapsed": false
   },
   "outputs": [],
   "source": [
    "from __future__ import division, print_function\n",
    "import warnings\n",
    "warnings.filterwarnings('ignore')\n",
    "import pandas as pd\n",
    "import numpy as np\n",
    "import matplotlib.pyplot as plt\n",
    "%matplotlib inline"
   ]
  },
  {
   "cell_type": "markdown",
   "metadata": {},
   "source": [
    "**Считываем данные по рекламе в DataFrame**"
   ]
  },
  {
   "cell_type": "code",
   "execution_count": 3,
   "metadata": {
    "collapsed": false
   },
   "outputs": [
    {
     "data": {
      "text/html": [
       "<div>\n",
       "<table border=\"1\" class=\"dataframe\">\n",
       "  <thead>\n",
       "    <tr style=\"text-align: right;\">\n",
       "      <th></th>\n",
       "      <th>TV</th>\n",
       "      <th>Radio</th>\n",
       "      <th>Newspaper</th>\n",
       "      <th>Sales</th>\n",
       "    </tr>\n",
       "  </thead>\n",
       "  <tbody>\n",
       "    <tr>\n",
       "      <th>1</th>\n",
       "      <td>230.1</td>\n",
       "      <td>37.8</td>\n",
       "      <td>69.2</td>\n",
       "      <td>22.1</td>\n",
       "    </tr>\n",
       "    <tr>\n",
       "      <th>2</th>\n",
       "      <td>44.5</td>\n",
       "      <td>39.3</td>\n",
       "      <td>45.1</td>\n",
       "      <td>10.4</td>\n",
       "    </tr>\n",
       "    <tr>\n",
       "      <th>3</th>\n",
       "      <td>17.2</td>\n",
       "      <td>45.9</td>\n",
       "      <td>69.3</td>\n",
       "      <td>9.3</td>\n",
       "    </tr>\n",
       "    <tr>\n",
       "      <th>4</th>\n",
       "      <td>151.5</td>\n",
       "      <td>41.3</td>\n",
       "      <td>58.5</td>\n",
       "      <td>18.5</td>\n",
       "    </tr>\n",
       "    <tr>\n",
       "      <th>5</th>\n",
       "      <td>180.8</td>\n",
       "      <td>10.8</td>\n",
       "      <td>58.4</td>\n",
       "      <td>12.9</td>\n",
       "    </tr>\n",
       "  </tbody>\n",
       "</table>\n",
       "</div>"
      ],
      "text/plain": [
       "      TV  Radio  Newspaper  Sales\n",
       "1  230.1   37.8       69.2   22.1\n",
       "2   44.5   39.3       45.1   10.4\n",
       "3   17.2   45.9       69.3    9.3\n",
       "4  151.5   41.3       58.5   18.5\n",
       "5  180.8   10.8       58.4   12.9"
      ]
     },
     "execution_count": 3,
     "metadata": {},
     "output_type": "execute_result"
    }
   ],
   "source": [
    "data = pd.read_csv('http://www-bcf.usc.edu/~gareth/ISL/Advertising.csv', \n",
    "                   index_col=0)\n",
    "data.head()"
   ]
  },
  {
   "cell_type": "markdown",
   "metadata": {},
   "source": [
    "Признаки - количество денег, потраченное на три разных типа рекламы.\n",
    "\n",
    "Целевая переменная - уровень продаж."
   ]
  },
  {
   "cell_type": "code",
   "execution_count": 4,
   "metadata": {
    "collapsed": false
   },
   "outputs": [
    {
     "data": {
      "text/plain": [
       "(200, 4)"
      ]
     },
     "execution_count": 4,
     "metadata": {},
     "output_type": "execute_result"
    }
   ],
   "source": [
    "data.shape"
   ]
  },
  {
   "cell_type": "markdown",
   "metadata": {},
   "source": [
    "**Исследуем признаки**"
   ]
  },
  {
   "cell_type": "code",
   "execution_count": 7,
   "metadata": {
    "collapsed": false
   },
   "outputs": [
    {
     "data": {
      "text/plain": [
       "<matplotlib.axes._subplots.AxesSubplot at 0x10aa3c250>"
      ]
     },
     "execution_count": 7,
     "metadata": {},
     "output_type": "execute_result"
    },
    {
     "data": {
      "image/png": "[encoded data removed]",
      "text/plain": [
       "<matplotlib.figure.Figure at 0x109aa4f10>"
      ]
     },
     "metadata": {},
     "output_type": "display_data"
    }
   ],
   "source": [
    "fig, axs = plt.subplots(1, 3, sharey=True)\n",
    "data.plot(kind='scatter', x='TV', y='Sales', ax=axs[0], figsize=(16, 8))\n",
    "data.plot(kind='scatter', x='Radio', y='Sales', ax=axs[1])\n",
    "data.plot(kind='scatter', x='Newspaper', y='Sales', ax=axs[2])"
   ]
  },
  {
   "cell_type": "markdown",
   "metadata": {},
   "source": [
    "**Возникают вопросы:**\n",
    "\n",
    "1. Есть ли какая-либо связь между тратами на рекламу и продажами?\n",
    "2. Насколько сильна эта связь?\n",
    "3. Какие типы рекламы влияют на продажи?\n",
    "4. Насколько сильно?\n",
    "5. Можно ли предсказать продажи по тратам на рекламу?"
   ]
  },
  {
   "cell_type": "code",
   "execution_count": null,
   "metadata": {
    "collapsed": false
   },
   "outputs": [],
   "source": [
    "data.plot(kind='scatter', x='TV', y='Sales')\n",
    "plt.plot(X, predictions, c='red', linewidth=2)"
   ]
  },
  {
   "cell_type": "markdown",
   "metadata": {},
   "source": [
    "Будем минимизировать квадратичную ошибку приближения зависимости прямой линией $y = mx+b$:"
   ]
  },
  {
   "cell_type": "markdown",
   "metadata": {},
   "source": [
    "$$error(m, b) = \\frac{1}{N} \\sum_{i=1}^N(y_i - (mx_i + b))^2,$$где $N$ - число точек."
   ]
  },
  {
   "cell_type": "markdown",
   "metadata": {},
   "source": [
    "**Суть градиентного спуска**.\n",
    "\n",
    "<img src=\"../../img/gradient_descent.png\">\n",
    "Для минимизации функции двух переменных $F(x_1, x_2)$:\n",
    "- Выбираются начальные приближения $x_1^{(0)}$ и $x_2^{(0)}$, а также параметр $\\alpha$\n",
    "- Повторяется до сходимости:\n",
    "    - $$x_1^{(t+1)} = x_1^{(t)} -\\alpha \\frac{\\partial}{\\partial x_1}F(x_1^{(t)}, x_2^{(t)})$$\n",
    "    - $$x_2^{(t)} = x_2^{(t+1)} -\\alpha \\frac{\\partial}{\\partial x_2}F(x_1^{(t)}, x_2^{(t)})$$"
   ]
  },
  {
   "cell_type": "markdown",
   "metadata": {},
   "source": [
    "**Простой код градиентного спуска.**"
   ]
  },
  {
   "cell_type": "code",
   "execution_count": 17,
   "metadata": {
    "collapsed": false
   },
   "outputs": [],
   "source": [
    "# a = mx + b\n",
    "# m is slope, b is y-intercept\n",
    "\n",
    "def sq_error(b, m, points):\n",
    "    totalError = 0\n",
    "    for i in range(0, len(points)):\n",
    "        x = points[i, 0]\n",
    "        y = points[i, 1]\n",
    "        totalError += (y - (m * x + b)) ** 2\n",
    "    return totalError / float(len(points))\n",
    "\n",
    "def step_gradient(b_current, m_current, points, learningRate):\n",
    "    b_gradient = 0\n",
    "    m_gradient = 0\n",
    "    N = float(len(points))\n",
    "    for i in range(0, len(points)):\n",
    "        x = points[i, 0]\n",
    "        y = points[i, 1]\n",
    "        b_gradient += -(2/N) * (y - ((m_current * x) + b_current))\n",
    "        m_gradient += -(2/N) * x * (y - ((m_current * x) + b_current))\n",
    "    new_b = b_current - (learningRate * b_gradient)\n",
    "    new_m = m_current - (learningRate * m_gradient)\n",
    "    return [new_b, new_m]\n",
    "\n",
    "def gradient_descent(points, starting_b, \n",
    "                            starting_m, learning_rate, num_iterations):\n",
    "    b = starting_b\n",
    "    m = starting_m\n",
    "    for i in range(num_iterations):\n",
    "        b, m = step_gradient(b, m, np.array(points), learning_rate)\n",
    "    return [b, m]\n",
    "\n",
    "def run_gradient_descent(points):\n",
    "    learning_rate = 0.00001\n",
    "    initial_b = 0\n",
    "    initial_m = 0\n",
    "    num_iterations = 10000\n",
    "    print(\"Starting gradient descent at\\\n",
    "          b = %.2f, m = %.2f, error = %.2f\"%(initial_b, initial_m, \\\n",
    "          sq_error(initial_b, initial_m, points)))\n",
    "    [b, m] = gradient_descent_runner(points, initial_b, \n",
    "                                     initial_m, learning_rate, \n",
    "                                     num_iterations)\n",
    "    print(\"After %d iterations b = %.2f, m = %.2f, error = %.2f\"\\\n",
    "          %(num_iterations, b, m, sq_error(b, m, points)))\n",
    "    return [b, m]"
   ]
  },
  {
   "cell_type": "markdown",
   "metadata": {},
   "source": [
    "Регрессия данных по продажам, исходя из трат на ТВ-рекламу:"
   ]
  },
  {
   "cell_type": "code",
   "execution_count": 18,
   "metadata": {
    "collapsed": false
   },
   "outputs": [
    {
     "name": "stdout",
     "output_type": "stream",
     "text": [
      "Starting gradient descent at          b = 0.00, m = 0.00, error = 223.72\n",
      "After 10000 iterations b = 0.35, m = 0.08, error = 21.83\n"
     ]
    },
    {
     "data": {
      "text/plain": [
       "[<matplotlib.lines.Line2D at 0x109f2eed0>]"
      ]
     },
     "execution_count": 18,
     "metadata": {},
     "output_type": "execute_result"
    },
    {
     "data": {
      "image/png": "[encoded data removed]",
      "text/plain": [
       "<matplotlib.figure.Figure at 0x10b00d5d0>"
      ]
     },
     "metadata": {},
     "output_type": "display_data"
    }
   ],
   "source": [
    "X = np.array(data.iloc[:,0])[:,np.newaxis]\n",
    "y = np.array(data.iloc[:,3])[:,np.newaxis]\n",
    "points = np.hstack([X, y])\n",
    "[b, m] = run_gradient_descent(points)\n",
    "predictions = m*X + b\n",
    "data.plot(kind='scatter', x='TV', y='Sales')\n",
    "plt.plot(X, predictions, c='red', linewidth=2)"
   ]
  },
  {
   "cell_type": "markdown",
   "metadata": {},
   "source": [
    "Векторизованный вариант, используется векторная нотация:"
   ]
  },
  {
   "cell_type": "code",
   "execution_count": 21,
   "metadata": {
    "collapsed": true
   },
   "outputs": [],
   "source": [
    "# a = w_0 + w_1 x\n",
    "# Q = 1/N sum_i (y_i - (w_0 + w_1 x))^2\n",
    "\n",
    "def Q(w, X, y):\n",
    "    N = X.size\n",
    "    return (1.0/N) * np.sum((y - (w[1]*X + w[0]))**2)\n",
    "\n",
    "def dQ(w, X, y):\n",
    "    N = X.size\n",
    "    dQdw0 = -(2.0/N) * np.sum(y - (w[1]*X + w[0]))\n",
    "    dQdw1 = -(2.0/N) * np.sum((y - (w[1]*X + w[0])) * X)\n",
    "    return np.array([dQdw0, dQdw1])\n",
    "\n",
    "def step_gradient_2(w, X, y, alpha):\n",
    "    return w - alpha*dQ(w, X, y)\n",
    "\n",
    "def gradient_descent2(X, y, w_init, alpha, n_iter):\n",
    "    w = w_init\n",
    "    for i in range(n_iter):\n",
    "        w = step_gradient_2(w, X, y, alpha)\n",
    "    return w\n",
    "\n",
    "def run_gradient_descent2(X, y):\n",
    "    w_init = np.zeros(2)\n",
    "    n_iter = 1000\n",
    "    alpha = 0.00001\n",
    "    print(\"Starting gradient descent at w_0 = %.2f, w_1 = %.2f, error = %.2f\"\\\n",
    "          %(w_init[0], w_init[1], Q(w_init, X, y)))\n",
    "    w = gradient_descent2(X, y, w_init, alpha, n_iter)\n",
    "    print(\"After %d iterations w_0 = %.2f, w_1 = %.2f, error = %.2f\"\\\n",
    "          %(n_iter, w[0], w[1], Q(w, X, y)))\n",
    "    return w"
   ]
  },
  {
   "cell_type": "markdown",
   "metadata": {},
   "source": [
    "Регрессия данных по продажам, исходя из трат на газетную рекламу:"
   ]
  },
  {
   "cell_type": "code",
   "execution_count": 22,
   "metadata": {
    "collapsed": false
   },
   "outputs": [
    {
     "name": "stdout",
     "output_type": "stream",
     "text": [
      "Starting gradient descent at w_0 = 0.00, w_1 = 0.00, error = 223.72\n",
      "After 1000 iterations w_0 = 0.09, w_1 = 0.32, error = 76.16\n"
     ]
    },
    {
     "data": {
      "text/plain": [
       "[<matplotlib.lines.Line2D at 0x10b0efe10>]"
      ]
     },
     "execution_count": 22,
     "metadata": {},
     "output_type": "execute_result"
    },
    {
     "data": {
      "image/png": "[encoded data removed]",
      "text/plain": [
       "<matplotlib.figure.Figure at 0x10afef410>"
      ]
     },
     "metadata": {},
     "output_type": "display_data"
    }
   ],
   "source": [
    "X = np.array(data.iloc[:,2])\n",
    "y = np.array(data.iloc[:,3])\n",
    "w = run_gradient_descent2(X, y)\n",
    "predictions = w[1]*X + w[0]\n",
    "data.plot(kind='scatter', x='Newspaper', y='Sales')\n",
    "plt.plot(X, predictions, c='red', linewidth=2)"
   ]
  }
 ],
 "metadata": {
  "kernelspec": {
   "display_name": "Python 2",
   "language": "python",
   "name": "python2"
  },
  "language_info": {
   "codemirror_mode": {
    "name": "ipython",
    "version": 2
   },
   "file_extension": ".py",
   "mimetype": "text/x-python",
   "name": "python",
   "nbconvert_exporter": "python",
   "pygments_lexer": "ipython2",
   "version": "2.7.11"
  }
 },
 "nbformat": 4,
 "nbformat_minor": 0
}
