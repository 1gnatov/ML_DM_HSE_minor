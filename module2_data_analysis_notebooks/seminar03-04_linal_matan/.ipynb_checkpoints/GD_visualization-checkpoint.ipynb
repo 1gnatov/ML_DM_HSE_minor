{
 "cells": [
  {
   "cell_type": "code",
   "execution_count": 1,
   "metadata": {
    "collapsed": true
   },
   "outputs": [],
   "source": [
    "import numpy as np\n",
    "import matplotlib.cm as cm\n",
    "import matplotlib.mlab as mlab\n",
    "import matplotlib.pyplot as plt\n",
    "import time\n",
    "import pylab\n",
    "from mpl_toolkits.mplot3d import Axes3D\n",
    "\n",
    "def fun(x, y):\n",
    "    return x**2 + 2 * y ** 2\n",
    "   \n",
    "def grad(x, y):\n",
    "    return np.array([2 * x, 4 * y])\n",
    "\n",
    "def makeData ():\n",
    "    x = np.arange (-100, 100, 0.1)\n",
    "    y = np.arange (-100, 100, 0.1)\n",
    "    xgrid, ygrid = np.meshgrid(x, y)\n",
    "    zgrid = fun(xgrid, ygrid)\n",
    "#    zgrid = np.sin (xgrid) * np.sin (ygrid) / (xgrid * ygrid)\n",
    "    return xgrid, ygrid, zgrid"
   ]
  },
  {
   "cell_type": "code",
   "execution_count": 2,
   "metadata": {
    "collapsed": false
   },
   "outputs": [],
   "source": [
    "x,y,z = makeData()"
   ]
  },
  {
   "cell_type": "code",
   "execution_count": null,
   "metadata": {
    "collapsed": false
   },
   "outputs": [],
   "source": [
    "fig = pylab.figure()\n",
    "axes = Axes3D(fig)\n",
    "axes.plot_surface(x, y, z, cmap = cm.jet, rstride = 30, cstride = 30)\n",
    "\n",
    "pylab.show()"
   ]
  },
  {
   "cell_type": "code",
   "execution_count": 7,
   "metadata": {
    "collapsed": false,
    "scrolled": false
   },
   "outputs": [
    {
     "name": "stdout",
     "output_type": "stream",
     "text": [
      "iter 0 | 17700.0000000\n",
      "iter 1 | 63716.0000000\n",
      "iter 2 | 300482.7200000\n",
      "iter 3 | 1451491.3856000\n",
      "iter 4 | 7024194.1137920\n",
      "iter 5 | 33996730.8014490\n",
      "iter 6 | 164544044.3436636\n",
      "iter 7 | 796393126.8386059\n",
      "iter 8 | 3854542716.6963520\n",
      "iter 9 | 18655986742.6174469\n",
      "iter 10 | 90294975832.0390167\n",
      "iter 11 | 437027683026.2664185\n",
      "iter 12 | 2115213985846.8405762\n",
      "iter 13 | 10237635691498.6054688\n",
      "iter 14 | 49550156746853.2031250\n",
      "iter 15 | 239822758654769.5312500\n",
      "iter 16 | 1160742151889084.5000000\n",
      "iter 17 | 5617992015143170.0000000\n",
      "iter 18 | 27191081353292952.0000000\n",
      "iter 19 | 131604833749937904.0000000\n",
      "iter 20 | 636967395349699584.0000000\n",
      "iter 21 | 3082922193492547072.0000000\n",
      "iter 22 | 14921343416503928832.0000000\n",
      "iter 23 | 72219302135879041024.0000000\n",
      "iter 24 | 349541422337654587392.0000000\n",
      "iter 25 | 1691780484114248105984.0000000\n",
      "iter 26 | 8188217543112959983616.0000000\n",
      "iter 27 | 39630972908666741587968.0000000\n",
      "iter 28 | 191813908877947015528448.0000000\n",
      "iter 29 | 928379318969263730982912.0000000\n",
      "iter 30 | 4493355903811236812292096.0000000\n",
      "iter 31 | 21747842574446385248075776.0000000\n",
      "iter 32 | 105259558060320521608757248.0000000\n",
      "iter 33 | 509456261011951385059524608.0000000\n",
      "iter 34 | 2465768303297844942831878144.0000000\n",
      "iter 35 | 11934318587961572041187917824.0000000\n",
      "iter 36 | 57762101965734004105381150720.0000000\n",
      "iter 37 | 279568573514152600980668022784.0000000\n",
      "iter 38 | 1353111895808499113697264795648.0000000\n",
      "iter 39 | 6549061575713134663207848247296.0000000\n",
      "iter 40 | 31697458026451576994101553266688.0000000\n",
      "iter 41 | 153415696848025675345575985283072.0000000\n",
      "iter 42 | 742531972744444327759814879870976.0000000\n",
      "iter 43 | 3593854748083111163170508983238656.0000000\n",
      "iter 44 | 17394256980722257407167650991177728.0000000\n",
      "iter 45 | 84188203786695710263192688512729088.0000000\n",
      "iter 46 | 407470906327607419927684060651978752.0000000\n",
      "iter 47 | 1972159186625620124956482582689611776.0000000\n",
      "iter 48 | 9545250463268002691634242282196041728.0000000\n",
      "iter 49 | 46199012242217151350291686180052271104.0000000\n",
      "[ -5.65796894e-10   1.05736280e+19]\n"
     ]
    }
   ],
   "source": [
    "def gradient_descent_2(alpha, numIterations):\n",
    "    ans = np.array([-70, 80])\n",
    "    x_points = [ans[0]]\n",
    "    y_points = [ans[1]]\n",
    "    for iter in range(0, numIterations):\n",
    "        print(\"iter %s | %.7f\" % (iter, fun(ans[0], ans[1])))\n",
    "        ans = ans - alpha * grad(ans[0], ans[1])\n",
    "        x_points.append(ans[0])\n",
    "        y_points.append(ans[1])\n",
    "    plt.plot(x_points, y_points, linestyle = '-', marker = '^', markersize = 10, color = 'magenta')\n",
    "    plt.show()\n",
    "    return ans\n",
    "\n",
    "fig, ax = plt.subplots(1,1, sharey=True, figsize = (15, 15))\n",
    "\n",
    "X, Y, Z = makeData()\n",
    "CS = ax.contour(X, Y, Z)\n",
    "plt.clabel(CS, inline=1, fontsize=10)\n",
    "#ax.autoscale(False) # To avoid that the scatter changes limits\n",
    "ax.set_xlim([-100, 100])\n",
    "ax.set_ylim([-100, 100])\n",
    "print(gradient_descent_2(0.1, 50))\n",
    "#ax.scatter(np.random.uniform(-3,3,10),\n",
    "#               np.random.uniform(-2,2,10),\n",
    "#               zorder=1)\n"
   ]
  }
 ],
 "metadata": {
  "kernelspec": {
   "display_name": "Python 2",
   "language": "python",
   "name": "python2"
  },
  "language_info": {
   "codemirror_mode": {
    "name": "ipython",
    "version": 2
   },
   "file_extension": ".py",
   "mimetype": "text/x-python",
   "name": "python",
   "nbconvert_exporter": "python",
   "pygments_lexer": "ipython2",
   "version": "2.7.11"
  }
 },
 "nbformat": 4,
 "nbformat_minor": 0
}
