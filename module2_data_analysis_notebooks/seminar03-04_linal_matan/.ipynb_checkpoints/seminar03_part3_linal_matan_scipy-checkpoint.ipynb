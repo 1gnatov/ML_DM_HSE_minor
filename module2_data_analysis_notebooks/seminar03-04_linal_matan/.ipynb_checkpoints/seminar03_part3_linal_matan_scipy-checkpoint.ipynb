{
 "cells": [
  {
   "cell_type": "markdown",
   "metadata": {},
   "source": [
    "<center>\n",
    "<img src=\"../../img/ml_theme.png\">\n",
    "# Майнор \"Интеллектуальный анализ данных\" \n",
    "# Курс \"Введение в анализ данных\"\n",
    "<img src=\"../../img/faculty_logo.jpg\" height=\"240\" width=\"240\">\n",
    "## Автор материала: преподаватель ФКН НИУ ВШЭ Кашницкий Юрий\n",
    "</center>\n",
    "Материал распространяется на условиях лицензии <a href=\"http://www.microsoft.com/en-us/openness/default.aspx#Ms-RL\">Ms-RL</a>. Можно использовать в любых целях, но с обязательным упоминанием автора курса и аффилиации."
   ]
  },
  {
   "cell_type": "markdown",
   "metadata": {},
   "source": [
    "# Семинар 3. Линейная алгебра и Python\n",
    "## Часть 3. Библиотека Scipy"
   ]
  },
  {
   "cell_type": "markdown",
   "metadata": {},
   "source": [
    "**SciPy** - это библиотека для Python, содержащая множество математических алгоритмов и предназначенная для выполнения научных расчётов. С его помощью можно решать широкий класс математических задач, возникающих в ходе научной деятельности."
   ]
  },
  {
   "cell_type": "code",
   "execution_count": 30,
   "metadata": {
    "collapsed": false
   },
   "outputs": [
    {
     "name": "stdout",
     "output_type": "stream",
     "text": [
      "Populating the interactive namespace from numpy and matplotlib\n"
     ]
    },
    {
     "name": "stderr",
     "output_type": "stream",
     "text": [
      "WARNING: pylab import has clobbered these variables: ['norm', 'tri', 'polar', 'kron', 'f', 'det', 'eigvalsh', 'pinv', 'qr', 'mean', 'size', 'eigvals', 'solve', 'eig', 'lstsq', 'var', 'cholesky', 'tril', 'inv', 'triu', 'e', 'svd', 'eigh']\n",
      "`%matplotlib` prevents importing * from pylab and numpy\n"
     ]
    }
   ],
   "source": [
    "# Python 2 and 3 compatibility\n",
    "from __future__ import (absolute_import, division,\n",
    "                        print_function, unicode_literals)\n",
    "# отключим предупреждения Anaconda\n",
    "import warnings\n",
    "warnings.simplefilter('ignore')\n",
    "%pylab inline\n",
    "import seaborn as sns\n",
    "figsize(12, 8)"
   ]
  },
  {
   "cell_type": "markdown",
   "metadata": {},
   "source": [
    "#### Линейная алгебра"
   ]
  },
  {
   "cell_type": "markdown",
   "metadata": {},
   "source": [
    "Прежде всего SciPy предоставляет множество функций, имеющих отношение к линейной алгебре. Рассмотрим некоторые примеры."
   ]
  },
  {
   "cell_type": "code",
   "execution_count": 31,
   "metadata": {
    "collapsed": false
   },
   "outputs": [
    {
     "data": {
      "text/plain": [
       "0.0"
      ]
     },
     "execution_count": 31,
     "metadata": {},
     "output_type": "execute_result"
    }
   ],
   "source": [
    "from scipy.linalg import *\n",
    "\n",
    "X = np.array([[1,2,3],[4,5,6],[7,8,9]]) # X is singular, so det(X) = 0\n",
    "det(X)"
   ]
  },
  {
   "cell_type": "code",
   "execution_count": 32,
   "metadata": {
    "collapsed": false
   },
   "outputs": [
    {
     "data": {
      "text/plain": [
       "array([[1, 2, 3],\n",
       "       [4, 5, 6],\n",
       "       [7, 8, 9]])"
      ]
     },
     "execution_count": 32,
     "metadata": {},
     "output_type": "execute_result"
    }
   ],
   "source": [
    "X"
   ]
  },
  {
   "cell_type": "markdown",
   "metadata": {},
   "source": [
    "Посчитаем собственные значения и вектора матрицы X."
   ]
  },
  {
   "cell_type": "code",
   "execution_count": 3,
   "metadata": {
    "collapsed": false
   },
   "outputs": [
    {
     "data": {
      "text/plain": [
       "array([  1.61168440e+01+0.j,  -1.11684397e+00+0.j,  -1.30367773e-15+0.j])"
      ]
     },
     "execution_count": 3,
     "metadata": {},
     "output_type": "execute_result"
    }
   ],
   "source": [
    "V, U = eig(X)\n",
    "V"
   ]
  },
  {
   "cell_type": "markdown",
   "metadata": {},
   "source": [
    "Проверим, что первый столбец матрицы U является собственным вектором, соответствующим собственному значению V[0]."
   ]
  },
  {
   "cell_type": "code",
   "execution_count": 4,
   "metadata": {
    "collapsed": false
   },
   "outputs": [
    {
     "data": {
      "text/plain": [
       "5.687116766346677e-15"
      ]
     },
     "execution_count": 4,
     "metadata": {},
     "output_type": "execute_result"
    }
   ],
   "source": [
    "norm((X - V[0] * np.eye(3)).dot(U[:,0]))"
   ]
  },
  {
   "cell_type": "markdown",
   "metadata": {},
   "source": [
    "Рассмотрим следующую задачу. На плоскости дано четыре точки $P_1 = (0, 4), P_2 = (0.5, 8), Q_1 = (0, 0), Q_2 = (3, 1)$. Первые две точки принадлежат одному классу, вторые две - другому. Рассмотрим две полосы. Первая из них находится между прямыми, одна из которых проходит через $P_1$ и $P_2$, а вторая - через $Q_1$ параллельно ей. Вторая из них находится между прямыми, одна из которых проходит через $Q_1$ и $Q_2$, а вторая - через $P_1$ параллельно первой. Какая из этих полос имеет большую ширину?"
   ]
  },
  {
   "cell_type": "code",
   "execution_count": 5,
   "metadata": {
    "collapsed": false
   },
   "outputs": [
    {
     "data": {
      "text/plain": [
       "[<matplotlib.lines.Line2D at 0x1087bded0>]"
      ]
     },
     "execution_count": 5,
     "metadata": {},
     "output_type": "execute_result"
    },
    {
     "data": {
      "image/png": "[encoded data removed]",
      "text/plain": [
       "<matplotlib.figure.Figure at 0x108522650>"
      ]
     },
     "metadata": {},
     "output_type": "display_data"
    }
   ],
   "source": [
    "P = np.array([[0, 4], [.5, 8]])\n",
    "Q = np.array([[0, 0], [3, 1]])\n",
    "scatter(P[:, 0], P[:, 1], c = 'g', s = 100)\n",
    "scatter(Q[:, 0], Q[:, 1], c = 'r', s = 100)\n",
    "plot([i*8 + 4 for i in range(2)], color=\"green\")\n",
    "plot([i*8 for i in range(2)], color=\"green\")\n",
    "plot([i*1/3 for i in range(5)], color=\"red\")\n",
    "plot([i*1/3 + 4 for i in range(5)], color=\"red\")\n",
    "# plt.show()"
   ]
  },
  {
   "cell_type": "code",
   "execution_count": 6,
   "metadata": {
    "collapsed": false,
    "scrolled": true
   },
   "outputs": [
    {
     "data": {
      "text/plain": [
       "True"
      ]
     },
     "execution_count": 6,
     "metadata": {},
     "output_type": "execute_result"
    }
   ],
   "source": [
    "w1 = P[1, :] - P[0, :]\n",
    "# Normal vector of the line through P0, P1\n",
    "w1 = np.array([-w1[1], w1[0]]) \n",
    "# Equation of line is <w1, x> - b1 = 0, and P0 belongs to this line\n",
    "b1 = w1.dot(P[0, :]) \n",
    "\n",
    "w2 = Q[1, :] - Q[0, :] # Same for Q0, Q1\n",
    "w2 = np.array([-w2[1], w2[0]])\n",
    "b2 = w1.dot(Q[0, :])\n",
    "\n",
    "# Distance from Q0 to the first line\n",
    "width1 = np.abs(w1.dot(Q[0, :]) - b1) / norm(w1) \n",
    "# Distance from P0 to the second line\n",
    "width2 = np.abs(w2.dot(P[0, :]) - b2) / norm(w2) \n",
    "\n",
    "width1 < width2"
   ]
  },
  {
   "cell_type": "markdown",
   "metadata": {},
   "source": [
    "**Где это нужно**\n",
    "\n",
    "Самая простая версия машины опорных векторов (Support Vector Machine, SVM) - линейная, когда классы линейно разделимы.\n",
    "\n",
    "В таком случае алгоритм сводится к максимизации \"зазора\" между классами.\n",
    "\n",
    "<img src=\"../../img/svm_linear2.png\">\n",
    "\n",
    "Здесь красная разделяющая прямая - лучшая, максимизирует зазор между классами. Красным также обведены объекты, через которые были проведены граничные прямые, параллельные разделяющей. Это и есть опорные вектора.\n",
    "SVM обучается долго, зато потом для классификации достаточно опорных векторов. \n",
    "\n",
    "<img src=\"../../img/svm_linear3.png\">\n"
   ]
  },
  {
   "cell_type": "markdown",
   "metadata": {},
   "source": [
    "**Сингулярное разложение**\n",
    "\n",
    "В SciPy реализованы основные матричные разложения, например, SVD, QR, LU и другие. Отдельного внимания заслуживает SVD-разложение (или сингулярное разложение) матриц. Допустим, что $A$ это $m\\times n$ матрица. Тогда матрицы $AA^T$ и $A^TA$ являются симметрическими, и поэтому имеют вещественные неотрицательные собственные значения, которые называются сингулярными числами матрицы $A$. Тогда исходную матрицу можно представить в виде $A = U\\Sigma V^T$, где $U, V$ - матрицы, столбцами которых являются собственные векторы матриц $AA^T$ и $A^TA$ соответственно, а $\\Sigma$ матрица такого же размера, как и $A$, имеющая нули везде, кроме главной диагонали, на которой стоят сингулярные числа."
   ]
  },
  {
   "cell_type": "code",
   "execution_count": 7,
   "metadata": {
    "collapsed": false
   },
   "outputs": [
    {
     "name": "stdout",
     "output_type": "stream",
     "text": [
      "[ 9.508032    0.77286964]\n"
     ]
    },
    {
     "data": {
      "text/plain": [
       "array([[ 1., -2.,  3.],\n",
       "       [-4.,  5., -6.]])"
      ]
     },
     "execution_count": 7,
     "metadata": {},
     "output_type": "execute_result"
    }
   ],
   "source": [
    "A = np.array([[1, -2, 3], [-4, 5, -6]])\n",
    "U, s, Vh = svd(A) # s is the array of singular values\n",
    "print(s)\n",
    "Sigma = diagsvd(s, 2, 3)\n",
    "U.dot(Sigma.dot(Vh))"
   ]
  },
  {
   "cell_type": "markdown",
   "metadata": {},
   "source": [
    "**Где это нужно**\n",
    "<center> \n",
    "<img src=\"../../img/plot_pca_3d_1.png\" style=\"max-width: 300px; display: inline\" />\n",
    "<img src=\"../../img/plot_pca_3d_2.png\"style=\"max-width: 300px; display: inline\" />\n",
    "</center> \n",
    "Метод главных компонент, <a href=\"http://scikit-learn.org/stable/modules/generated/sklearn.cluster.SpectralClustering.html#sklearn.cluster.SpectralClustering\">спектральная кластеризация</a>, <a href=\"http://habrahabr.ru/company/surfingbird/blog/139863/\">рекомендательные системы</a>"
   ]
  },
  {
   "cell_type": "markdown",
   "metadata": {},
   "source": [
    "С помощью SciPy можно вычислять определённые интегралы:"
   ]
  },
  {
   "cell_type": "code",
   "execution_count": 8,
   "metadata": {
    "collapsed": false,
    "scrolled": true
   },
   "outputs": [
    {
     "data": {
      "text/plain": [
       "(18.0, 0.0)"
      ]
     },
     "execution_count": 8,
     "metadata": {},
     "output_type": "execute_result"
    }
   ],
   "source": [
    "from scipy.integrate import quad\n",
    "I1, e = quad(lambda x: x ** 2, -3, 3) \n",
    "I2, e = quad(lambda x: x ** 3, -3, 3)\n",
    "I1, I2"
   ]
  },
  {
   "cell_type": "markdown",
   "metadata": {},
   "source": [
    "#### Оптимизация"
   ]
  },
  {
   "cell_type": "markdown",
   "metadata": {},
   "source": [
    "Ещё одним большим разделом, реализованным в SciPy, является оптимизация. В этом пакете реализовано большое число методов одномерной и многомерной оптимизации, выбирать которые можно изменяя параметр method в соответствующих функциях."
   ]
  },
  {
   "cell_type": "code",
   "execution_count": 9,
   "metadata": {
    "collapsed": false
   },
   "outputs": [],
   "source": [
    "from scipy.optimize import minimize\n",
    "\n",
    "f = lambda x: norm(x) ** 2 + 1\n",
    "der_f = lambda x: 2 * x\n",
    "\n",
    "res = minimize(f, [-10.0, 10.0], jac = der_f, method = 'SLSQP')"
   ]
  },
  {
   "cell_type": "markdown",
   "metadata": {},
   "source": [
    "Для функций одной переменной рекомендуется использовать другой метод:"
   ]
  },
  {
   "cell_type": "code",
   "execution_count": 10,
   "metadata": {
    "collapsed": false
   },
   "outputs": [
    {
     "data": {
      "image/png": "[encoded data removed]",
      "text/plain": [
       "<matplotlib.figure.Figure at 0x108522490>"
      ]
     },
     "metadata": {},
     "output_type": "display_data"
    }
   ],
   "source": [
    "from scipy.optimize import minimize_scalar\n",
    "\n",
    "f = lambda x: (x ** 2 - 10) * (x + 2) ** 2\n",
    "x = np.linspace(-5, 5)\n",
    "\n",
    "plt.plot(x, f(x))\n",
    "plt.xlim((-5, 5))\n",
    "plt.show()"
   ]
  },
  {
   "cell_type": "code",
   "execution_count": 11,
   "metadata": {
    "collapsed": false
   },
   "outputs": [
    {
     "data": {
      "text/plain": [
       "  fun: -97.617044797036314\n",
       " nfev: 11\n",
       "  nit: 10\n",
       "    x: 1.7912878483579133"
      ]
     },
     "execution_count": 11,
     "metadata": {},
     "output_type": "execute_result"
    }
   ],
   "source": [
    "res = minimize_scalar(f, method = 'brent')\n",
    "res"
   ]
  },
  {
   "cell_type": "markdown",
   "metadata": {},
   "source": [
    "**Где это нужно**\n",
    "\n",
    "<center>\n",
    "<img src=\"../../img/SVM_optimize.png\" style=\"display:inline\" />\n",
    "</center>\n",
    "Линейный SVM по сути - задача квадратичной оптимизации с условиями Каруша-Куна-Таккера."
   ]
  },
  {
   "cell_type": "markdown",
   "metadata": {},
   "source": [
    "Можно искать корни уравнений:"
   ]
  },
  {
   "cell_type": "code",
   "execution_count": 12,
   "metadata": {
    "collapsed": false
   },
   "outputs": [
    {
     "data": {
      "image/png": "[encoded data removed]",
      "text/plain": [
       "<matplotlib.figure.Figure at 0x108622d90>"
      ]
     },
     "metadata": {},
     "output_type": "display_data"
    }
   ],
   "source": [
    "from scipy.optimize import root\n",
    "\n",
    "f = lambda x: (np.sin(x) + 1) * (x ** 2 + 1)\n",
    "x = np.linspace(-3, 2)\n",
    "\n",
    "plt.plot(x, f(x))\n",
    "plt.xlim((-3, 2))\n",
    "plt.show()"
   ]
  },
  {
   "cell_type": "code",
   "execution_count": 13,
   "metadata": {
    "collapsed": false
   },
   "outputs": [
    {
     "name": "stdout",
     "output_type": "stream",
     "text": [
      "  status: 1\n",
      " success: True\n",
      "     qtf: array([ -7.69917695e-16])\n",
      "    nfev: 37\n",
      "       r: array([ -6.71338677e-08])\n",
      "     fun: array([ 0.])\n",
      "       x: array([-1.57079632])\n",
      " message: 'The solution converged.'\n",
      "    fjac: array([[-1.]])\n"
     ]
    },
    {
     "data": {
      "text/plain": [
       "array([  7.05857883e-09])"
      ]
     },
     "execution_count": 13,
     "metadata": {},
     "output_type": "execute_result"
    }
   ],
   "source": [
    "res = root(f, -1)\n",
    "print(res)\n",
    "res.x + np.pi / 2.0 # Comparison with the exact solution"
   ]
  },
  {
   "cell_type": "markdown",
   "metadata": {},
   "source": [
    "#### Статистика"
   ]
  },
  {
   "cell_type": "markdown",
   "metadata": {},
   "source": [
    "Модуль scipy.stats предоставляет множество инструментов для статистических исследований. В данном реализовано более 80 непрерывных и 10 дискретных распределений. \n",
    "\n",
    "Основные методы для непрерывных случайных величин:\n",
    "- rvs: генерация выборки из данного распределения\n",
    "- pdf: функция плотности распределения\n",
    "- cdf: функция распределения\n",
    "- ppf: функция, обратная к функции распределения (используется для подсчёта квантилей)\n",
    "- stats: возвращает основные характеристики случайной величины"
   ]
  },
  {
   "cell_type": "code",
   "execution_count": 14,
   "metadata": {
    "collapsed": false
   },
   "outputs": [
    {
     "data": {
      "text/plain": [
       "(-0.034442185305341773, -0.010173429071307916)"
      ]
     },
     "execution_count": 14,
     "metadata": {},
     "output_type": "execute_result"
    }
   ],
   "source": [
    "from scipy import stats\n",
    "# \"Freezing\" the standard normal random variable\n",
    "rv = stats.norm() \n",
    "# Generate 1000 samples from standard normal distribution\n",
    "X = rv.rvs(size = 1000) \n",
    "# Comparing sample moments with theoretical\n",
    "np.mean(X) - rv.mean(), X.var() - rv.var() "
   ]
  },
  {
   "cell_type": "markdown",
   "metadata": {},
   "source": [
    "Стоит отметить, что X.var() возвращает смещённую оценку дисперсии (делённую на N), для получения несмещённой оценки (делённой на N - 1) нужно передать дополнительный параметр:"
   ]
  },
  {
   "cell_type": "code",
   "execution_count": 15,
   "metadata": {
    "collapsed": false
   },
   "outputs": [
    {
     "data": {
      "text/plain": [
       "0.99081738831700905"
      ]
     },
     "execution_count": 15,
     "metadata": {},
     "output_type": "execute_result"
    }
   ],
   "source": [
    "X.var(ddof = 1)"
   ]
  },
  {
   "cell_type": "markdown",
   "metadata": {},
   "source": [
    "Для получения сразу всех основных статистик выборки можно использовать функцию describe:"
   ]
  },
  {
   "cell_type": "code",
   "execution_count": 16,
   "metadata": {
    "collapsed": false
   },
   "outputs": [
    {
     "name": "stdout",
     "output_type": "stream",
     "text": [
      "1000 (-3.2348317272681881, 3.9409537442684379) -0.0344421853053 0.990817388317 0.154890954687 0.423180417431\n"
     ]
    }
   ],
   "source": [
    "size, Xrange, mean, var, skew, kurt = stats.describe(X)\n",
    "print(size, Xrange, mean, var, skew, kurt)"
   ]
  },
  {
   "cell_type": "code",
   "execution_count": 17,
   "metadata": {
    "collapsed": false
   },
   "outputs": [
    {
     "data": {
      "text/plain": [
       "(array(0.0), array(1.0), array(0.0), array(0.0))"
      ]
     },
     "execution_count": 17,
     "metadata": {},
     "output_type": "execute_result"
    }
   ],
   "source": [
    "# theoretical mean, variance, skew, kurtosis of rv\n",
    "rv.stats(moments = \"mvsk\") "
   ]
  },
  {
   "cell_type": "markdown",
   "metadata": {},
   "source": [
    "Медиана случайной величины - это 0.5-квантиль:"
   ]
  },
  {
   "cell_type": "code",
   "execution_count": 18,
   "metadata": {
    "collapsed": false
   },
   "outputs": [
    {
     "data": {
      "text/plain": [
       "0.0"
      ]
     },
     "execution_count": 18,
     "metadata": {},
     "output_type": "execute_result"
    }
   ],
   "source": [
    "rv.ppf(0.5)"
   ]
  },
  {
   "cell_type": "markdown",
   "metadata": {},
   "source": [
    "Функции распределения и плотности принимают на вход массивы Numpy:"
   ]
  },
  {
   "cell_type": "code",
   "execution_count": 19,
   "metadata": {
    "collapsed": false
   },
   "outputs": [
    {
     "name": "stdout",
     "output_type": "stream",
     "text": [
      "[ 0.15865525  0.5         0.84134475]\n",
      "[ 0.24197072  0.39894228  0.24197072]\n"
     ]
    }
   ],
   "source": [
    "x = np.array([-1.0, 0.0, 1.0])\n",
    "print(rv.cdf(x))\n",
    "print(rv.pdf(x))"
   ]
  },
  {
   "cell_type": "markdown",
   "metadata": {},
   "source": [
    "Все непрерывные распределения принимают на вход два параметра loc (от location) и scale. Для нормального распределения они определяют матожидание и стандартное отклонение. Для других видов распределений они будут соответствовать подходящим параметрам, указанным в документации. Например, для гамма распределения scale = 1.0 / lambda, где lambda - параметр распределения."
   ]
  },
  {
   "cell_type": "code",
   "execution_count": 20,
   "metadata": {
    "collapsed": false
   },
   "outputs": [],
   "source": [
    "# Look through 'Notes' section to find the correspondence \n",
    "# between loc, scale and the parameters of distribution\n",
    "stats.gamma?"
   ]
  },
  {
   "cell_type": "markdown",
   "metadata": {},
   "source": [
    "Некоторые распределения требуют обязательного задания некоторых своих параметров (в отличие, например, от нормального). Для распределения Пуассона это параметр mu."
   ]
  },
  {
   "cell_type": "code",
   "execution_count": 21,
   "metadata": {
    "collapsed": false
   },
   "outputs": [
    {
     "data": {
      "text/plain": [
       "(0.96999999999999997, 0.92909999999999993)"
      ]
     },
     "execution_count": 21,
     "metadata": {},
     "output_type": "execute_result"
    }
   ],
   "source": [
    "Y = stats.poisson.rvs(mu = 1, size = 100)\n",
    "Y.mean(), Y.var()"
   ]
  },
  {
   "cell_type": "markdown",
   "metadata": {},
   "source": [
    "Рассмотрим пример двухмерного нормального распределения (его можно использовать, например, для генерации модельных двухмерных данных, которые удобно визуализировать):"
   ]
  },
  {
   "cell_type": "code",
   "execution_count": 22,
   "metadata": {
    "collapsed": false
   },
   "outputs": [
    {
     "data": {
      "image/png": "[encoded data removed]",
      "text/plain": [
       "<matplotlib.figure.Figure at 0x108d82b10>"
      ]
     },
     "metadata": {},
     "output_type": "display_data"
    }
   ],
   "source": [
    "# Mean of the MVN distribution\n",
    "m1 = np.array([1, 1])\n",
    "# Covariance matrix of the MVN distribution (should be positive-definite!)\n",
    "S1 = np.diag(np.array([10, 1])) \n",
    "m2 = np.array([5, 5])\n",
    "S2 = np.array([[5, -5], [1, 5]])\n",
    "\n",
    "X = stats.multivariate_normal.rvs(m1, S1, size = 300)\n",
    "Y = stats.multivariate_normal.rvs(m2, S2, size = 300)\n",
    "\n",
    "plt.scatter(X[:, 0], X[:, 1])\n",
    "plt.scatter(Y[:, 0], Y[:, 1], color = 'r')\n",
    "plt.show()"
   ]
  },
  {
   "cell_type": "markdown",
   "metadata": {},
   "source": [
    "**Где это нужно**\n",
    "<img src=\"../../img/outlier_detection.png\">\n",
    "Преобразование признаков, поиск выбросов в данных,..."
   ]
  },
  {
   "cell_type": "markdown",
   "metadata": {},
   "source": [
    "**Метод максимального правдоподобия**"
   ]
  },
  {
   "cell_type": "markdown",
   "metadata": {
    "collapsed": true
   },
   "source": [
    "Для параметризованного (с помощью вектора параметров $\\theta$) распределения мы можем рассмотреть функцию $f(x_1, \\dots, x_n \\mid \\theta)$ совместного распределения распределения $N$ независимых случайных величин из данного распределения. При наличии выборки $X_1, \\dots, X_n$ (то есть реализаций этих случайных величин) мы можем подставить эти значения в функцию $f(X_1, \\dots, X_n \\mid \\theta)$, получив тем самым функцию, зависящую только от неизвестного вектора параметров $\\theta$. Данная функция называется функцией правдоподобия выборки $X_1, \\dots, X_n$. Метод максимального правдоподобия заключается в решении задачи максимизации этой функции по вектору параметров $\\theta$, или эквивалентной ей задачи максимизации логарифма этой функции. Тем самым он позволяет получить оценку $\\hat{\\theta}$ неизвестных параметров, используя выборку. Оценки максимального правдоподобия обладают рядом хороших свойств. \n",
    "\n",
    "Данный метод реализуется функцией fit. Оценим, например, параметры нормального распределения со средним 5 и стандартным отклонением 2 по выборке размера 100:"
   ]
  },
  {
   "cell_type": "code",
   "execution_count": 23,
   "metadata": {
    "collapsed": false
   },
   "outputs": [
    {
     "name": "stdout",
     "output_type": "stream",
     "text": [
      "5.19172388138 2.0496826388\n"
     ]
    }
   ],
   "source": [
    "X = stats.norm.rvs(loc = 5, scale = 2, size = 100)\n",
    "m, s = stats.norm.fit(X)\n",
    "print(m, s)"
   ]
  },
  {
   "cell_type": "markdown",
   "metadata": {},
   "source": [
    "**Проверка гипотез**\n",
    "\n",
    "В SciPy реализованы различные методы проверки статистических гипотез. Рассмотрим некоторые из них."
   ]
  },
  {
   "cell_type": "markdown",
   "metadata": {},
   "source": [
    "Для анализа линейной зависимости между двумя выборками можно использовать различные коэффициенты корреляции, например, коэффициент Пирсона. Он меняется в пределах от -1 до 1. Граничные значения соответствуют линейной зависимости, а нулевое значение соответствует отсутствию такой зависимости между величинами. Метод также возвращает $p$-value, соответсвующее проверке гипотезы о линейной независимости. Поэтому если $p$-value достаточно мало, то нулевую гипотезу можно отвергнуть при данном уровне значимости (обычно $\\alpha = 0.05$)."
   ]
  },
  {
   "cell_type": "code",
   "execution_count": 24,
   "metadata": {
    "collapsed": false,
    "scrolled": true
   },
   "outputs": [
    {
     "data": {
      "image/png": "[encoded data removed]",
      "text/plain": [
       "<matplotlib.figure.Figure at 0x108d72f50>"
      ]
     },
     "metadata": {},
     "output_type": "display_data"
    },
    {
     "name": "stdout",
     "output_type": "stream",
     "text": [
      "(0.87664633568810801, 7.2858667217865162e-17)\n",
      "(-0.84592669666721232, 1.0542418014961337e-14)\n",
      "(0.077280797273650281, 0.59373239710316028)\n"
     ]
    }
   ],
   "source": [
    "X = np.linspace(0, 5) + stats.norm.rvs(scale = 0.5, size = 50)\n",
    "Y1 = np.linspace(0, 5) + stats.norm.rvs(scale = 0.5, size = 50)\n",
    "Y2 = 5 - np.linspace(0, 5) - stats.norm.rvs(scale = 0.5, size = 50)\n",
    "Y3 = stats.norm.rvs(scale = 0.5, size = 50)\n",
    "plt.scatter(X, Y1)\n",
    "plt.scatter(X, Y2, color = 'r')\n",
    "plt.scatter(X, Y3, color = 'y')\n",
    "plt.show()\n",
    "\n",
    "print(stats.pearsonr(X, Y1)) # (Pearson r-coefficient, p-value)\n",
    "print(stats.pearsonr(X, Y2))\n",
    "print(stats.pearsonr(X, Y3))"
   ]
  },
  {
   "cell_type": "markdown",
   "metadata": {},
   "source": [
    "Проверить гипотезу о том, что выборка пришла из нормального распределения можно с помощью функции normaltest:"
   ]
  },
  {
   "cell_type": "code",
   "execution_count": 25,
   "metadata": {
    "collapsed": false
   },
   "outputs": [
    {
     "name": "stdout",
     "output_type": "stream",
     "text": [
      "0.94901377421\n",
      "4.13112505147e-09\n"
     ]
    }
   ],
   "source": [
    "from scipy import stats\n",
    "X = stats.norm.rvs(size = 100)\n",
    "Y = stats.poisson.rvs(mu = 1, size = 100)\n",
    "\n",
    "# p-value is not small enough, so we can't reject the null hypothesis\n",
    "print(stats.normaltest(X)[1]) \n",
    "# p-value is small, so we can reject the null hypothesis\n",
    "print(stats.normaltest(Y)[1]) "
   ]
  },
  {
   "cell_type": "markdown",
   "metadata": {},
   "source": [
    "Другим примером является проверка гипотезы о равенстве среднего заданному значению. Стоит отметить, что разные статистические тесты имеют различные предположения о выборке и её распределении, которые обязательно стоит учитывать при проверке гипотез. Например, $t$-критерий Стьюдента предполагает, что выборка имеет нормальное распределение. Поэтому проверим гипотезу о равенстве среднего нулю и единице для выборки X."
   ]
  },
  {
   "cell_type": "code",
   "execution_count": 26,
   "metadata": {
    "collapsed": false
   },
   "outputs": [
    {
     "name": "stdout",
     "output_type": "stream",
     "text": [
      "0.454694294975\n",
      "3.768816895e-20\n"
     ]
    }
   ],
   "source": [
    "# p-value is not small enough, so we can't reject the null hypothesis\n",
    "print(stats.ttest_1samp(X, popmean = 0)[1]) \n",
    "# p-value is small, so we can reject the null hypothesis\n",
    "print(stats.ttest_1samp(X, popmean = 1)[1]) "
   ]
  },
  {
   "cell_type": "markdown",
   "metadata": {},
   "source": [
    "**Где это нужно**\n",
    "\n",
    "Предположения линейной регрессии (проверка распределения ошибок на нормальность ). Показать, что один алгоритм (например, классификации) выдает статистически лучший результат, чем другой."
   ]
  },
  {
   "cell_type": "markdown",
   "metadata": {},
   "source": [
    "### Cсылки"
   ]
  },
  {
   "cell_type": "markdown",
   "metadata": {},
   "source": [
    "- Более подробно о сингулярном разложении: [здесь](http://www.machinelearning.ru/wiki/index.php?title=%D0%A1%D0%B8%D0%BD%D0%B3%D1%83%D0%BB%D1%8F%D1%80%D0%BD%D0%BE%D0%B5_%D1%80%D0%B0%D0%B7%D0%BB%D0%BE%D0%B6%D0%B5%D0%BD%D0%B8%D0%B5)\n",
    "- Общие сведения о задачах оптимизации: <a href=\"https://ru.wikipedia.org/wiki/%D0%9E%D0%BF%D1%82%D0%B8%D0%BC%D0%B8%D0%B7%D0%B0%D1%86%D0%B8%D1%8F_(%D0%BC%D0%B0%D1%82%D0%B5%D0%BC%D0%B0%D1%82%D0%B8%D0%BA%D0%B0)\">здесь</a>\n",
    "- Более подробно о функции правдоподобия и методе максимального правдоподобия: [здесь](https://en.wikipedia.org/wiki/Likelihood_function).\n",
    "- Основные понятия проверки статистических гипотез: [здесь](http://www.machinelearning.ru/wiki/index.php?title=%D0%9F%D1%80%D0%BE%D0%B2%D0%B5%D1%80%D0%BA%D0%B0_%D1%81%D1%82%D0%B0%D1%82%D0%B8%D1%81%D1%82%D0%B8%D1%87%D0%B5%D1%81%D0%BA%D0%B8%D1%85_%D0%B3%D0%B8%D0%BF%D0%BE%D1%82%D0%B5%D0%B7)\n",
    "- [Статья](https://habrahabr.ru/post/105220/) на Хабрахабре \"Классификация данных методом опорных векторов\" (некторые картинки взяты отсюда)"
   ]
  }
 ],
 "metadata": {
  "kernelspec": {
   "display_name": "Python 2",
   "language": "python",
   "name": "python2"
  },
  "language_info": {
   "codemirror_mode": {
    "name": "ipython",
    "version": 2
   },
   "file_extension": ".py",
   "mimetype": "text/x-python",
   "name": "python",
   "nbconvert_exporter": "python",
   "pygments_lexer": "ipython2",
   "version": "2.7.11"
  },
  "name": "lesson5_part2_SciPy.ipynb"
 },
 "nbformat": 4,
 "nbformat_minor": 0
}
