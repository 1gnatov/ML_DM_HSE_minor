{
 "cells": [
  {
   "cell_type": "markdown",
   "metadata": {
    "collapsed": true
   },
   "source": [
    "<center>\n",
    "<img src=\"../../img/ml_theme.png\">\n",
    "# Майнор \"Интеллектуальный анализ данных\" \n",
    "# Курс \"Введение в анализ данных\"\n",
    "<img src=\"../../img/faculty_logo.jpg\" height=\"240\" width=\"240\">\n",
    "## Автор материала: преподаватель ФКН НИУ ВШЭ Кашницкий Юрий\n",
    "</center>\n",
    "Материал распространяется на условиях лицензии <a href=\"http://www.microsoft.com/en-us/openness/default.aspx#Ms-RL\">Ms-RL</a>. Можно использовать в любых целях, но с обязательным упоминанием автора курса и аффилиации."
   ]
  },
  {
   "cell_type": "markdown",
   "metadata": {},
   "source": [
    "# Семинар 1. Введение\n",
    "## Часть 1. Обзор курса"
   ]
  },
  {
   "cell_type": "markdown",
   "metadata": {},
   "source": [
    "В рамках курса «Введение в анализ данных» студенты овладевают базовыми понятиями и методами интеллектуального анализа данных и машинного обучения, учатся применять их в задачах обработки и анализа данных, информационного поиска, а также приобретают практические навыки исследователя данных (data scientist). Практические задания и итоговый проект (индивидуальный или групповой) выполняются с использованием языка Python и инструментов PyData (Anaconda, iPython Notebook, Pandas, scikit-learn и др.)\n",
    "\n",
    "## Содержание курса\n",
    "- **Семинар 1. Введение в машинное обучение и анализ данных**\n",
    "\n",
    "- **Семинар 2. Python для анализа данных. Pandas**\n",
    "\n",
    "- **Семинар 3. Линейная алгебра и Python. NumPy**\n",
    "\n",
    "- **Семинар 4. Математический анализ и Python. SciPy**\n",
    "\n",
    "- **Семинар 5. Теория вероятностей и Python**\n",
    "\n",
    "- **Семинар 6. Математическая статистика и Python**\n",
    "\n",
    "- ..."
   ]
  },
  {
   "cell_type": "markdown",
   "metadata": {},
   "source": [
    "## Ссылки"
   ]
  },
  {
   "cell_type": "markdown",
   "metadata": {},
   "source": [
    "- <a href=\"https://github.com/Yorko/python_intro\">Репозиторий</a> с тетрадками по языку Python, основным алгоритмам и структурам данных\n",
    "- <a href=\"https://www.coursera.org/learn/machine-learning\">Курс</a> Andrew Ng на Coursera по машинному обучению\n",
    "- <a href=\"https://www.coursera.org/learn/introduction-machine-learning\">Курс</a> К.В. Воронцова на Coursera\n",
    "- [Специализация](https://www.coursera.org/specializations/machine-learning-data-analysis) по машинному обучению МФТИ и Yandex Data Factory на Coursera\n",
    "- Курсы на Udacity по машинному обучению <a href=\"https://www.udacity.com/course/intro-to-machine-learning--ud120\">с учителем</a>, <a href=\"https://www.udacity.com/course/machine-learning-unsupervised-learning--ud741\">без учителя</a> и <a href=\"https://www.udacity.com/course/machine-learning-reinforcement-learning--ud820\">с подкреплением</a>\n",
    "- <a href=\"https://github.com/prakhar1989/awesome-courses\">Репозиторий</a> с обзором множества полезных MOOC\n",
    "- <a href=\"https://yandexdataschool.ru/edu-process/courses/machine-learning\">Лекции</a> Школы Анализа Данных Яндекса по машинному обучению \n",
    "- <a href=\"http://habrahabr.ru/post/248069/\">Обзор</a> некоторых MOOC по компьютерным наукам и анализу данных на Хабрахабре\n",
    "- <a href=\"http://habrahabr.ru/users/akrot/topics\">Цикл статей</a> по практике анализа больших данных \n",
    "- Интерактивные тьюториалы <a href=\"http://dataquest.io\">Dataquest</a>\n",
    "- Курсы <a href=\"https://courses.edx.org/courses/BerkeleyX/CS100.1x/1T2015/info\">\"Введение в анализ больших с Apache Spark\"</a> и <a href=\"https://courses.edx.org/courses/BerkeleyX/CS190.1x/1T2015/info\">\"Масштабируемое машинное обучение\"</a> на EdX\n",
    "- <a href=\"http://machinelearning.ru\">Портал</a> machinelearning.ru\n",
    "- <a href=\"http://mlclass.ru\">Портал</a> mlclass.ru"
   ]
  }
 ],
 "metadata": {
  "kernelspec": {
   "display_name": "Python 2",
   "language": "python",
   "name": "python2"
  },
  "language_info": {
   "codemirror_mode": {
    "name": "ipython",
    "version": 2
   },
   "file_extension": ".py",
   "mimetype": "text/x-python",
   "name": "python",
   "nbconvert_exporter": "python",
   "pygments_lexer": "ipython2",
   "version": "2.7.10"
  },
  "name": "lesson4_part1_Introduction.ipynb"
 },
 "nbformat": 4,
 "nbformat_minor": 0
}
