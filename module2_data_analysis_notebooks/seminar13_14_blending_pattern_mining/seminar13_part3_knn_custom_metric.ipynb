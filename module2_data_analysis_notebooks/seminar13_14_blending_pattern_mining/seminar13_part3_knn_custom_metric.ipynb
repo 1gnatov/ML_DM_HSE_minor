{
 "cells": [
  {
   "cell_type": "markdown",
   "metadata": {},
   "source": [
    "<center>\n",
    "<img src=\"../../img/ml_theme.png\">\n",
    "# Майнор \"Интеллектуальный анализ данных\" \n",
    "# Курс \"Введение в анализ данных\"\n",
    "<img src=\"../../img/faculty_logo.jpg\" height=\"240\" width=\"240\">\n",
    "## Автор материала: преподаватели ФКН НИУ ВШЭ Кашницкий Юрий\n",
    "</center>\n",
    "Материал распространяется на условиях лицензии <a href=\"http://www.microsoft.com/en-us/openness/default.aspx#Ms-RL\">Ms-RL</a>. Можно использовать в любых целях, но с обязательным упоминанием автора курса и аффилиации."
   ]
  },
  {
   "cell_type": "markdown",
   "metadata": {},
   "source": [
    "# Семинар 13. Продвинутые методы классификации и регрессии"
   ]
  },
  {
   "cell_type": "markdown",
   "metadata": {},
   "source": [
    "## Часть 3.  kNN с метрикой, определенной пользователем"
   ]
  },
  {
   "cell_type": "code",
   "execution_count": 6,
   "metadata": {
    "collapsed": false
   },
   "outputs": [
    {
     "name": "stdout",
     "output_type": "stream",
     "text": [
      "Populating the interactive namespace from numpy and matplotlib\n"
     ]
    },
    {
     "name": "stderr",
     "output_type": "stream",
     "text": [
      "WARNING: pylab import has clobbered these variables: ['sqrt']\n",
      "`%matplotlib` prevents importing * from pylab and numpy\n"
     ]
    }
   ],
   "source": [
    "from __future__ import division, print_function\n",
    "# отключим всякие предупреждения Anaconda\n",
    "import warnings\n",
    "warnings.filterwarnings('ignore')\n",
    "%pylab inline\n",
    "import numpy as np\n",
    "from math import sqrt\n",
    "import pandas as pd\n",
    "from sklearn.neighbors import KNeighborsClassifier\n",
    "from sklearn.grid_search import GridSearchCV\n",
    "import sys\n",
    "sys.path.append('../../scripts/')\n",
    "from load_car_insurance_with_region import load_train_and_test\n",
    "from sklearn.metrics import roc_auc_score\n",
    "from sklearn.cross_validation import StratifiedKFold"
   ]
  },
  {
   "cell_type": "code",
   "execution_count": 3,
   "metadata": {
    "collapsed": false
   },
   "outputs": [],
   "source": [
    "# read data\n",
    "X_train, y, X_test = map(np.array, \n",
    "                         load_train_and_test(\"../../data/car_insurance_train.csv\",\n",
    "                                         \"../../data/car_insurance_test.csv\"))"
   ]
  },
  {
   "cell_type": "code",
   "execution_count": 5,
   "metadata": {
    "collapsed": true
   },
   "outputs": [],
   "source": [
    "def my_dist_metric(region_weight, brand_weight):\n",
    "    def dist(x,y):\n",
    "        return sqrt(region_weight * (x[2] - y[2]) ** 2 + \n",
    "                    brand_weight * (x[0] - y[0]) ** 2 +\n",
    "                    (1 - region_weight - brand_weight) * (x[1] - y[1]) ** 2)\n",
    "    return dist"
   ]
  },
  {
   "cell_type": "code",
   "execution_count": 7,
   "metadata": {
    "collapsed": false
   },
   "outputs": [
    {
     "name": "stdout",
     "output_type": "stream",
     "text": [
      "CPU times: user 12min 39s, sys: 6.47 s, total: 12min 46s\n",
      "Wall time: 15min\n"
     ]
    }
   ],
   "source": [
    "%%time\n",
    "results = []\n",
    "\n",
    "params = [(neighbors, reg_weight, brand_weight, \n",
    "           1 - reg_weight - brand_weight)\n",
    "          for reg_weight in np.arange(0, 1, 0.05)\n",
    "          for brand_weight in np.arange(0, 1 - reg_weight, 0.05)\n",
    "          for neighbors in range(1,12)]\n",
    "\n",
    "for (n_neighbors, reg_weight, brand_weight, comp_weight) in params:\n",
    "        scores = []\n",
    "        dist_func = my_dist_metric(reg_weight, brand_weight)\n",
    "        \n",
    "        knn = KNeighborsClassifier(n_neighbors=n_neighbors,\n",
    "                                   metric='pyfunc', \n",
    "                                   func=dist_func)\n",
    "        \n",
    "        folds = StratifiedKFold(y, n_folds=3, \n",
    "                                random_state=42)\n",
    "        for train_index, test_index in folds:\n",
    "            x_train, x_test = X_train[train_index], \\\n",
    "                                  X_train[test_index]\n",
    "            y_train, y_test = y[train_index], y[test_index]\n",
    "            knn.fit(x_train, y_train)\n",
    "            scores.append(roc_auc_score(knn.predict(x_test), y_test))\n",
    "        results.append(np.mean(scores))\n",
    "            "
   ]
  },
  {
   "cell_type": "code",
   "execution_count": 8,
   "metadata": {
    "collapsed": false
   },
   "outputs": [
    {
     "data": {
      "text/plain": [
       "(0.69411868694027545, (11, 0.0, 0.050000000000000003, 0.94999999999999996))"
      ]
     },
     "execution_count": 8,
     "metadata": {},
     "output_type": "execute_result"
    }
   ],
   "source": [
    "max_auc = max(results)\n",
    "max_auc, params[np.argmax(results)]"
   ]
  },
  {
   "cell_type": "code",
   "execution_count": 9,
   "metadata": {
    "collapsed": false
   },
   "outputs": [
    {
     "data": {
      "text/plain": [
       "KNeighborsClassifier(algorithm='auto', leaf_size=30, metric='pyfunc',\n",
       "           metric_params={'func': <function dist at 0x109211848>},\n",
       "           n_neighbors=11, p=2, weights='uniform')"
      ]
     },
     "execution_count": 9,
     "metadata": {},
     "output_type": "execute_result"
    }
   ],
   "source": [
    "knn = KNeighborsClassifier(n_neighbors=11,\n",
    "                           metric='pyfunc', \n",
    "                           func=my_dist_metric(.0, .05))\n",
    "knn.fit(X_train, y)"
   ]
  },
  {
   "cell_type": "code",
   "execution_count": 10,
   "metadata": {
    "collapsed": false
   },
   "outputs": [
    {
     "name": "stdout",
     "output_type": "stream",
     "text": [
      "0.761104441777\n"
     ]
    }
   ],
   "source": [
    "predicted_labels = knn.predict(X_test)\n",
    "\n",
    "# # turn predictions into data frame and save as csv file\n",
    "predicted_df = pd.DataFrame(predicted_labels,\n",
    "                            index = np.arange(1, X_test.shape[0] + 1),\n",
    "                            columns=[\"too_much\"])\n",
    "predicted_df.to_csv(\"../../output/knn_car_insurance_custom_metric.csv\", \n",
    "                    index_label=\"id\")\n",
    "\n",
    "# that's for those who know the answers :)\n",
    "expected_labels_df = pd.read_csv(\"../../data/car_insurance_test_labels.csv\",\n",
    "                                 header=0, index_col=0)\n",
    "expected_labels = expected_labels_df['too_much']\n",
    "print(roc_auc_score(predicted_labels, expected_labels))"
   ]
  }
 ],
 "metadata": {
  "kernelspec": {
   "display_name": "Python 2",
   "language": "python",
   "name": "python2"
  },
  "language_info": {
   "codemirror_mode": {
    "name": "ipython",
    "version": 2
   },
   "file_extension": ".py",
   "mimetype": "text/x-python",
   "name": "python",
   "nbconvert_exporter": "python",
   "pygments_lexer": "ipython2",
   "version": "2.7.11"
  }
 },
 "nbformat": 4,
 "nbformat_minor": 0
}
