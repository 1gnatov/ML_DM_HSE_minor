{
 "cells": [
  {
   "cell_type": "markdown",
   "metadata": {
    "collapsed": true
   },
   "source": [
    "<center>\n",
    "<img src=\"../../img/ml_theme.png\">\n",
    "# Майнор \"Интеллектуальный анализ данных\" \n",
    "# Курс \"Введение в анализ данных\"\n",
    "<img src=\"../../img/faculty_logo.jpg\" height=\"240\" width=\"240\">\n",
    "## Автор материала: преподаватель ФКН НИУ ВШЭ Кашницкий Юрий\n",
    "</center>\n",
    "Материал распространяется на условиях лицензии <a href=\"http://www.microsoft.com/en-us/openness/default.aspx#Ms-RL\">Ms-RL</a>. Можно использовать в любых целях, но с обязательным упоминанием автора курса и аффилиации."
   ]
  },
  {
   "cell_type": "markdown",
   "metadata": {
    "collapsed": true
   },
   "source": [
    "# Семинары 5 и 6. Линейные модели в машинном обучении"
   ]
  },
  {
   "cell_type": "markdown",
   "metadata": {},
   "source": [
    "## Домашнее задание 3. Логистическая регрессия в соревновании Kaggle Inclass по автострахованию. Решение"
   ]
  },
  {
   "cell_type": "markdown",
   "metadata": {},
   "source": [
    "[Соревнование](https://inclass.kaggle.com/c/hse-minor-20152), исходное <a href=\"http://microsoftbi.ru/2015/06/06/hackathon2015ml/\">описание</a> задачи. \n",
    "\n",
    "Задача бинарной классификации. Имеются автомобили, для которых указан регистрационный номер и марка, и выплаты страховой компании по инцидентам с участием данного автомобиля. Страховая компания для себя решает, много она заплатила или мало. \n",
    "\n",
    "Объекты - автомобили.\n",
    "\n",
    "Признаки:\n",
    "\n",
    "- Регистрационный номер автомобиля (auto_number, уникальный, строка)\n",
    "- Марка автомобиля (auto_brand, строка)\n",
    "- Тип выплаты (too_much) (много/мало, 1 или 0)\n",
    "- Сумма выплаты при попадании водителя в аварию (compensated, целое положительное число)"
   ]
  },
  {
   "cell_type": "markdown",
   "metadata": {},
   "source": [
    "### Загрузка и первичный анализ данных"
   ]
  },
  {
   "cell_type": "markdown",
   "metadata": {},
   "source": [
    "**Обратите внимание, что в директории '../../scripts/' должен находиться файл load_car_insurance_with_region.py.**"
   ]
  },
  {
   "cell_type": "code",
   "execution_count": 1,
   "metadata": {
    "collapsed": false
   },
   "outputs": [
    {
     "name": "stdout",
     "output_type": "stream",
     "text": [
      "Populating the interactive namespace from numpy and matplotlib\n"
     ]
    }
   ],
   "source": [
    "from __future__ import division, print_function\n",
    "import warnings\n",
    "warnings.filterwarnings('ignore')\n",
    "%pylab inline\n",
    "figsize(12, 8)\n",
    "import seaborn as sns\n",
    "import pandas as pd\n",
    "from sklearn.metrics import roc_auc_score, accuracy_score\n",
    "from sklearn.grid_search import GridSearchCV\n",
    "from sklearn.preprocessing import StandardScaler\n",
    "from sklearn.cross_validation import StratifiedKFold\n",
    "from sklearn.linear_model import LogisticRegression, LogisticRegressionCV\n",
    "import sys\n",
    "sys.path.append('../../scripts/')\n",
    "from load_car_insurance_with_region import load_train_and_test"
   ]
  },
  {
   "cell_type": "markdown",
   "metadata": {},
   "source": [
    "**Считаем обучающую и тестовую выборку, создав объекты Pandas DataFrame.**"
   ]
  },
  {
   "cell_type": "code",
   "execution_count": 2,
   "metadata": {
    "collapsed": false
   },
   "outputs": [],
   "source": [
    "train_df, y, test_df = load_train_and_test('../../data/car_insurance_train.csv',\n",
    "                                          '../../data/car_insurance_test.csv')"
   ]
  },
  {
   "cell_type": "code",
   "execution_count": 3,
   "metadata": {
    "collapsed": false
   },
   "outputs": [
    {
     "data": {
      "text/html": [
       "<div>\n",
       "<table border=\"1\" class=\"dataframe\">\n",
       "  <thead>\n",
       "    <tr style=\"text-align: right;\">\n",
       "      <th></th>\n",
       "      <th>auto_brand</th>\n",
       "      <th>compensated</th>\n",
       "      <th>region</th>\n",
       "    </tr>\n",
       "    <tr>\n",
       "      <th>id</th>\n",
       "      <th></th>\n",
       "      <th></th>\n",
       "      <th></th>\n",
       "    </tr>\n",
       "  </thead>\n",
       "  <tbody>\n",
       "    <tr>\n",
       "      <th>1</th>\n",
       "      <td>2</td>\n",
       "      <td>3200</td>\n",
       "      <td>21</td>\n",
       "    </tr>\n",
       "    <tr>\n",
       "      <th>2</th>\n",
       "      <td>5</td>\n",
       "      <td>6500</td>\n",
       "      <td>12</td>\n",
       "    </tr>\n",
       "    <tr>\n",
       "      <th>3</th>\n",
       "      <td>2</td>\n",
       "      <td>2100</td>\n",
       "      <td>9</td>\n",
       "    </tr>\n",
       "    <tr>\n",
       "      <th>4</th>\n",
       "      <td>2</td>\n",
       "      <td>2000</td>\n",
       "      <td>4</td>\n",
       "    </tr>\n",
       "    <tr>\n",
       "      <th>5</th>\n",
       "      <td>2</td>\n",
       "      <td>6100</td>\n",
       "      <td>21</td>\n",
       "    </tr>\n",
       "  </tbody>\n",
       "</table>\n",
       "</div>"
      ],
      "text/plain": [
       "    auto_brand  compensated  region\n",
       "id                                 \n",
       "1            2         3200      21\n",
       "2            5         6500      12\n",
       "3            2         2100       9\n",
       "4            2         2000       4\n",
       "5            2         6100      21"
      ]
     },
     "execution_count": 3,
     "metadata": {},
     "output_type": "execute_result"
    }
   ],
   "source": [
    "train_df.head()"
   ]
  },
  {
   "cell_type": "markdown",
   "metadata": {},
   "source": [
    "## Часть 1. Логистическая регрессия с исходными признаками и регионом"
   ]
  },
  {
   "cell_type": "markdown",
   "metadata": {},
   "source": [
    "**Проведите кросс-валидацию для логистической регрессии с настройкой параметров и со шкалированием признаков.\n",
    "Используйте разбиение на подвыборки с помощью StratifiedKFold. Для воспроизводимости используйте параметр random_state=42. При необходимости посмотрите документацию для метода StratifiedKFold.**"
   ]
  },
  {
   "cell_type": "code",
   "execution_count": 4,
   "metadata": {
    "collapsed": false
   },
   "outputs": [],
   "source": [
    "folds = StratifiedKFold(y, n_folds=3, random_state=42)\n",
    "c_values = np.logspace(-2, 2, 10)\n",
    "scores_by_c_val = []\n",
    "for c_val in c_values:\n",
    "    scores = []\n",
    "    for train_idx, test_idx in folds:\n",
    "        X_train_cv = train_df.iloc[train_idx, :]\n",
    "        X_test_cv = train_df.iloc[test_idx, :]\n",
    "        scaler = StandardScaler()\n",
    "        X_train_cv_scaled = scaler.fit_transform(X_train_cv)\n",
    "        X_test_cv_scaled = scaler.transform(X_test_cv)\n",
    "        y_train, y_test = y.iloc[train_idx], y.iloc[test_idx]\n",
    "        \n",
    "        logit = LogisticRegression(C=c_val)\n",
    "        logit.fit(X_train_cv_scaled, y_train)\n",
    "        scores.append(roc_auc_score(logit.predict(X_test_cv_scaled),\n",
    "                                   y_test))\n",
    "    scores_by_c_val.append(np.mean(scores))"
   ]
  },
  {
   "cell_type": "markdown",
   "metadata": {},
   "source": [
    "**Постройте график зависимости среднего ROC AUC от параметра C. Напечатайте лучшие полученные значения ROC AUC и С.**"
   ]
  },
  {
   "cell_type": "code",
   "execution_count": 5,
   "metadata": {
    "collapsed": false
   },
   "outputs": [
    {
     "name": "stdout",
     "output_type": "stream",
     "text": [
      "0.714670207809 0.599484250319\n"
     ]
    },
    {
     "data": {
      "text/plain": [
       "[<matplotlib.lines.Line2D at 0x10e6cd610>]"
      ]
     },
     "execution_count": 5,
     "metadata": {},
     "output_type": "execute_result"
    },
    {
     "data": {
      "image/png": "[encoded data removed]",
      "text/plain": [
       "<matplotlib.figure.Figure at 0x10df1fb90>"
      ]
     },
     "metadata": {},
     "output_type": "display_data"
    }
   ],
   "source": [
    "print(np.max(scores_by_c_val), c_values[np.argmax(scores_by_c_val)])\n",
    "plot(c_values, scores_by_c_val)"
   ]
  },
  {
   "cell_type": "markdown",
   "metadata": {},
   "source": [
    "**Отшкалируйте всю обучающую и всю тестовую выборки.**"
   ]
  },
  {
   "cell_type": "code",
   "execution_count": 6,
   "metadata": {
    "collapsed": true
   },
   "outputs": [],
   "source": [
    "scaler = StandardScaler()\n",
    "\n",
    "X_train_scaled = pd.DataFrame(scaler.fit_transform(train_df),\n",
    "                             columns=train_df.columns)\n",
    "X_test_scaled = pd.DataFrame(scaler.transform(test_df),\n",
    "                             columns=test_df.columns)"
   ]
  },
  {
   "cell_type": "code",
   "execution_count": 7,
   "metadata": {
    "collapsed": false
   },
   "outputs": [
    {
     "data": {
      "text/html": [
       "<div>\n",
       "<table border=\"1\" class=\"dataframe\">\n",
       "  <thead>\n",
       "    <tr style=\"text-align: right;\">\n",
       "      <th></th>\n",
       "      <th>auto_brand</th>\n",
       "      <th>compensated</th>\n",
       "      <th>region</th>\n",
       "    </tr>\n",
       "  </thead>\n",
       "  <tbody>\n",
       "    <tr>\n",
       "      <th>0</th>\n",
       "      <td>-0.403372</td>\n",
       "      <td>-0.302304</td>\n",
       "      <td>1.347999</td>\n",
       "    </tr>\n",
       "    <tr>\n",
       "      <th>1</th>\n",
       "      <td>1.094605</td>\n",
       "      <td>-0.091829</td>\n",
       "      <td>0.102793</td>\n",
       "    </tr>\n",
       "    <tr>\n",
       "      <th>2</th>\n",
       "      <td>-0.403372</td>\n",
       "      <td>-0.372462</td>\n",
       "      <td>-0.312275</td>\n",
       "    </tr>\n",
       "    <tr>\n",
       "      <th>3</th>\n",
       "      <td>-0.403372</td>\n",
       "      <td>-0.378840</td>\n",
       "      <td>-1.004056</td>\n",
       "    </tr>\n",
       "    <tr>\n",
       "      <th>4</th>\n",
       "      <td>-0.403372</td>\n",
       "      <td>-0.117342</td>\n",
       "      <td>1.347999</td>\n",
       "    </tr>\n",
       "  </tbody>\n",
       "</table>\n",
       "</div>"
      ],
      "text/plain": [
       "   auto_brand  compensated    region\n",
       "0   -0.403372    -0.302304  1.347999\n",
       "1    1.094605    -0.091829  0.102793\n",
       "2   -0.403372    -0.372462 -0.312275\n",
       "3   -0.403372    -0.378840 -1.004056\n",
       "4   -0.403372    -0.117342  1.347999"
      ]
     },
     "execution_count": 7,
     "metadata": {},
     "output_type": "execute_result"
    }
   ],
   "source": [
    "X_train_scaled.head()"
   ]
  },
  {
   "cell_type": "markdown",
   "metadata": {},
   "source": [
    "**Обучите логистическую регрессию с найденным лучшим значением параметра C на всей выборке, сделайте прогноз для тестовой выборки (обратите внимание - тоже отшкалированной!). В качестве прогноза выдавайте не метку класса (1/0), а вероятность принадлежности к первому классу (метод predict_proba).**"
   ]
  },
  {
   "cell_type": "code",
   "execution_count": 8,
   "metadata": {
    "collapsed": true
   },
   "outputs": [],
   "source": [
    "logit = LogisticRegression(C=c_values[np.argmax(scores_by_c_val)])\n",
    "logit.fit(X_train_scaled, y)\n",
    "first_logit_pred = logit.predict_proba(X_test_scaled)[:,1]"
   ]
  },
  {
   "cell_type": "markdown",
   "metadata": {},
   "source": [
    "**Сформируйте файл посылки и отправьте решение на Kaggle.**"
   ]
  },
  {
   "cell_type": "code",
   "execution_count": 9,
   "metadata": {
    "collapsed": false
   },
   "outputs": [],
   "source": [
    "# turn predictions into data frame and save as csv file\n",
    "predicted_df = pd.DataFrame(first_logit_pred,\n",
    "                            index = np.arange(1, test_df.shape[0] + 1),\n",
    "                            columns=[\"too_much\"])\n",
    "predicted_df.to_csv(\"../../output/car_ins_logit_3features.csv\", index_label=\"id\")"
   ]
  },
  {
   "cell_type": "markdown",
   "metadata": {},
   "source": [
    "## Часть 2. Логистическая регрессия с новыми признаками"
   ]
  },
  {
   "cell_type": "markdown",
   "metadata": {},
   "source": [
    "**Продвинутый подход при работе с категориальными признаками - это считать статистики (например, max, min, median, квантили и т.д.) количественных признаков по категориальным. Для этого удобно использовать метод groupby pandas.DataFrame (при необходимости посмотрите документацию метода).**"
   ]
  },
  {
   "cell_type": "code",
   "execution_count": 10,
   "metadata": {
    "collapsed": false
   },
   "outputs": [],
   "source": [
    "#?train_df.groupby"
   ]
  },
  {
   "cell_type": "markdown",
   "metadata": {},
   "source": [
    "**Пример. Считаем средние выплаты для каждой марки авто отдельно. Видно, что для разных марок средние выплаты могут существенно отличаться.**"
   ]
  },
  {
   "cell_type": "code",
   "execution_count": 11,
   "metadata": {
    "collapsed": false
   },
   "outputs": [],
   "source": [
    "mean_comp_by_brand = {brand_cat[0]: brand_cat[1]['compensated'].mean() \n",
    "                      for brand_cat in train_df.groupby(\"auto_brand\")}"
   ]
  },
  {
   "cell_type": "code",
   "execution_count": 12,
   "metadata": {
    "collapsed": false
   },
   "outputs": [
    {
     "data": {
      "text/plain": [
       "{0.0: 4200.0,\n",
       " 1.0: 3366.6666666666665,\n",
       " 2.0: 7498.480243161094,\n",
       " 3.0: 14312.5,\n",
       " 4.0: 9988.235294117647,\n",
       " 5.0: 7305.882352941177,\n",
       " 6.0: 10672.222222222223,\n",
       " 7.0: 5533.333333333333,\n",
       " 8.0: 15162.5,\n",
       " 9.0: 9442.857142857143,\n",
       " 10.0: 5823.809523809524,\n",
       " 11.0: 3100.0,\n",
       " 12.0: 8500.0}"
      ]
     },
     "execution_count": 12,
     "metadata": {},
     "output_type": "execute_result"
    }
   ],
   "source": [
    "mean_comp_by_brand"
   ]
  },
  {
   "cell_type": "markdown",
   "metadata": {},
   "source": [
    "**Создайте признаки \"Медианные выплаты по маркам\", \"Средние выплаты по регионам\" и т.п. (используйте функцию groupby). Посчитайте статистики mean, median, min и max (можно, конечно, и написать функцию, которая считает заданную статистику для заданного признака). Получится 8 новых признаков. После этого удалите исходные признаки auto_brand и region.**"
   ]
  },
  {
   "cell_type": "code",
   "execution_count": 13,
   "metadata": {
    "collapsed": true
   },
   "outputs": [],
   "source": [
    "def stat_cont_by_categorical(train_df, test_df, \n",
    "                             cont_feat_name, categ_feat_name,\n",
    "                            statistic=np.mean):\n",
    "    stat_dic = {cat[0]: statistic(cat[1][cont_feat_name]) \n",
    "                    for cat in train_df.groupby(categ_feat_name)}\n",
    "    new_feat_name = statistic.__name__ + '_' + cont_feat_name +\\\n",
    "                    '_by_' + categ_feat_name\n",
    "    train_df[new_feat_name] = \\\n",
    "        train_df[categ_feat_name].apply(lambda categ:\n",
    "                                       stat_dic[categ])\n",
    "    test_df[new_feat_name] = \\\n",
    "        test_df[categ_feat_name].apply(lambda categ:\n",
    "                                       stat_dic[categ])"
   ]
  },
  {
   "cell_type": "code",
   "execution_count": 14,
   "metadata": {
    "collapsed": false
   },
   "outputs": [],
   "source": [
    "for stat in [np.mean, np.median, np.min, np.max]:\n",
    "    for categ_feat_name in ['auto_brand', 'region']:\n",
    "        stat_cont_by_categorical(train_df, test_df, \n",
    "                             'compensated', categ_feat_name,\n",
    "                            stat)"
   ]
  },
  {
   "cell_type": "code",
   "execution_count": 15,
   "metadata": {
    "collapsed": false
   },
   "outputs": [
    {
     "data": {
      "text/html": [
       "<div>\n",
       "<table border=\"1\" class=\"dataframe\">\n",
       "  <thead>\n",
       "    <tr style=\"text-align: right;\">\n",
       "      <th></th>\n",
       "      <th>auto_brand</th>\n",
       "      <th>compensated</th>\n",
       "      <th>region</th>\n",
       "      <th>mean_compensated_by_auto_brand</th>\n",
       "      <th>mean_compensated_by_region</th>\n",
       "      <th>median_compensated_by_auto_brand</th>\n",
       "      <th>median_compensated_by_region</th>\n",
       "      <th>amin_compensated_by_auto_brand</th>\n",
       "      <th>amin_compensated_by_region</th>\n",
       "      <th>amax_compensated_by_auto_brand</th>\n",
       "      <th>amax_compensated_by_region</th>\n",
       "    </tr>\n",
       "    <tr>\n",
       "      <th>id</th>\n",
       "      <th></th>\n",
       "      <th></th>\n",
       "      <th></th>\n",
       "      <th></th>\n",
       "      <th></th>\n",
       "      <th></th>\n",
       "      <th></th>\n",
       "      <th></th>\n",
       "      <th></th>\n",
       "      <th></th>\n",
       "      <th></th>\n",
       "    </tr>\n",
       "  </thead>\n",
       "  <tbody>\n",
       "    <tr>\n",
       "      <th>1</th>\n",
       "      <td>2</td>\n",
       "      <td>3200</td>\n",
       "      <td>21</td>\n",
       "      <td>7498.480243</td>\n",
       "      <td>8638.888889</td>\n",
       "      <td>2500</td>\n",
       "      <td>3100</td>\n",
       "      <td>100</td>\n",
       "      <td>100</td>\n",
       "      <td>180000</td>\n",
       "      <td>103600</td>\n",
       "    </tr>\n",
       "    <tr>\n",
       "      <th>2</th>\n",
       "      <td>5</td>\n",
       "      <td>6500</td>\n",
       "      <td>12</td>\n",
       "      <td>7305.882353</td>\n",
       "      <td>5608.333333</td>\n",
       "      <td>6500</td>\n",
       "      <td>5000</td>\n",
       "      <td>500</td>\n",
       "      <td>1100</td>\n",
       "      <td>22400</td>\n",
       "      <td>13000</td>\n",
       "    </tr>\n",
       "    <tr>\n",
       "      <th>3</th>\n",
       "      <td>2</td>\n",
       "      <td>2100</td>\n",
       "      <td>9</td>\n",
       "      <td>7498.480243</td>\n",
       "      <td>5650.000000</td>\n",
       "      <td>2500</td>\n",
       "      <td>4700</td>\n",
       "      <td>100</td>\n",
       "      <td>500</td>\n",
       "      <td>180000</td>\n",
       "      <td>18800</td>\n",
       "    </tr>\n",
       "    <tr>\n",
       "      <th>4</th>\n",
       "      <td>2</td>\n",
       "      <td>2000</td>\n",
       "      <td>4</td>\n",
       "      <td>7498.480243</td>\n",
       "      <td>2587.692308</td>\n",
       "      <td>2500</td>\n",
       "      <td>1500</td>\n",
       "      <td>100</td>\n",
       "      <td>100</td>\n",
       "      <td>180000</td>\n",
       "      <td>46200</td>\n",
       "    </tr>\n",
       "    <tr>\n",
       "      <th>5</th>\n",
       "      <td>2</td>\n",
       "      <td>6100</td>\n",
       "      <td>21</td>\n",
       "      <td>7498.480243</td>\n",
       "      <td>8638.888889</td>\n",
       "      <td>2500</td>\n",
       "      <td>3100</td>\n",
       "      <td>100</td>\n",
       "      <td>100</td>\n",
       "      <td>180000</td>\n",
       "      <td>103600</td>\n",
       "    </tr>\n",
       "  </tbody>\n",
       "</table>\n",
       "</div>"
      ],
      "text/plain": [
       "    auto_brand  compensated  region  mean_compensated_by_auto_brand  \\\n",
       "id                                                                    \n",
       "1            2         3200      21                     7498.480243   \n",
       "2            5         6500      12                     7305.882353   \n",
       "3            2         2100       9                     7498.480243   \n",
       "4            2         2000       4                     7498.480243   \n",
       "5            2         6100      21                     7498.480243   \n",
       "\n",
       "    mean_compensated_by_region  median_compensated_by_auto_brand  \\\n",
       "id                                                                 \n",
       "1                  8638.888889                              2500   \n",
       "2                  5608.333333                              6500   \n",
       "3                  5650.000000                              2500   \n",
       "4                  2587.692308                              2500   \n",
       "5                  8638.888889                              2500   \n",
       "\n",
       "    median_compensated_by_region  amin_compensated_by_auto_brand  \\\n",
       "id                                                                 \n",
       "1                           3100                             100   \n",
       "2                           5000                             500   \n",
       "3                           4700                             100   \n",
       "4                           1500                             100   \n",
       "5                           3100                             100   \n",
       "\n",
       "    amin_compensated_by_region  amax_compensated_by_auto_brand  \\\n",
       "id                                                               \n",
       "1                          100                          180000   \n",
       "2                         1100                           22400   \n",
       "3                          500                          180000   \n",
       "4                          100                          180000   \n",
       "5                          100                          180000   \n",
       "\n",
       "    amax_compensated_by_region  \n",
       "id                              \n",
       "1                       103600  \n",
       "2                        13000  \n",
       "3                        18800  \n",
       "4                        46200  \n",
       "5                       103600  "
      ]
     },
     "execution_count": 15,
     "metadata": {},
     "output_type": "execute_result"
    }
   ],
   "source": [
    "train_df.head()"
   ]
  },
  {
   "cell_type": "code",
   "execution_count": 16,
   "metadata": {
    "collapsed": true
   },
   "outputs": [],
   "source": [
    "train_df.drop(['region', 'auto_brand'], axis=1, inplace=True)\n",
    "test_df.drop(['region', 'auto_brand'], axis=1, inplace=True)"
   ]
  },
  {
   "cell_type": "code",
   "execution_count": 17,
   "metadata": {
    "collapsed": false
   },
   "outputs": [
    {
     "data": {
      "text/html": [
       "<div>\n",
       "<table border=\"1\" class=\"dataframe\">\n",
       "  <thead>\n",
       "    <tr style=\"text-align: right;\">\n",
       "      <th></th>\n",
       "      <th>compensated</th>\n",
       "      <th>mean_compensated_by_auto_brand</th>\n",
       "      <th>mean_compensated_by_region</th>\n",
       "      <th>median_compensated_by_auto_brand</th>\n",
       "      <th>median_compensated_by_region</th>\n",
       "      <th>amin_compensated_by_auto_brand</th>\n",
       "      <th>amin_compensated_by_region</th>\n",
       "      <th>amax_compensated_by_auto_brand</th>\n",
       "      <th>amax_compensated_by_region</th>\n",
       "    </tr>\n",
       "    <tr>\n",
       "      <th>id</th>\n",
       "      <th></th>\n",
       "      <th></th>\n",
       "      <th></th>\n",
       "      <th></th>\n",
       "      <th></th>\n",
       "      <th></th>\n",
       "      <th></th>\n",
       "      <th></th>\n",
       "      <th></th>\n",
       "    </tr>\n",
       "  </thead>\n",
       "  <tbody>\n",
       "    <tr>\n",
       "      <th>1</th>\n",
       "      <td>3200</td>\n",
       "      <td>7498.480243</td>\n",
       "      <td>8638.888889</td>\n",
       "      <td>2500</td>\n",
       "      <td>3100</td>\n",
       "      <td>100</td>\n",
       "      <td>100</td>\n",
       "      <td>180000</td>\n",
       "      <td>103600</td>\n",
       "    </tr>\n",
       "    <tr>\n",
       "      <th>2</th>\n",
       "      <td>6500</td>\n",
       "      <td>7305.882353</td>\n",
       "      <td>5608.333333</td>\n",
       "      <td>6500</td>\n",
       "      <td>5000</td>\n",
       "      <td>500</td>\n",
       "      <td>1100</td>\n",
       "      <td>22400</td>\n",
       "      <td>13000</td>\n",
       "    </tr>\n",
       "    <tr>\n",
       "      <th>3</th>\n",
       "      <td>2100</td>\n",
       "      <td>7498.480243</td>\n",
       "      <td>5650.000000</td>\n",
       "      <td>2500</td>\n",
       "      <td>4700</td>\n",
       "      <td>100</td>\n",
       "      <td>500</td>\n",
       "      <td>180000</td>\n",
       "      <td>18800</td>\n",
       "    </tr>\n",
       "    <tr>\n",
       "      <th>4</th>\n",
       "      <td>2000</td>\n",
       "      <td>7498.480243</td>\n",
       "      <td>2587.692308</td>\n",
       "      <td>2500</td>\n",
       "      <td>1500</td>\n",
       "      <td>100</td>\n",
       "      <td>100</td>\n",
       "      <td>180000</td>\n",
       "      <td>46200</td>\n",
       "    </tr>\n",
       "    <tr>\n",
       "      <th>5</th>\n",
       "      <td>6100</td>\n",
       "      <td>7498.480243</td>\n",
       "      <td>8638.888889</td>\n",
       "      <td>2500</td>\n",
       "      <td>3100</td>\n",
       "      <td>100</td>\n",
       "      <td>100</td>\n",
       "      <td>180000</td>\n",
       "      <td>103600</td>\n",
       "    </tr>\n",
       "  </tbody>\n",
       "</table>\n",
       "</div>"
      ],
      "text/plain": [
       "    compensated  mean_compensated_by_auto_brand  mean_compensated_by_region  \\\n",
       "id                                                                            \n",
       "1          3200                     7498.480243                 8638.888889   \n",
       "2          6500                     7305.882353                 5608.333333   \n",
       "3          2100                     7498.480243                 5650.000000   \n",
       "4          2000                     7498.480243                 2587.692308   \n",
       "5          6100                     7498.480243                 8638.888889   \n",
       "\n",
       "    median_compensated_by_auto_brand  median_compensated_by_region  \\\n",
       "id                                                                   \n",
       "1                               2500                          3100   \n",
       "2                               6500                          5000   \n",
       "3                               2500                          4700   \n",
       "4                               2500                          1500   \n",
       "5                               2500                          3100   \n",
       "\n",
       "    amin_compensated_by_auto_brand  amin_compensated_by_region  \\\n",
       "id                                                               \n",
       "1                              100                         100   \n",
       "2                              500                        1100   \n",
       "3                              100                         500   \n",
       "4                              100                         100   \n",
       "5                              100                         100   \n",
       "\n",
       "    amax_compensated_by_auto_brand  amax_compensated_by_region  \n",
       "id                                                              \n",
       "1                           180000                      103600  \n",
       "2                            22400                       13000  \n",
       "3                           180000                       18800  \n",
       "4                           180000                       46200  \n",
       "5                           180000                      103600  "
      ]
     },
     "execution_count": 17,
     "metadata": {},
     "output_type": "execute_result"
    }
   ],
   "source": [
    "train_df.head()"
   ]
  },
  {
   "cell_type": "code",
   "execution_count": 18,
   "metadata": {
    "collapsed": false
   },
   "outputs": [
    {
     "data": {
      "text/plain": [
       "((817, 9), (100, 9))"
      ]
     },
     "execution_count": 18,
     "metadata": {},
     "output_type": "execute_result"
    }
   ],
   "source": [
    "train_df.shape, test_df.shape"
   ]
  },
  {
   "cell_type": "markdown",
   "metadata": {},
   "source": [
    "**Проведите кросс-валидацию для логистической регрессии с настройкой параметров и со шкалированием признаков.\n",
    "Используйте разбиение на подвыборки с помощью StratifiedKFold. Для воспроизводимости используйте параметр random_state=42. При необходимости посмотрите документацию для метода StratifiedKFold.**"
   ]
  },
  {
   "cell_type": "code",
   "execution_count": 19,
   "metadata": {
    "collapsed": false
   },
   "outputs": [],
   "source": [
    "folds = StratifiedKFold(y, n_folds=3)\n",
    "c_values = np.logspace(-2, 2, 10)\n",
    "scores_by_c_val = []\n",
    "for c_val in c_values:\n",
    "    scores = []\n",
    "    for train_idx, test_idx in folds:\n",
    "        X_train_cv = train_df.iloc[train_idx, :]\n",
    "        X_test_cv = train_df.iloc[test_idx, :]\n",
    "        scaler = StandardScaler()\n",
    "        X_train_cv_scaled = scaler.fit_transform(X_train_cv)\n",
    "        X_test_cv_scaled = scaler.transform(X_test_cv)\n",
    "        y_train, y_test = y.iloc[train_idx], y.iloc[test_idx]\n",
    "        \n",
    "        logit = LogisticRegression(C=c_val)\n",
    "        logit.fit(X_train_cv_scaled, y_train)\n",
    "        scores.append(roc_auc_score(logit.predict(X_test_cv_scaled),\n",
    "                                   y_test))\n",
    "    scores_by_c_val.append(np.mean(scores))"
   ]
  },
  {
   "cell_type": "markdown",
   "metadata": {},
   "source": [
    "**Постройте график зависимости среднего ROC AUC от параметра C. Напечатайте лучшие полученные значения ROC AUC и С.**"
   ]
  },
  {
   "cell_type": "code",
   "execution_count": 20,
   "metadata": {
    "collapsed": false
   },
   "outputs": [
    {
     "name": "stdout",
     "output_type": "stream",
     "text": [
      "0.701873330685 12.9154966501\n"
     ]
    },
    {
     "data": {
      "text/plain": [
       "[<matplotlib.lines.Line2D at 0x110fcf750>]"
      ]
     },
     "execution_count": 20,
     "metadata": {},
     "output_type": "execute_result"
    },
    {
     "data": {
      "image/png": "[encoded data removed]",
      "text/plain": [
       "<matplotlib.figure.Figure at 0x110e931d0>"
      ]
     },
     "metadata": {},
     "output_type": "display_data"
    }
   ],
   "source": [
    "print(np.max(scores_by_c_val), c_values[np.argmax(scores_by_c_val)])\n",
    "plot(c_values, scores_by_c_val)"
   ]
  },
  {
   "cell_type": "markdown",
   "metadata": {},
   "source": [
    "**Отшкалируйте всю обучающую и всю тестовую выборки.**"
   ]
  },
  {
   "cell_type": "code",
   "execution_count": 21,
   "metadata": {
    "collapsed": true
   },
   "outputs": [],
   "source": [
    "scaler = StandardScaler()\n",
    "\n",
    "X_train_scaled = pd.DataFrame(scaler.fit_transform(train_df),\n",
    "                             columns=train_df.columns)\n",
    "X_test_scaled = pd.DataFrame(scaler.transform(test_df),\n",
    "                             columns=test_df.columns)"
   ]
  },
  {
   "cell_type": "markdown",
   "metadata": {},
   "source": [
    "**Обучите логистическую регрессию с найденным лучшим значением параметра C на всей выборке, сделайте прогноз для тестовой выборки (обратите внимание - тоже отшкалированной!). В качестве прогноза выдавайте не метку класса (1/0), а вероятность принадлежности к первому классу (метод predict_proba).**"
   ]
  },
  {
   "cell_type": "code",
   "execution_count": 22,
   "metadata": {
    "collapsed": true
   },
   "outputs": [],
   "source": [
    "logit = LogisticRegression(C=c_values[np.argmax(scores_by_c_val)])\n",
    "logit.fit(X_train_scaled, y)\n",
    "second_logit_pred = logit.predict_proba(X_test_scaled)[:,1]"
   ]
  },
  {
   "cell_type": "markdown",
   "metadata": {},
   "source": [
    "**Сформируйте файл посылки и отправьте решение на Kaggle.**"
   ]
  },
  {
   "cell_type": "code",
   "execution_count": 23,
   "metadata": {
    "collapsed": false
   },
   "outputs": [],
   "source": [
    "# turn predictions into data frame and save as csv file\n",
    "predicted_df = pd.DataFrame(second_logit_pred,\n",
    "                            index = np.arange(1, test_df.shape[0] + 1),\n",
    "                            columns=[\"too_much\"])\n",
    "predicted_df.to_csv(\"../../output/car_ins_logit_9features.csv\", index_label=\"id\")"
   ]
  },
  {
   "cell_type": "markdown",
   "metadata": {},
   "source": [
    "## Часть 3. Важность признаков"
   ]
  },
  {
   "cell_type": "markdown",
   "metadata": {},
   "source": [
    "**Определите важности построенных признаков как модули соответствующих коэффициентов логистической регресии (атрибут coef_), обученной на предыдущем шаге. **"
   ]
  },
  {
   "cell_type": "code",
   "execution_count": 24,
   "metadata": {
    "collapsed": false
   },
   "outputs": [
    {
     "data": {
      "text/plain": [
       "array([ 1.27636131,  0.19973936,  1.25806318,  0.1465809 ,  0.44999564,\n",
       "        0.29005355,  0.11334481,  0.16273691,  0.74288975])"
      ]
     },
     "execution_count": 24,
     "metadata": {},
     "output_type": "execute_result"
    }
   ],
   "source": [
    "logit_abs_coefs = [abs(i) for i in logit.coef_][0]\n",
    "logit_abs_coefs"
   ]
  },
  {
   "cell_type": "markdown",
   "metadata": {},
   "source": [
    "**Отсортируйте признаки в порядке убывания важности.**"
   ]
  },
  {
   "cell_type": "code",
   "execution_count": 25,
   "metadata": {
    "collapsed": false
   },
   "outputs": [
    {
     "data": {
      "text/html": [
       "<div>\n",
       "<table border=\"1\" class=\"dataframe\">\n",
       "  <thead>\n",
       "    <tr style=\"text-align: right;\">\n",
       "      <th></th>\n",
       "      <th>importance</th>\n",
       "    </tr>\n",
       "  </thead>\n",
       "  <tbody>\n",
       "    <tr>\n",
       "      <th>0</th>\n",
       "      <td>compensated</td>\n",
       "    </tr>\n",
       "    <tr>\n",
       "      <th>1</th>\n",
       "      <td>mean_compensated_by_region</td>\n",
       "    </tr>\n",
       "    <tr>\n",
       "      <th>2</th>\n",
       "      <td>amax_compensated_by_region</td>\n",
       "    </tr>\n",
       "    <tr>\n",
       "      <th>3</th>\n",
       "      <td>median_compensated_by_region</td>\n",
       "    </tr>\n",
       "    <tr>\n",
       "      <th>4</th>\n",
       "      <td>amin_compensated_by_auto_brand</td>\n",
       "    </tr>\n",
       "    <tr>\n",
       "      <th>5</th>\n",
       "      <td>mean_compensated_by_auto_brand</td>\n",
       "    </tr>\n",
       "    <tr>\n",
       "      <th>6</th>\n",
       "      <td>amax_compensated_by_auto_brand</td>\n",
       "    </tr>\n",
       "    <tr>\n",
       "      <th>7</th>\n",
       "      <td>median_compensated_by_auto_brand</td>\n",
       "    </tr>\n",
       "    <tr>\n",
       "      <th>8</th>\n",
       "      <td>amin_compensated_by_region</td>\n",
       "    </tr>\n",
       "  </tbody>\n",
       "</table>\n",
       "</div>"
      ],
      "text/plain": [
       "                         importance\n",
       "0                       compensated\n",
       "1        mean_compensated_by_region\n",
       "2        amax_compensated_by_region\n",
       "3      median_compensated_by_region\n",
       "4    amin_compensated_by_auto_brand\n",
       "5    mean_compensated_by_auto_brand\n",
       "6    amax_compensated_by_auto_brand\n",
       "7  median_compensated_by_auto_brand\n",
       "8        amin_compensated_by_region"
      ]
     },
     "execution_count": 25,
     "metadata": {},
     "output_type": "execute_result"
    }
   ],
   "source": [
    "best_features = np.array([train_df.columns[i] \n",
    "                 for i in np.argsort(logit_abs_coefs)[::-1]])\n",
    "pd.DataFrame(best_features, columns=['importance'])"
   ]
  },
  {
   "cell_type": "markdown",
   "metadata": {},
   "source": [
    "## Ссылки:\n",
    "- <a href=\"https://inclass.kaggle.com/c/hse-minor-20152\">Соревнование</a> на сайте Kaggle Inclass\n",
    "- Исходное <a href=\"http://microsoftbi.ru/2015/06/06/hackathon2015ml/\">описание</a> задачи\n",
    "- [Документация](http://scikit-learn.org/stable/modules/generated/sklearn.linear_model.LogisticRegression.html) Scikit-learn по классу LogisticRegression"
   ]
  }
 ],
 "metadata": {
  "kernelspec": {
   "display_name": "Python 2",
   "language": "python",
   "name": "python2"
  },
  "language_info": {
   "codemirror_mode": {
    "name": "ipython",
    "version": 2
   },
   "file_extension": ".py",
   "mimetype": "text/x-python",
   "name": "python",
   "nbconvert_exporter": "python",
   "pygments_lexer": "ipython2",
   "version": "2.7.11"
  },
  "name": "lesson1_part3_kaggle_inclass_contest.ipynb"
 },
 "nbformat": 4,
 "nbformat_minor": 0
}
