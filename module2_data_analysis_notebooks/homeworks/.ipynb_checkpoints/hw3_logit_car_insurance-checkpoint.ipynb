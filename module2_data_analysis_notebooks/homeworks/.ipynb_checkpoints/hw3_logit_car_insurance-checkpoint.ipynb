{
 "cells": [
  {
   "cell_type": "markdown",
   "metadata": {
    "collapsed": true
   },
   "source": [
    "<center>\n",
    "<img src=\"../../img/ml_theme.png\">\n",
    "# Майнор \"Интеллектуальный анализ данных\" \n",
    "# Курс \"Введение в анализ данных\"\n",
    "<img src=\"../../img/faculty_logo.jpg\" height=\"240\" width=\"240\">\n",
    "## Автор материала: преподаватель ФКН НИУ ВШЭ Кашницкий Юрий\n",
    "</center>\n",
    "Материал распространяется на условиях лицензии <a href=\"http://www.microsoft.com/en-us/openness/default.aspx#Ms-RL\">Ms-RL</a>. Можно использовать в любых целях, но с обязательным упоминанием автора курса и аффилиации."
   ]
  },
  {
   "cell_type": "markdown",
   "metadata": {
    "collapsed": true
   },
   "source": [
    "# Семинары 5 и 6. Линейные модели в машинном обучении"
   ]
  },
  {
   "cell_type": "markdown",
   "metadata": {},
   "source": [
    "## Домашнее задание 3. Логистическая регрессия в соревновании Kaggle Inclass по автострахованию"
   ]
  },
  {
   "cell_type": "markdown",
   "metadata": {},
   "source": [
    "[Соревнование](https://inclass.kaggle.com/c/hse-minor-20152), исходное <a href=\"http://microsoftbi.ru/2015/06/06/hackathon2015ml/\">описание</a> задачи. \n",
    "\n",
    "Задача бинарной классификации. Имеются автомобили, для которых указан регистрационный номер и марка, и выплаты страховой компании по инцидентам с участием данного автомобиля. Страховая компания для себя решает, много она заплатила или мало. \n",
    "\n",
    "Объекты - автомобили.\n",
    "\n",
    "Признаки:\n",
    "\n",
    "- Регистрационный номер автомобиля (auto_number, уникальный, строка)\n",
    "- Марка автомобиля (auto_brand, строка)\n",
    "- Тип выплаты (too_much) (много/мало, 1 или 0)\n",
    "- Сумма выплаты при попадании водителя в аварию (compensated, целое положительное число)"
   ]
  },
  {
   "cell_type": "markdown",
   "metadata": {},
   "source": [
    "### Загрузка и первичный анализ данных"
   ]
  },
  {
   "cell_type": "markdown",
   "metadata": {},
   "source": [
    "**Обратите внимание, что в директории '../../scripts/' должен находиться файл load_car_insurance_with_region.py.**"
   ]
  },
  {
   "cell_type": "code",
   "execution_count": 1,
   "metadata": {
    "collapsed": false
   },
   "outputs": [
    {
     "name": "stdout",
     "output_type": "stream",
     "text": [
      "Populating the interactive namespace from numpy and matplotlib\n"
     ]
    }
   ],
   "source": [
    "from __future__ import division, print_function\n",
    "import warnings\n",
    "warnings.filterwarnings('ignore')\n",
    "%pylab inline\n",
    "figsize(12, 8)\n",
    "import seaborn as sns\n",
    "import pandas as pd\n",
    "from sklearn.metrics import roc_auc_score\n",
    "from sklearn.preprocessing import StandardScaler\n",
    "from sklearn.cross_validation import StratifiedKFold\n",
    "from sklearn.linear_model import LogisticRegression\n",
    "import sys\n",
    "sys.path.append('../../scripts/')\n",
    "from load_car_insurance_with_region import load_train_and_test"
   ]
  },
  {
   "cell_type": "markdown",
   "metadata": {},
   "source": [
    "**Считаем обучающую и тестовую выборку, создав объекты Pandas DataFrame.**"
   ]
  },
  {
   "cell_type": "code",
   "execution_count": 2,
   "metadata": {
    "collapsed": false
   },
   "outputs": [],
   "source": [
    "train_df, y, test_df = load_train_and_test('../../data/car_insurance_train.csv',\n",
    "                                          '../../data/car_insurance_test.csv')"
   ]
  },
  {
   "cell_type": "code",
   "execution_count": 3,
   "metadata": {
    "collapsed": false
   },
   "outputs": [
    {
     "data": {
      "text/html": [
       "<div>\n",
       "<table border=\"1\" class=\"dataframe\">\n",
       "  <thead>\n",
       "    <tr style=\"text-align: right;\">\n",
       "      <th></th>\n",
       "      <th>auto_brand</th>\n",
       "      <th>compensated</th>\n",
       "      <th>region</th>\n",
       "    </tr>\n",
       "    <tr>\n",
       "      <th>id</th>\n",
       "      <th></th>\n",
       "      <th></th>\n",
       "      <th></th>\n",
       "    </tr>\n",
       "  </thead>\n",
       "  <tbody>\n",
       "    <tr>\n",
       "      <th>1</th>\n",
       "      <td>2</td>\n",
       "      <td>3200</td>\n",
       "      <td>21</td>\n",
       "    </tr>\n",
       "    <tr>\n",
       "      <th>2</th>\n",
       "      <td>5</td>\n",
       "      <td>6500</td>\n",
       "      <td>12</td>\n",
       "    </tr>\n",
       "    <tr>\n",
       "      <th>3</th>\n",
       "      <td>2</td>\n",
       "      <td>2100</td>\n",
       "      <td>9</td>\n",
       "    </tr>\n",
       "    <tr>\n",
       "      <th>4</th>\n",
       "      <td>2</td>\n",
       "      <td>2000</td>\n",
       "      <td>4</td>\n",
       "    </tr>\n",
       "    <tr>\n",
       "      <th>5</th>\n",
       "      <td>2</td>\n",
       "      <td>6100</td>\n",
       "      <td>21</td>\n",
       "    </tr>\n",
       "  </tbody>\n",
       "</table>\n",
       "</div>"
      ],
      "text/plain": [
       "    auto_brand  compensated  region\n",
       "id                                 \n",
       "1            2         3200      21\n",
       "2            5         6500      12\n",
       "3            2         2100       9\n",
       "4            2         2000       4\n",
       "5            2         6100      21"
      ]
     },
     "execution_count": 3,
     "metadata": {},
     "output_type": "execute_result"
    }
   ],
   "source": [
    "train_df.head()"
   ]
  },
  {
   "cell_type": "markdown",
   "metadata": {},
   "source": [
    "## Часть 1. Логистическая регрессия с исходными признаками и регионом"
   ]
  },
  {
   "cell_type": "markdown",
   "metadata": {},
   "source": [
    "**Проведите кросс-валидацию для логистической регрессии с настройкой параметров и со шкалированием признаков.\n",
    "Используйте разбиение на подвыборки с помощью StratifiedKFold. Для воспроизводимости используйте параметр random_state=42. При необходимости посмотрите документацию для метода StratifiedKFold.**"
   ]
  },
  {
   "cell_type": "code",
   "execution_count": null,
   "metadata": {
    "collapsed": false
   },
   "outputs": [],
   "source": [
    "folds = StratifiedKFold # Ваш код здесь\n",
    "c_values = np.logspace(-2, 2, 10)\n",
    "scores_by_c_val = []\n",
    "for c_val in c_values:\n",
    "    scores = []\n",
    "    for train_idx, test_idx in folds:\n",
    "        X_train_cv = # Ваш код здесь\n",
    "        X_test_cv = # Ваш код здесь\n",
    "        scaler = StandardScaler()\n",
    "        X_train_cv_scaled = # Ваш код здесь\n",
    "        X_test_cv_scaled = # Ваш код здесь\n",
    "        \n",
    "        y_train, y_test = # Ваш код здесь\n",
    "        \n",
    "        logit = # Ваш код здесь\n",
    "        logit.fit # Ваш код здесь\n",
    "        scores.append(roc_auc_score(logit.predict(X_test_cv_scaled),\n",
    "                                   y_test))\n",
    "    scores_by_c_val.append(np.mean(scores))"
   ]
  },
  {
   "cell_type": "markdown",
   "metadata": {},
   "source": [
    "**Постройте график зависимости среднего ROC AUC от параметра C. Напечатайте лучшие полученные значения ROC AUC и С.**"
   ]
  },
  {
   "cell_type": "code",
   "execution_count": null,
   "metadata": {
    "collapsed": false
   },
   "outputs": [],
   "source": [
    "# Ваш код здесь"
   ]
  },
  {
   "cell_type": "markdown",
   "metadata": {},
   "source": [
    "**Отшкалируйте всю обучающую и всю тестовую выборки.**"
   ]
  },
  {
   "cell_type": "code",
   "execution_count": null,
   "metadata": {
    "collapsed": true
   },
   "outputs": [],
   "source": [
    "scaler = StandardScaler()\n",
    "X_train_scaled = # Ваш код здесь\n",
    "X_test_scaled = # Ваш код здесь"
   ]
  },
  {
   "cell_type": "markdown",
   "metadata": {},
   "source": [
    "**Обучите логистическую регрессию с найденным лучшим значением параметра C на всей выборке, сделайте прогноз для тестовой выборки (обратите внимание - тоже отшкалированной!). В качестве прогноза выдавайте не метку класса (1/0), а вероятность принадлежности к первому классу (метод predict_proba).**"
   ]
  },
  {
   "cell_type": "code",
   "execution_count": null,
   "metadata": {
    "collapsed": true
   },
   "outputs": [],
   "source": [
    "logit = # Ваш код здесь\n",
    "logit.fit # Ваш код здесь\n",
    "first_logit_pred = logit.predict_proba # Ваш код здесь"
   ]
  },
  {
   "cell_type": "markdown",
   "metadata": {},
   "source": [
    "**Сформируйте файл посылки и отправьте решение на Kaggle.**"
   ]
  },
  {
   "cell_type": "code",
   "execution_count": null,
   "metadata": {
    "collapsed": false
   },
   "outputs": [],
   "source": [
    "# turn predictions into data frame and save as csv file\n",
    "predicted_df = pd.DataFrame(first_logit_pred,\n",
    "                            index = np.arange(1, \n",
    "                                    test_df.shape[0] + 1),\n",
    "                            columns=[\"too_much\"])\n",
    "predicted_df.to_csv(\"../../output/car_ins_logit_3features.csv\", \n",
    "                    index_label=\"id\")"
   ]
  },
  {
   "cell_type": "markdown",
   "metadata": {},
   "source": [
    "**Какое значение ROC AUC получилось на публичной части тестовой выборки?**"
   ]
  },
  {
   "cell_type": "markdown",
   "metadata": {},
   "source": [
    "## Часть 2. Логистическая регрессия с новыми признаками"
   ]
  },
  {
   "cell_type": "markdown",
   "metadata": {},
   "source": [
    "**Продвинутый подход при работе с категориальными признаками - это считать статистики (например, max, min, median, квантили и т.д.) количественных признаков по категориальным. Для этого удобно использовать метод groupby pandas.DataFrame (при необходимости посмотрите документацию метода).**"
   ]
  },
  {
   "cell_type": "code",
   "execution_count": null,
   "metadata": {
    "collapsed": false
   },
   "outputs": [],
   "source": [
    "#?train_df.groupby"
   ]
  },
  {
   "cell_type": "markdown",
   "metadata": {},
   "source": [
    "**Пример. Считаем средние выплаты для каждой марки авто отдельно. Видно, что для разных марок средние выплаты могут существенно отличаться.**"
   ]
  },
  {
   "cell_type": "code",
   "execution_count": null,
   "metadata": {
    "collapsed": false
   },
   "outputs": [],
   "source": [
    "mean_comp_by_brand = {brand_cat[0]: brand_cat[1]['compensated'].mean() \n",
    "                      for brand_cat in train_df.groupby(\"auto_brand\")}"
   ]
  },
  {
   "cell_type": "code",
   "execution_count": null,
   "metadata": {
    "collapsed": false
   },
   "outputs": [],
   "source": [
    "mean_comp_by_brand"
   ]
  },
  {
   "cell_type": "markdown",
   "metadata": {},
   "source": [
    "**Создайте признаки \"Медианные выплаты по маркам\", \"Средние выплаты по регионам\" и т.п. (используйте функцию groupby). Посчитайте статистики mean, median, min и max (можно, конечно, и написать функцию, которая считает заданную статистику для заданного признака). Получится 8 новых признаков. После этого удалите исходные признаки auto_brand и region.**"
   ]
  },
  {
   "cell_type": "code",
   "execution_count": null,
   "metadata": {
    "collapsed": true
   },
   "outputs": [],
   "source": [
    "# Ваш код здесь"
   ]
  },
  {
   "cell_type": "code",
   "execution_count": null,
   "metadata": {
    "collapsed": true
   },
   "outputs": [],
   "source": [
    "train_df.drop(['region', 'auto_brand'], axis=1, inplace=True)\n",
    "test_df.drop(['region', 'auto_brand'], axis=1, inplace=True)"
   ]
  },
  {
   "cell_type": "code",
   "execution_count": null,
   "metadata": {
    "collapsed": false
   },
   "outputs": [],
   "source": [
    "train_df.shape, test_df.shape"
   ]
  },
  {
   "cell_type": "markdown",
   "metadata": {},
   "source": [
    "**Проведите кросс-валидацию для логистической регрессии с настройкой параметров и со шкалированием признаков.\n",
    "Используйте разбиение на подвыборки с помощью StratifiedKFold. Для воспроизводимости используйте параметр random_state=42. При необходимости посмотрите документацию для метода StratifiedKFold.**"
   ]
  },
  {
   "cell_type": "code",
   "execution_count": null,
   "metadata": {
    "collapsed": false
   },
   "outputs": [],
   "source": [
    "folds = StratifiedKFold # Ваш код здесь\n",
    "c_values = np.logspace(-2, 2, 10)\n",
    "scores_by_c_val = []\n",
    "for c_val in c_values:\n",
    "    scores = []\n",
    "    for train_idx, test_idx in folds:\n",
    "        X_train_cv = # Ваш код здесь\n",
    "        X_test_cv = # Ваш код здесь\n",
    "        scaler = StandardScaler()\n",
    "        X_train_cv_scaled = # Ваш код здесь\n",
    "        X_test_cv_scaled = # Ваш код здесь\n",
    "        \n",
    "        y_train, y_test = # Ваш код здесь\n",
    "        \n",
    "        logit = # Ваш код здесь\n",
    "        logit.fit # Ваш код здесь\n",
    "        scores.append(roc_auc_score(logit.predict(X_test_cv_scaled),\n",
    "                                   y_test))\n",
    "    scores_by_c_val.append(np.mean(scores))"
   ]
  },
  {
   "cell_type": "markdown",
   "metadata": {},
   "source": [
    "**Постройте график зависимости среднего ROC AUC от параметра C. Напечатайте лучшие полученные значения ROC AUC и С.**"
   ]
  },
  {
   "cell_type": "code",
   "execution_count": null,
   "metadata": {
    "collapsed": false
   },
   "outputs": [],
   "source": [
    "# Ваш код здесь"
   ]
  },
  {
   "cell_type": "markdown",
   "metadata": {},
   "source": [
    "**Отшкалируйте всю обучающую и всю тестовую выборки.**"
   ]
  },
  {
   "cell_type": "code",
   "execution_count": null,
   "metadata": {
    "collapsed": true
   },
   "outputs": [],
   "source": [
    "scaler = StandardScaler()\n",
    "X_train_scaled = # Ваш код здесь\n",
    "X_test_scaled = # Ваш код здесь"
   ]
  },
  {
   "cell_type": "markdown",
   "metadata": {},
   "source": [
    "**Обучите логистическую регрессию с найденным лучшим значением параметра C на всей выборке, сделайте прогноз для тестовой выборки (обратите внимание - тоже отшкалированной!). В качестве прогноза выдавайте не метку класса (1/0), а вероятность принадлежности к первому классу (метод predict_proba).**"
   ]
  },
  {
   "cell_type": "code",
   "execution_count": null,
   "metadata": {
    "collapsed": true
   },
   "outputs": [],
   "source": [
    "logit = # Ваш код здесь\n",
    "logit.fit # Ваш код здесь\n",
    "second_logit_pred = logit.predict_proba # Ваш код здесь"
   ]
  },
  {
   "cell_type": "markdown",
   "metadata": {},
   "source": [
    "**Сформируйте файл посылки и отправьте решение на Kaggle.**"
   ]
  },
  {
   "cell_type": "code",
   "execution_count": null,
   "metadata": {
    "collapsed": false
   },
   "outputs": [],
   "source": [
    "# turn predictions into data frame and save as csv file\n",
    "predicted_df = pd.DataFrame(second_logit_pred,\n",
    "                            index = np.arange(1, \n",
    "                                    test_df.shape[0] + 1),\n",
    "                            columns=[\"too_much\"])\n",
    "predicted_df.to_csv(\"../../output/car_ins_logit_9features.csv\", \n",
    "                    index_label=\"id\")"
   ]
  },
  {
   "cell_type": "markdown",
   "metadata": {},
   "source": [
    "**Какое значение ROC AUC получилось на публичной части тестовой выборки?**"
   ]
  },
  {
   "cell_type": "markdown",
   "metadata": {},
   "source": [
    "## Часть 3. Важность признаков"
   ]
  },
  {
   "cell_type": "markdown",
   "metadata": {},
   "source": [
    "**Определите важности построенных признаков как модули соответствующих коэффициентов логистической регрессии (атрибут coef_), обученной на предыдущем шаге. **"
   ]
  },
  {
   "cell_type": "code",
   "execution_count": null,
   "metadata": {
    "collapsed": false
   },
   "outputs": [],
   "source": [
    "logit_abs_coefs = # Ваш код здесь\n",
    "logit_abs_coefs"
   ]
  },
  {
   "cell_type": "markdown",
   "metadata": {},
   "source": [
    "**Отсортируйте признаки в порядке убывания важности.**"
   ]
  },
  {
   "cell_type": "code",
   "execution_count": null,
   "metadata": {
    "collapsed": false
   },
   "outputs": [],
   "source": [
    "best_features = # Ваш код здесь\n",
    "pd.DataFrame(best_features, columns=['importance'])"
   ]
  },
  {
   "cell_type": "markdown",
   "metadata": {},
   "source": [
    "## Ссылки:\n",
    "- <a href=\"https://inclass.kaggle.com/c/hse-minor-20152\">Соревнование</a> на сайте Kaggle Inclass\n",
    "- Исходное <a href=\"http://microsoftbi.ru/2015/06/06/hackathon2015ml/\">описание</a> задачи\n",
    "- [Документация](http://scikit-learn.org/stable/modules/generated/sklearn.linear_model.LogisticRegression.html) Scikit-learn по классу LogisticRegression"
   ]
  }
 ],
 "metadata": {
  "kernelspec": {
   "display_name": "Python 2",
   "language": "python",
   "name": "python2"
  },
  "language_info": {
   "codemirror_mode": {
    "name": "ipython",
    "version": 2
   },
   "file_extension": ".py",
   "mimetype": "text/x-python",
   "name": "python",
   "nbconvert_exporter": "python",
   "pygments_lexer": "ipython2",
   "version": "2.7.11"
  },
  "name": "lesson1_part3_kaggle_inclass_contest.ipynb"
 },
 "nbformat": 4,
 "nbformat_minor": 0
}
