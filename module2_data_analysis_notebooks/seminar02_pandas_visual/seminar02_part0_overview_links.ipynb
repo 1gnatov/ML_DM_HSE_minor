{
 "cells": [
  {
   "cell_type": "markdown",
   "metadata": {},
   "source": [
    "<center>\n",
    "<img src=\"../../img/ml_theme.png\">\n",
    "# Майнор \"Интеллектуальный анализ данных\" \n",
    "# Курс \"Введение в анализ данных\"\n",
    "<img src=\"../../img/faculty_logo.jpg\" height=\"240\" width=\"240\">\n",
    "## Автор материала: преподаватель ФКН НИУ ВШЭ Кашницкий Юрий\n",
    "</center>\n",
    "Материал распространяется на условиях лицензии <a href=\"http://www.microsoft.com/en-us/openness/default.aspx#Ms-RL\">Ms-RL</a>. Можно использовать в любых целях, но с обязательным упоминанием автора курса и аффилиации."
   ]
  },
  {
   "cell_type": "markdown",
   "metadata": {},
   "source": [
    "# Семинар 2. Python для анализа данных. Средства визуализации. Pandas, Matplotlib, Seaborn."
   ]
  },
  {
   "cell_type": "markdown",
   "metadata": {},
   "source": [
    "## Часть 1. План занятия"
   ]
  },
  {
   "cell_type": "markdown",
   "metadata": {},
   "source": [
    "- Обзор библиотеки Pandas\n",
    "- Пример первичного анализа данных с Pandas\n",
    "- Обзор библиотеки Matplotlib\n",
    "- Обзор библиотеки Seaborn\n",
    "- Пример визуального анализа данных с Pandas и Seaborn \n",
    "- Практика"
   ]
  },
  {
   "cell_type": "markdown",
   "metadata": {},
   "source": [
    "**Pandas** - это библиотека Python, предоставляющая широкие возможности для анализа данных. С ее помощью очень удобно загружать, обрабатывать и анализировать табличные данные с помощью SQL-подобных запросов. В связке с библиотеками Matplotlib и Seaborn появляется возможность удобного визуального анализа табличных данных."
   ]
  },
  {
   "cell_type": "markdown",
   "metadata": {},
   "source": [
    "**Matplotlib** - библиотека  Python для визуализации данных двух- и трехмерной графикой. Обладает большим набором возможностей контроля каждого элемента изображения. "
   ]
  },
  {
   "cell_type": "markdown",
   "metadata": {},
   "source": [
    "**Seaborn** - надстройка над библиотекой Matplotlib. Позволяет чуть проще, чем с Matplotlib, делать \"стильные\" и информативные статистические графики. Поддерживает структуры данных NumPy и Pandas, а также статистические методы, реализованные в SciPy и statmodels."
   ]
  },
  {
   "cell_type": "markdown",
   "metadata": {},
   "source": [
    "## Полезные ссылки"
   ]
  },
  {
   "cell_type": "markdown",
   "metadata": {},
   "source": [
    " - Множество гайдов и уроков по пакету Pandas представлено на [сайте](http://pandas.pydata.org/pandas-docs/stable/tutorials.html) с документацией\n",
    " - [Тьюториал](http://pandas.pydata.org/pandas-docs/stable/10min.html) \"10 minutes to Pandas\"\n",
    " - [Pandas Cheat Sheet](http://www.analyticsvidhya.com/blog/2015/07/11-steps-perform-data-analysis-pandas-python/)\n",
    " - [Сайт](http://matplotlib.org/) Matplotlib\n",
    " - [Сайт](http://stanford.edu/~mwaskom/software/seaborn/) Seaborn\n",
    " - [«Data science IPython notebooks»](https://github.com/donnemartin/data-science-ipython-notebooks), [ipython-notebooks](https://github.com/jdwittenauer/ipython-notebooks), [scientific-python-lectures](https://github.com/jrjohansson/scientific-python-lectures) - репозитории GitHub с тетрадками IPython по основным библиотекам Python для анализа данных — NumPy, SciPy, Pandas, Matplotlib, Scikit-learn и не только \n",
    " - Прогнозирование результатов выборов в США. Хороший пример анализа данных с Pandas. [Репозиторий](https://github.com/jseabold/538model/blob/master/historical_adjustment.ipynb) GitHub\n",
    " - [Обзор](https://habrahabr.ru/post/270449/) полезных репозиториев по языку программирования Python и машинному обучению "
   ]
  }
 ],
 "metadata": {
  "kernelspec": {
   "display_name": "Python 2",
   "language": "python",
   "name": "python2"
  },
  "language_info": {
   "codemirror_mode": {
    "name": "ipython",
    "version": 2
   },
   "file_extension": ".py",
   "mimetype": "text/x-python",
   "name": "python",
   "nbconvert_exporter": "python",
   "pygments_lexer": "ipython2",
   "version": "2.7.10"
  },
  "name": "seminar02_part2_pandas.ipynb"
 },
 "nbformat": 4,
 "nbformat_minor": 0
}
