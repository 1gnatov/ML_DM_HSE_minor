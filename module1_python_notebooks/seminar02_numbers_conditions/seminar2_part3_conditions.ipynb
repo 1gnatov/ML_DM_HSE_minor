{
 "cells": [
  {
   "cell_type": "markdown",
   "metadata": {},
   "source": [
    "<center>\n",
    "<img src=\"../../img/python_theme.png\">\n",
    "# Майнор \"Интеллектуальный анализ данных\" \n",
    "# Курс \"Введение в программирование\"\n",
    "<img src=\"../../img/faculty_logo.jpg\" height=\"240\" width=\"240\">\n",
    "\n",
    "## Автор материала: Юрий Кашницкий, ФКН НИУ ВШЭ\n",
    "</center>\n",
    "Материал распространяется на условиях лицензии <a href=\"https://opensource.org/licenses/MS-RL\">Ms-RL</a>. Можно использовать в любых целях, кроме коммерческих, но с обязательным упоминанием автора материала."
   ]
  },
  {
   "cell_type": "markdown",
   "metadata": {},
   "source": [
    "# Семинар 2. Встроенные типы данных. Переменные. Числа. Условный оператор \n",
    "## Часть 3. Переменные типа Bool. Условный оператор"
   ]
  },
  {
   "cell_type": "markdown",
   "metadata": {},
   "source": [
    "#### Для управления логикой программы нужен еще один тип переменной - bool. Переменная типа bool имеет всего два значения - True и False."
   ]
  },
  {
   "cell_type": "code",
   "execution_count": 1,
   "metadata": {
    "collapsed": false
   },
   "outputs": [
    {
     "name": "stdout",
     "output_type": "stream",
     "text": [
      "<type 'bool'>\n",
      "False\n",
      "<type 'bool'>\n",
      "True\n",
      "<type 'bool'>\n"
     ]
    }
   ],
   "source": [
    "is_connected = True\n",
    "print(type(is_connected))\n",
    "\n",
    "a, b = 5, 6\n",
    "a_greater_b = a > b\n",
    "print(a_greater_b)\n",
    "print(type(a_greater_b))\n",
    "\n",
    "c = bool(1)\n",
    "print(c)\n",
    "print(type(c))"
   ]
  },
  {
   "cell_type": "markdown",
   "metadata": {},
   "source": [
    "#### В простейшем виде условная инструкция в Питоне имеет следующий синтаксис:\n",
    "\n",
    "if Условие:\n",
    "   \n",
    "    Блок инструкций 1\n",
    "\n",
    "else:\n",
    "   \n",
    "    Блок инструкций 2"
   ]
  },
  {
   "cell_type": "markdown",
   "metadata": {},
   "source": [
    "#### Пример \n",
    "Если число делится на 7, напечатать это число и строку \"YES\", в противном случае - \"NO\""
   ]
  },
  {
   "cell_type": "code",
   "execution_count": 2,
   "metadata": {
    "collapsed": false
   },
   "outputs": [
    {
     "name": "stdout",
     "output_type": "stream",
     "text": [
      "Insert a number: 19\n",
      "NO\n"
     ]
    }
   ],
   "source": [
    "a = int(input(\"Insert a number: \"))\n",
    "if a % 7 == 0:\n",
    "    print(a)\n",
    "    print(\"YES\")\n",
    "else:\n",
    "    print(\"NO\")"
   ]
  },
  {
   "cell_type": "markdown",
   "metadata": {},
   "source": [
    "#### Если в каждом блоке всего по одной инструкции, можно использовать сокращенный синтаксис:\n",
    "\n",
    "Инструкция 1 if Условие else Инструкция 2"
   ]
  },
  {
   "cell_type": "code",
   "execution_count": 3,
   "metadata": {
    "collapsed": false
   },
   "outputs": [
    {
     "name": "stdout",
     "output_type": "stream",
     "text": [
      "0.07\n"
     ]
    }
   ],
   "source": [
    "has_debts = True\n",
    "comission = 0.07 if has_debts else 0.05\n",
    "print(comission)"
   ]
  },
  {
   "cell_type": "markdown",
   "metadata": {},
   "source": [
    "#### Пример \n",
    "Написать, что число четное или нечетное"
   ]
  },
  {
   "cell_type": "code",
   "execution_count": 4,
   "metadata": {
    "collapsed": false
   },
   "outputs": [
    {
     "name": "stdout",
     "output_type": "stream",
     "text": [
      "Insert a number: 23\n",
      "23 is odd\n"
     ]
    }
   ],
   "source": [
    "a = int(input(\"Insert a number: \"))\n",
    "print(str(a) + \" is \" + (\"even\" if a % 2 == 0 else \"odd\"))"
   ]
  },
  {
   "cell_type": "markdown",
   "metadata": {},
   "source": [
    "#### Условные конструкции могут быть вложенными. \n",
    "\n",
    "if Условие1:\n",
    "    \n",
    "    if Условие2:\n",
    "    \n",
    "        Блок инструкций 1\n",
    "        \n",
    "        ...\n",
    "        \n",
    "    else:\n",
    "    \n",
    "        Блок инструкций 2\n",
    "        \n",
    "else:\n",
    "   \n",
    "    Блок инструкций 3"
   ]
  },
  {
   "cell_type": "markdown",
   "metadata": {},
   "source": [
    "#### Пример\n",
    "Определить, в какой четверти находится точка, по ее координатам *(x, y)*"
   ]
  },
  {
   "cell_type": "code",
   "execution_count": 5,
   "metadata": {
    "collapsed": false
   },
   "outputs": [
    {
     "name": "stdout",
     "output_type": "stream",
     "text": [
      "Введите x: 3\n",
      "Введите y: 6\n",
      "Первая четверть\n"
     ]
    }
   ],
   "source": [
    "x = int(input(\"Введите x: \"))\n",
    "y = int(input(\"Введите y: \"))\n",
    "if x > 0:\n",
    "    if y > 0:               # x>0, y>0\n",
    "        print(\"Первая четверть\")\n",
    "    else:                   # x>0, y<0\n",
    "        print(\"Четвертая четверть\")\n",
    "else:\n",
    "    if y > 0:               # x<0, y>0\n",
    "        print(\"Вторая четверть\")\n",
    "    else:                   # x<0, y<0\n",
    "        print(\"Третья четверть\")"
   ]
  },
  {
   "cell_type": "markdown",
   "metadata": {},
   "source": [
    "**Однако не стоит злоупотреблять вложением конструкций. Если их слишком много вложенных друг в друга, читаемость кода сильно страдает (\"спагетти-код\") и разобраться в нем сложнее.**"
   ]
  },
  {
   "cell_type": "markdown",
   "metadata": {},
   "source": [
    "#### Блок *if-elif-else* (каскадная конструкция)\n",
    "if Условие 1:\n",
    "   \n",
    "    Блок инструкций 1\n",
    "\n",
    "elif Условие 2:\n",
    "\n",
    "    Блок инструкций 2\n",
    "    \n",
    "...\n",
    "\n",
    "elif Условие n:\n",
    "\n",
    "    Блок инструкций n\n",
    "    \n",
    "else:\n",
    "   \n",
    "    Блок инструкций n+1"
   ]
  },
  {
   "cell_type": "code",
   "execution_count": 8,
   "metadata": {
    "collapsed": false
   },
   "outputs": [
    {
     "name": "stdout",
     "output_type": "stream",
     "text": [
      "Введите x: -3\n",
      "Введите y: -5\n",
      "Третья четверть\n"
     ]
    }
   ],
   "source": [
    "x = int(input(\"Введите x: \"))\n",
    "y = int(input(\"Введите y: \"))\n",
    "if x > 0 and y > 0:\n",
    "    print(\"Первая четверть\")\n",
    "elif x > 0 and y < 0:\n",
    "    print(\"Четвертая четверть\")\n",
    "elif y > 0:\n",
    "    print(\"Вторая четверть\")\n",
    "else:\n",
    "    print(\"Третья четверть\")"
   ]
  },
  {
   "cell_type": "markdown",
   "metadata": {},
   "source": [
    "#### Задача [\"Високосный год\"](http://informatics.mccme.ru/mod/statements/view.php?id=8448#1)\n",
    "Требуется определить, является ли данный год високосным. (Напомним, что год является високосным, если его номер кратен 4, но не кратен 100, а также если он кратен 400.)\n",
    "\n",
    "Входные данные:\n",
    "Вводится единственное число - номер года (целое, положительное, не превышает 30000).\n",
    "\n",
    "Выходные данные:\n",
    "Требуется вывести слово YES, если год является високосным и NO - в противном случае.\n",
    "#### Решение\n",
    "Пока не используем функции и обработку исключений"
   ]
  },
  {
   "cell_type": "code",
   "execution_count": 6,
   "metadata": {
    "collapsed": false
   },
   "outputs": [
    {
     "name": "stdout",
     "output_type": "stream",
     "text": [
      "Insert year and press Enter: 2006\n",
      "NO\n"
     ]
    }
   ],
   "source": [
    "year = int(input(\"Insert year and press Enter: \"))\n",
    "\n",
    "if year > 30000:\n",
    "    print(\"Year should be <= 30000\")\n",
    "    year = input(\"Insert year and press Enter:\")\n",
    "    \n",
    "if (year % 4 == 0 and year % 100 != 0) or (year % 400 == 0):\n",
    "    print(\"YES\")\n",
    "else:\n",
    "    print(\"NO\")"
   ]
  }
 ],
 "metadata": {
  "kernelspec": {
   "display_name": "Python 2",
   "language": "python",
   "name": "python2"
  },
  "language_info": {
   "codemirror_mode": {
    "name": "ipython",
    "version": 2
   },
   "file_extension": ".py",
   "mimetype": "text/x-python",
   "name": "python",
   "nbconvert_exporter": "python",
   "pygments_lexer": "ipython2",
   "version": "2.7.12"
  },
  "name": "seminar2_part1_variables_strings_numbers.ipynb"
 },
 "nbformat": 4,
 "nbformat_minor": 0
}
