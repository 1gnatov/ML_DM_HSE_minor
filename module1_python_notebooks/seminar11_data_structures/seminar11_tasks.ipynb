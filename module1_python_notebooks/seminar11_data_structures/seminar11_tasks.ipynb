{
 "cells": [
  {
   "cell_type": "markdown",
   "metadata": {},
   "source": [
    "<center>\n",
    "<img src=\"../../img/python_theme.png\">\n",
    "# Майнор \"Интеллектуальный анализ данных\" \n",
    "# Курс \"Введение в программирование\"\n",
    "<img src=\"../../img/faculty_logo.jpg\" height=\"240\" width=\"240\">\n",
    "\n",
    "## Автор материала: Юрий Кашницкий, ФКН НИУ ВШЭ\n",
    "</center>\n",
    "Материал распространяется на условиях лицензии <a href=\"https://opensource.org/licenses/MS-RL\">Ms-RL</a>. Можно использовать в любых целях, кроме коммерческих, но с обязательным упоминанием автора материала."
   ]
  },
  {
   "cell_type": "markdown",
   "metadata": {},
   "source": [
    "# <center>Семинар 11. Структуры данных хранения\n",
    "## <center>Задачи"
   ]
  },
  {
   "cell_type": "code",
   "execution_count": 1,
   "metadata": {
    "collapsed": true
   },
   "outputs": [],
   "source": [
    "# Python 2 and 3 compatibility\n",
    "# pip install future\n",
    "from __future__ import (absolute_import, division,\n",
    "                        print_function, unicode_literals)"
   ]
  },
  {
   "cell_type": "markdown",
   "metadata": {},
   "source": [
    "## Top K элементов большого массива\n",
    "Дан массив из $N=10^7$ целых числел. Предложите алгоритм для поиска K наименьших чисел в этом массиве при $K = 5,100,10000$. Какова сложность этих алгоритмов? [Решение](https://tproger.ru/problems/find-the-smallest-one-million-numbers-in-one-billion-numbers/) на tproger.ru"
   ]
  },
  {
   "cell_type": "markdown",
   "metadata": {},
   "source": [
    "**Решение 1. Сортировка**\n",
    "\n",
    "Можно отсортировать элементы в порядке возрастания, а затем взять первые K чисел. Это потребует $O(N\\log(N))$ времени.\n",
    "\n",
    "**Решение 2. Max-куча**\n",
    "\n",
    "Можно использовать максимум-кучу. Мы сначала создаем кучу для первых K чисел с наибольшим элементом сверху.\n",
    "\n",
    "Затем мы проходимся по списку. Вставляя элемент в список, удаляем наибольший элемент.\n",
    "\n",
    "В итоге мы получим кучу, содержащую K наименьших чисел. Эффективность алгоритма $O(N\\log(K))$\n",
    "\n",
    "**Решение 3. На основе QuickSort**\n",
    "Рекурсивный алгоритм на основе QuickSort, только сортировка запускается для нужной части списка."
   ]
  },
  {
   "cell_type": "markdown",
   "metadata": {},
   "source": [
    "Создадим список из $10^7$ случайных чисел от 1 до $10^7$. Найдем 10 минимальных значений с помощью max-кучи."
   ]
  },
  {
   "cell_type": "code",
   "execution_count": 9,
   "metadata": {
    "collapsed": false
   },
   "outputs": [],
   "source": [
    "from random import randint\n",
    "\n",
    "N, K = 1e7, 10\n",
    "a_list = [randint(1, int(N)) for _ in range(int(N))]"
   ]
  },
  {
   "cell_type": "markdown",
   "metadata": {},
   "source": [
    "Создаем кучу из первых K элементов. Известный трюк: max-кучу представлять min-кучей из тех же элементов, но противоположного знака. Используем стандартную реализацию heapq."
   ]
  },
  {
   "cell_type": "code",
   "execution_count": 10,
   "metadata": {
    "collapsed": false
   },
   "outputs": [
    {
     "name": "stdout",
     "output_type": "stream",
     "text": [
      "CPU times: user 5.37 s, sys: 716 ms, total: 6.09 s\n",
      "Wall time: 6.56 s\n"
     ]
    }
   ],
   "source": [
    "%%time\n",
    "import heapq\n",
    "h = []\n",
    "for i in a_list[:K]:\n",
    "    heapq.heappush(h, -i)\n",
    "\n",
    "for j in a_list[K:]:\n",
    "    heapq.heappush(h, -j)\n",
    "    heapq.heappop(h)"
   ]
  },
  {
   "cell_type": "code",
   "execution_count": 11,
   "metadata": {
    "collapsed": false
   },
   "outputs": [
    {
     "name": "stdout",
     "output_type": "stream",
     "text": [
      "6,4,4,4,4,4,3,3,2,2,"
     ]
    }
   ],
   "source": [
    "for _ in range(K):\n",
    "    print(-1 * heapq.heappop(h), end=',')"
   ]
  },
  {
   "cell_type": "markdown",
   "metadata": {},
   "source": [
    "Сравним результат с простой сортировкой"
   ]
  },
  {
   "cell_type": "code",
   "execution_count": 12,
   "metadata": {
    "collapsed": false
   },
   "outputs": [
    {
     "name": "stdout",
     "output_type": "stream",
     "text": [
      "CPU times: user 13.6 s, sys: 626 ms, total: 14.3 s\n",
      "Wall time: 14.4 s\n"
     ]
    },
    {
     "data": {
      "text/plain": [
       "[2, 2, 3, 3, 4, 4, 4, 4, 4, 6]"
      ]
     },
     "execution_count": 12,
     "metadata": {},
     "output_type": "execute_result"
    }
   ],
   "source": [
    "%%time\n",
    "sorted(a_list)[:K]"
   ]
  },
  {
   "cell_type": "markdown",
   "metadata": {},
   "source": [
    "## Top K популярных запросов (аналог)\n",
    "Дано: файл размеров 1 Тб, содержащий на каждой строчке поисковые запросы пользователей, сервер с 1 Gb RAM, 1 CPU и бесконечный HDD. Требуется придумать алгоритм, который за минимально возможное время найдет 100 самых популярных запросов (ответ нужен точный, а не приближенный). [Ответ](http://n1b-algo.blogspot.ru/2012/07/finding-top-k-elements-in-large-dataset.html) на blogspot\n",
    "\n",
    "**Решение:** На HDD храним кучу из 100 элементов, данные читаем кусками по $\\approx 1$ ГБ (чуть меньше), обновляем значения в куче. "
   ]
  },
  {
   "cell_type": "markdown",
   "metadata": {},
   "source": [
    "## Пьяница\n",
    "В игре в пьяницу карточная колода раздается поровну двум игрокам. Далее они вскрывают по одной верхней карте, и тот, чья карта старше, забирает себе обе вскрытые карты, которые кладутся под низ его колоды. Тот, кто остается без карт – проигрывает.\n",
    "\n",
    "Для простоты будем считать, что все карты различны по номиналу, а также, что самая младшая карта побеждает самую старшую карту (\"шестерка берет туза\").\n",
    "\n",
    "Игрок, который забирает себе карты, сначала кладет под низ своей колоды карту первого игрока, затем карту второго игрока (то есть карта второго игрока оказывается внизу колоды).\n",
    "\n",
    "Напишите программу, которая моделирует игру в пьяницу и определяет, кто выигрывает. В игре участвует 10 карт, имеющих значения от 0 до 9, большая карта побеждает меньшую, карта со значением 0 побеждает карту 9.\n",
    "\n",
    "**Входные данные**\n",
    "\n",
    "Программа получает на вход две строки: первая строка содержит 5 карт первого игрока, вторая – 5 карт второго игрока. Карты перечислены сверху вниз, то есть каждая строка начинается с той карты, которая будет открыта первой.\n",
    "\n",
    "**Выходные данные**\n",
    "\n",
    "Программа должна определить, кто выигрывает при данной раздаче, и вывести слово first или second, после чего вывести количество ходов, сделанных до выигрыша. Если на протяжении $10^6$ ходов игра не заканчивается, программа должна вывести слово botva."
   ]
  },
  {
   "cell_type": "code",
   "execution_count": null,
   "metadata": {
    "collapsed": false
   },
   "outputs": [],
   "source": [
    "from queue import Queue\n",
    "\n",
    "first_player_cards = Queue()\n",
    "second_player_cards = Queue()\n",
    "\n",
    "for num in input().strip().split():\n",
    "    first_player_cards.put(int(num))\n",
    "\n",
    "for num in input().strip().split():\n",
    "    second_player_cards.put(int(num))\n",
    "\n",
    "def beats(card1, card2):\n",
    "    \"\"\"\n",
    "    if card1 beats card2\n",
    "    \"\"\"\n",
    "    if abs(card1 - card2) == 9:\n",
    "        return card1 < card2\n",
    "    else:\n",
    "        return card1 > card2\n",
    "\n",
    "num_rounds = 0\n",
    "\n",
    "while not first_player_cards.empty() and not second_player_cards.empty():\n",
    "    if num_rounds >= pow(10, 6):\n",
    "        print(\"botva\")\n",
    "        break\n",
    "    card1 = first_player_cards.get()\n",
    "    card2 = second_player_cards.get()\n",
    "\n",
    "    if beats(card1, card2):\n",
    "        first_player_cards.put(card1)\n",
    "        first_player_cards.put(card2)\n",
    "    elif beats(card2, card1):\n",
    "        second_player_cards.put(card1)\n",
    "        second_player_cards.put(card2)\n",
    "    num_rounds += 1\n",
    "else:\n",
    "    if not first_player_cards.empty():\n",
    "        print(\"first\", num_rounds, sep=\" \")\n",
    "    elif not second_player_cards.empty():\n",
    "        print(\"second\", num_rounds, sep=\" \")"
   ]
  }
 ],
 "metadata": {
  "kernelspec": {
   "display_name": "Python 3",
   "language": "python",
   "name": "python3"
  },
  "language_info": {
   "codemirror_mode": {
    "name": "ipython",
    "version": 3
   },
   "file_extension": ".py",
   "mimetype": "text/x-python",
   "name": "python",
   "nbconvert_exporter": "python",
   "pygments_lexer": "ipython3",
   "version": "3.5.2"
  }
 },
 "nbformat": 4,
 "nbformat_minor": 0
}
