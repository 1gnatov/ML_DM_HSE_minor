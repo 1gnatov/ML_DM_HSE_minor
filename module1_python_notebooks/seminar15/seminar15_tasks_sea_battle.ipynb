{
 "cells": [
  {
   "cell_type": "markdown",
   "metadata": {},
   "source": [
    "<center>\n",
    "<img src=\"../../img/python_theme.png\">\n",
    "# Майнор \"Интеллектуальный анализ данных\" \n",
    "# Курс \"Введение в программирование\"\n",
    "<img src=\"../../img/faculty_logo.jpg\" height=\"240\" width=\"240\">\n",
    "\n",
    "## Автор материала: Юрий Кашницкий, ФКН НИУ ВШЭ\n",
    "</center>\n",
    "Материал распространяется на условиях лицензии <a href=\"https://opensource.org/licenses/MS-RL\">Ms-RL</a>. Можно использовать в любых целях, кроме коммерческих, но с обязательным упоминанием автора материала."
   ]
  },
  {
   "cell_type": "markdown",
   "metadata": {},
   "source": [
    "# Семинар 15. Примеры интересных задач.\n",
    "## Морской бой"
   ]
  },
  {
   "cell_type": "code",
   "execution_count": 8,
   "metadata": {
    "collapsed": false
   },
   "outputs": [
    {
     "name": "stdout",
     "output_type": "stream",
     "text": [
      "  abcdefghij\n",
      "0|....#.....\n",
      "1|##..#..#.#\n",
      "2|....#..#..\n",
      "3|#.#.#..#.#\n",
      "4|.........#\n",
      "5|.....##...\n",
      "6|#.......#.\n",
      "7|#.........\n",
      "8|#.........\n",
      "9|..........\n",
      "\n"
     ]
    }
   ],
   "source": [
    "class Field:\n",
    "    def __init__(self, path_to_file):\n",
    "        self.field = self._fill(path_to_file)\n",
    "        self.num_ships = 10\n",
    "        \n",
    "    def _fill(self, path_to_file):\n",
    "        field = []\n",
    "        with open(path_to_file) as input_file:\n",
    "            for line in input_file:\n",
    "                field.append(line.strip().split(','))           \n",
    "        return field\n",
    "    \n",
    "    def __str__(self):\n",
    "        s = \"  abcdefghij\\n\"\n",
    "        for line_id, line in enumerate(self.field):\n",
    "            new_s = str(line_id) + '|'\n",
    "            for character in line:\n",
    "                new_s += character\n",
    "            s += new_s + '\\n'\n",
    "        return s\n",
    "    \n",
    "    def neighborhood(self, x, y):\n",
    "        return [(i, j) for i in [x - 1, x, x + 1]\n",
    "               for j in [y - 1, y, y + 1]\n",
    "               if i >= 0 and i < 10 and j >= 0\n",
    "            and j < 10 and not (i == x and j == y)]\n",
    "    \n",
    "    def fire(self, x, y):\n",
    "        '''\n",
    "        1 - missed\n",
    "        2 - wounded\n",
    "        3 - killed\n",
    "        4 - won\n",
    "        '''\n",
    "        if self.field[x][y] == '.':\n",
    "            return 1\n",
    "        elif self.field[x][y] == '#':\n",
    "            self.field[x][y] = 'x'\n",
    "            for (i,j) in self.neighborhood(x, y):\n",
    "                if self.field[i][j] == '#':\n",
    "                    return 2\n",
    "                \n",
    "            # no #'s among neighbors\n",
    "            self.num_ships -= 1\n",
    "            if self.num_ships == 0:\n",
    "                return 4\n",
    "            return 3\n",
    "        \n",
    "player_field = Field('../data/sea_battle_player_field.txt')\n",
    "\n",
    "\n",
    "print(player_field)\n",
    "# print(player_field.fire(1,1))\n",
    "# print(player_field)"
   ]
  }
 ],
 "metadata": {
  "kernelspec": {
   "display_name": "Python 2",
   "language": "python",
   "name": "python2"
  },
  "language_info": {
   "codemirror_mode": {
    "name": "ipython",
    "version": 2
   },
   "file_extension": ".py",
   "mimetype": "text/x-python",
   "name": "python",
   "nbconvert_exporter": "python",
   "pygments_lexer": "ipython2",
   "version": "2.7.10"
  },
  "name": "sea_battle.ipynb"
 },
 "nbformat": 4,
 "nbformat_minor": 0
}
