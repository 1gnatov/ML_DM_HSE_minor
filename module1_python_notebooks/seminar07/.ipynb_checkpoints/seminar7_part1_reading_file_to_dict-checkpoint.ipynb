{
 "cells": [
  {
   "cell_type": "markdown",
   "metadata": {},
   "source": [
    "<center>\n",
    "<img src=\"../img/python_theme.png\">\n",
    "# Майнор \"Интеллектуальный анализ данных\" \n",
    "# Курс \"Введение в программирование\"\n",
    "<img src=\"../img/faculty_logo.jpg\" height=\"240\" width=\"240\">\n",
    "## Автор материала: преподаватель ФКН НИУ ВШЭ Кашницкий Юрий\n",
    "</center>\n",
    "Материал распространяется на условиях лицензии <a href=\"http://creativecommons.org/licenses/by-sa/4.0/\">Creative Commons Attribution-Share Alike 4.0</a>. Можно использовать в любых целях, но с обязательным упоминанием автора курса и аффилиации."
   ]
  },
  {
   "cell_type": "markdown",
   "metadata": {},
   "source": [
    "# Семинар 7. Файлы. Примеры хорошего и плохого стилей программирования. Стандарты PEP-8 и PEP-257\n",
    "\n",
    "## Часть 1. Пример чтения данных из файла в словарь"
   ]
  },
  {
   "cell_type": "markdown",
   "metadata": {},
   "source": [
    "Предположим, есть файл с данными клиентов банка (пока не рассматриваем чтение из базы данных). В качестве простого примера воьзьмем txt-файл следующего содержания:\n",
    "___________________________________________\n",
    "lastname,age,debt,occupation\n",
    "\n",
    "Adrianov,25,30000,artist\n",
    "\n",
    "Belkin,42,4000,programmer\n",
    "\n",
    "Koltunov,32,100,sportsman \n",
    "___________________________________________"
   ]
  },
  {
   "cell_type": "code",
   "execution_count": 1,
   "metadata": {
    "collapsed": false
   },
   "outputs": [
    {
     "name": "stdout",
     "output_type": "stream",
     "text": [
      "lastname,age,debt,occupation\n",
      "\n",
      "['Adrianov', '25', '30000', 'artist']\n",
      "['Belkin', '42', '4000', 'programmer']\n",
      "['Koltunov', '32', '100', 'sportsman']\n",
      "['Loptev', '25', '30000', 'artist']\n",
      "['Bobrov', '42', '4000', 'programmer']\n",
      "['Karelin', '32', '100', 'sportsman']\n"
     ]
    }
   ],
   "source": [
    "credit_history_file = open('../data/credit_sample.txt', 'r')\n",
    "\n",
    "print(credit_history_file.readline())\n",
    "\n",
    "for line in credit_history_file:\n",
    "    line = line.strip().split(\",\")\n",
    "    print(line)"
   ]
  },
  {
   "cell_type": "code",
   "execution_count": 2,
   "metadata": {
    "collapsed": false
   },
   "outputs": [
    {
     "name": "stdout",
     "output_type": "stream",
     "text": [
      "lastname,age,debt,occupation\n",
      "\n",
      "{'Adrianov': (25, 30000, 'artist'), 'Belkin': (42, 4000, 'programmer'), 'Bobrov': (42, 4000, 'programmer'), 'Karelin': (32, 100, 'sportsman'), 'Koltunov': (32, 100, 'sportsman'), 'Loptev': (25, 30000, 'artist')}\n"
     ]
    }
   ],
   "source": [
    "credit_history_file = open('../data/credit_sample.txt', 'r')\n",
    "\n",
    "# let's for now just skip the heading\n",
    "first_line = credit_history_file.readline()\n",
    "print(first_line)\n",
    "\n",
    "credit_history_dict = {}\n",
    "\n",
    "for line in credit_history_file:\n",
    "    lastname, age, debt, occupation = line.strip().split(\",\")\n",
    "    credit_history_dict[lastname] = (int(age), \n",
    "                                     int(debt), \n",
    "                                     occupation) \n",
    "print(credit_history_dict)\n",
    "    \n",
    "credit_history_file.close()"
   ]
  },
  {
   "cell_type": "markdown",
   "metadata": {},
   "source": [
    "Теперь можем добавлять записи в словарь вручную"
   ]
  },
  {
   "cell_type": "code",
   "execution_count": 3,
   "metadata": {
    "collapsed": false
   },
   "outputs": [
    {
     "name": "stdout",
     "output_type": "stream",
     "text": [
      "Markin,34,500,journalist\n",
      "quit\n",
      "{'Markin': (34, 500, 'journalist'), 'Adrianov': (25, 30000, 'artist'), 'Belkin': (42, 4000, 'programmer'), 'Bobrov': (42, 4000, 'programmer'), 'Karelin': (32, 100, 'sportsman'), 'Koltunov': (32, 100, 'sportsman'), 'Loptev': (25, 30000, 'artist')}\n"
     ]
    }
   ],
   "source": [
    "# adding clients by hand\n",
    "# Markin,34,500,journalist\n",
    "line = ''\n",
    "while(line != 'quit'):\n",
    "    line = input().strip()\n",
    "    if line == 'quit':\n",
    "        break\n",
    "    else:   # line != 'quit' \n",
    "        lastname, age, debt, occupation = line.split(\",\") \n",
    "        credit_history_dict[lastname] = (int(age), \n",
    "                                     int(debt), \n",
    "                                     occupation)\n",
    "print(credit_history_dict)  \n",
    "\n"
   ]
  }
 ],
 "metadata": {
  "kernelspec": {
   "display_name": "Python 2",
   "language": "python",
   "name": "python2"
  },
  "language_info": {
   "codemirror_mode": {
    "name": "ipython",
    "version": 2
   },
   "file_extension": ".py",
   "mimetype": "text/x-python",
   "name": "python",
   "nbconvert_exporter": "python",
   "pygments_lexer": "ipython2",
   "version": "2.7.10"
  },
  "name": "from_file_to_dict.ipynb"
 },
 "nbformat": 4,
 "nbformat_minor": 0
}
