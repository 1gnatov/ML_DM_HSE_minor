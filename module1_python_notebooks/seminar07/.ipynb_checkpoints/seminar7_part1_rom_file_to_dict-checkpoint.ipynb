{
 "cells": [
  {
   "cell_type": "markdown",
   "metadata": {},
   "source": [
    "# Майнор \"Интеллектуальный анализ данных\" \n",
    "# Курс \"Введение в программирование\"\n",
    "<img src=\"../img/faculty_logo.jpg\" height=\"240\" width=\"240\">\n",
    "## Автор материала: преподаватель ФКН НИУ ВШЭ Кашницкий Юрий\n",
    "Материал распространяется на условиях лицензии <a href=\"http://creativecommons.org/licenses/by-sa/4.0/\">Creative Commons Attribution-Share Alike 4.0</a>. Можно использовать в любых целях, но с обязательным упоминанием автора курса и аффилиации."
   ]
  },
  {
   "cell_type": "markdown",
   "metadata": {},
   "source": [
    "# Семинар 7. Файлы. Примеры хорошего и плохого стилей программирования. Стандарты PEP-8 и PEP-257\n",
    "\n",
    "## Часть 1. Пример чтения данных из файла в словарь"
   ]
  },
  {
   "cell_type": "code",
   "execution_count": 2,
   "metadata": {
    "collapsed": false
   },
   "outputs": [
    {
     "name": "stdout",
     "output_type": "stream",
     "text": [
      "['lastname,age,debt,occupation']\n",
      "['Adrianov,25,30000,artist']\n",
      "['Belkin,42,4000,programmer']\n",
      "['Koltunov,32,100,sportsman']\n",
      "['Loptev,25,30000,artist']\n",
      "['Bobrov,42,4000,programmer']\n",
      "['Karelin,32,100,sportsman']\n"
     ]
    }
   ],
   "source": [
    "credit_history_file = open('credit_sample.txt', 'r')\n",
    "for line in credit_history_file:\n",
    "    line = line.strip().split(\", \")\n",
    "    print(line)"
   ]
  },
  {
   "cell_type": "code",
   "execution_count": 10,
   "metadata": {
    "collapsed": false
   },
   "outputs": [
    {
     "name": "stdout",
     "output_type": "stream",
     "text": [
      "{'Adrianov': (25, 30000, ' artist'), 'Koltunov': (32, 100, ' sportsman'), 'Belkin': (42, 4000, ' programmer')}\n",
      "'Markin,34,400,boxer'\n",
      "'quit'\n",
      "{'Markin': (34, 400, ' sportsman'), 'Adrianov': (25, 30000, ' artist'), 'Koltunov': (32, 100, ' sportsman'), 'Belkin': (42, 4000, ' programmer')}\n"
     ]
    }
   ],
   "source": [
    "credit_history_file = open('credit_sample.txt', 'r')\n",
    "\n",
    "credit_history_dict = {}\n",
    "\n",
    "for line in credit_history_file:\n",
    "    lastname, age, debt, occupation = line.strip().split(\",\")\n",
    "    credit_history_dict[lastname] = (int(age), \n",
    "                                     int(debt), \n",
    "                                     occupation) \n",
    "print(credit_history_dict)\n",
    "    \n",
    "# adding clients by hand\n",
    "# Markin,34,500,journalist\n",
    "line = ''\n",
    "while(line != 'quit'):\n",
    "    line = input().strip()\n",
    "    if line == 'quit':\n",
    "        break\n",
    "    else:   # line != 'quit' \n",
    "        lastname, age, debt, occupatio = line.split(\",\") \n",
    "        credit_history_dict[lastname] = (int(age), \n",
    "                                     int(debt), \n",
    "                                     occupation)\n",
    "print(credit_history_dict)  "
   ]
  },
  {
   "cell_type": "code",
   "execution_count": 10,
   "metadata": {
    "collapsed": false
   },
   "outputs": [
    {
     "name": "stdout",
     "output_type": "stream",
     "text": [
      "['cook', 'football', 'hook', 'larry', 'yaht', 'geo']\n",
      "['cook', 'football', 'geo', 'hook', 'larry', 'yaht']\n"
     ]
    }
   ],
   "source": [
    "a = ['football', 'larry', 'hook', 'yaht', 'cook']\n",
    "a.sort()\n",
    "a.append('geo')\n",
    "print(a)\n",
    "a.sort()\n",
    "print(a)"
   ]
  },
  {
   "cell_type": "code",
   "execution_count": null,
   "metadata": {
    "collapsed": true
   },
   "outputs": [],
   "source": []
  }
 ],
 "metadata": {
  "kernelspec": {
   "display_name": "Python 3",
   "language": "python",
   "name": "python3"
  },
  "language_info": {
   "codemirror_mode": {
    "name": "ipython",
    "version": 3
   },
   "file_extension": ".py",
   "mimetype": "text/x-python",
   "name": "python",
   "nbconvert_exporter": "python",
   "pygments_lexer": "ipython3",
   "version": "3.4.3"
  },
  "name": "from_file_to_dict.ipynb"
 },
 "nbformat": 4,
 "nbformat_minor": 0
}
