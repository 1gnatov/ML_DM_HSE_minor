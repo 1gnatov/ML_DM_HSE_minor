{
 "cells": [
  {
   "cell_type": "markdown",
   "metadata": {},
   "source": [
    "<center>\n",
    "<img src=\"../../img/python_theme.png\">\n",
    "# Майнор \"Интеллектуальный анализ данных\" \n",
    "# Курс \"Введение в программирование\"\n",
    "<img src=\"../../img/faculty_logo.jpg\" height=\"240\" width=\"240\">\n",
    "\n",
    "## Авторы материала: Юрий Кашницкий, Андрей Паринов, ФКН НИУ ВШЭ\n",
    "</center>\n",
    "Материал распространяется на условиях лицензии <a href=\"https://opensource.org/licenses/MS-RL\">Ms-RL</a>. Можно использовать в любых целях, кроме коммерческих, но с обязательным упоминанием автора материала."
   ]
  },
  {
   "cell_type": "markdown",
   "metadata": {},
   "source": [
    "# Семинар 7. Функции. Рекурсия\n",
    "## Часть 1. Функции"
   ]
  },
  {
   "cell_type": "markdown",
   "metadata": {},
   "source": [
    "## План\n",
    "\n",
    "Часть 1. Функции\n",
    "1. Объявление функции. Встроенные функции. Вызов функции. Передача аргументов.\n",
    "2. Глобальные и локальные переменные\n",
    "3. Функции и неизменяемые типы (int, string, tuple)\n",
    "4. Функции и изменяемые типы (list, dict, set)\n",
    "5. Именованные аргументы\n",
    "6. Обработка переменного числа аргументов\n",
    "7. Возврат данных из функции с помощью Return\n",
    "8. Лямбда-функции\n",
    "9. Генераторы\n",
    "\n",
    "Часть 2. Рекурсивные функции"
   ]
  },
  {
   "cell_type": "code",
   "execution_count": 16,
   "metadata": {
    "collapsed": true
   },
   "outputs": [],
   "source": [
    "from __future__ import print_function"
   ]
  },
  {
   "cell_type": "markdown",
   "metadata": {},
   "source": [
    "## 1. Объявление функции\n",
    "\n",
    "def <название_функции> ( <параметр1>,<параметр2>,...,<параметрN>):\n",
    "\n",
    "    <Оператор1>\n",
    "    <Оператор2>\n",
    "    ....\n",
    "    <ОператорN>\n",
    "    return [Выражение]"
   ]
  },
  {
   "cell_type": "code",
   "execution_count": 1,
   "metadata": {
    "collapsed": false
   },
   "outputs": [
    {
     "name": "stdout",
     "output_type": "stream",
     "text": [
      "('Hi dear', 'Andrew')\n",
      "('Hi dear', 'me')\n",
      "0\n"
     ]
    },
    {
     "data": {
      "text/plain": [
       "3"
      ]
     },
     "execution_count": 1,
     "metadata": {},
     "output_type": "execute_result"
    }
   ],
   "source": [
    "# Простейшая функция. Ничего не принимает в качестве аргументов и ничего не делает\n",
    "def do_nothing():\n",
    "    pass\n",
    "\n",
    "# вызов функции\n",
    "do_nothing()\n",
    "\n",
    "# Передача параметра\n",
    "def say_hi_to(name): \n",
    "    print(\"Hi dear\", name)\n",
    "    return 0\n",
    "\n",
    "name = \"Andrew\"\n",
    "var1 = \"String\"\n",
    "say_hi_to(name)\n",
    "var1 = say_hi_to(\"me\")\n",
    "print(var1)\n",
    "\n",
    "# Существует большое количество встроенных функций (bult in) \n",
    "# Больше функций на https://docs.python.org/3/library/functions.html )\n",
    "# Например функция определения длины списка\n",
    "ls = [1,2,3]\n",
    "len(ls)"
   ]
  },
  {
   "cell_type": "markdown",
   "metadata": {},
   "source": [
    "# 2. Локальные переменные"
   ]
  },
  {
   "cell_type": "code",
   "execution_count": 2,
   "metadata": {
    "collapsed": false
   },
   "outputs": [
    {
     "name": "stdout",
     "output_type": "stream",
     "text": [
      "Outside\n"
     ]
    }
   ],
   "source": [
    "# Функции имеют права на чтение к объявленным до функции переменным \n",
    "# и не имеют к объявленным после вызова функции\n",
    "def f(): \n",
    "    print(s)\n",
    "    #s = \"Inside\" #Однако не могут их менять\n",
    "    #print(s)  #Error\n",
    "    #print(k) #Error\n",
    "    \n",
    "s = \"Outside\"\n",
    "f()\n",
    "k = \"Outside\""
   ]
  },
  {
   "cell_type": "code",
   "execution_count": 3,
   "metadata": {
    "collapsed": false
   },
   "outputs": [
    {
     "name": "stdout",
     "output_type": "stream",
     "text": [
      "Outside\n",
      "Inside\n",
      "===========\n",
      "Outside\n"
     ]
    }
   ],
   "source": [
    "# При объявлении в функции переменной с тем же именем создается новая(внутренняя) переменная, \n",
    "# не связанная с внешней\n",
    "def f(): \n",
    "    print(k) # Так можно. Тут переменная К не объявляется\n",
    "    #print(s) #Тем не менее попытка обращения к переменной которая потом будет создана вызывает ошибку\n",
    "    s = \"Inside\" \n",
    "    print(s)\n",
    "    print(\"===========\")\n",
    "    \n",
    "k = \"Outside\"\n",
    "s = \"Outside\" \n",
    "f()\n",
    "print(s)"
   ]
  },
  {
   "cell_type": "code",
   "execution_count": 4,
   "metadata": {
    "collapsed": false
   },
   "outputs": [
    {
     "name": "stdout",
     "output_type": "stream",
     "text": [
      "Outside\n",
      "Inside\n",
      "=======================\n",
      "Inside\n"
     ]
    }
   ],
   "source": [
    "def f():\n",
    "    global s # Для изменения внешних переменных внутри функции их надо объявить глобальной.\n",
    "    print(s)\n",
    "    s = \"Inside\"\n",
    "    print(s)\n",
    "    print(\"=======================\")\n",
    "\n",
    "\n",
    "s = \"Outside\"\n",
    "f()\n",
    "print(s)"
   ]
  },
  {
   "cell_type": "markdown",
   "metadata": {},
   "source": [
    "## 3. Передача в функции неизменяемых типов (str, int, tuple)\n",
    "\n",
    "Передача происходит по значению, т.е внешняя переменная не зависит от внутренней (локальной) функции"
   ]
  },
  {
   "cell_type": "code",
   "execution_count": null,
   "metadata": {
    "collapsed": false
   },
   "outputs": [],
   "source": [
    "def func(arg, arg2):\n",
    "    print(arg)\n",
    "    print(arg2)\n",
    "    arg = \"Inside\"\n",
    "    arg2 = 4\n",
    "    print(arg)\n",
    "    print(arg2)\n",
    "    print(\"=========\")\n",
    "\n",
    "\n",
    "var1 = \"Outside\"\n",
    "var2 = 10\n",
    "func(var1,var2)\n",
    "print(var1) # значение переменной вне функции не изменилось\n",
    "print(var2)\n"
   ]
  },
  {
   "cell_type": "markdown",
   "metadata": {},
   "source": [
    "**Пример**. Хотим распечатать зарплаты по месяцам в порядке возрастания, но исходные данные не хотим менять"
   ]
  },
  {
   "cell_type": "code",
   "execution_count": null,
   "metadata": {
    "collapsed": true
   },
   "outputs": [],
   "source": [
    "salaries = (40000, 30000, 25000, 42000)\n",
    "\n",
    "def f(salaries):\n",
    "    for (i, salary) in enumerate(salaries):\n",
    "        print(\"{0} salary is {1}\".format(i+1, salary))\n",
    "\n",
    "f(salaries)"
   ]
  },
  {
   "cell_type": "markdown",
   "metadata": {},
   "source": [
    "## 4. Передача в функции изменяемых типов (list, dict, set)\n",
    "\n",
    "Передача параметров изменяемых типов происходит по ссылке, т.е изменения в функции влияют на внешние переменные"
   ]
  },
  {
   "cell_type": "code",
   "execution_count": null,
   "metadata": {
    "collapsed": false
   },
   "outputs": [],
   "source": [
    "def changeme(mylist,mydict):\n",
    "    mylist.append([1,2,3,4])\n",
    "    mydict[1]=\"ccc\"\n",
    "    print(\"List inside: \", mylist)\n",
    "    print(\"Dict inside: \", mydict)\n",
    "    print(\"====================\")\n",
    "\n",
    "l1 = [10,20,30]\n",
    "d1 = {1:\"a\",2:\"b\"}\n",
    "print(\"List outside: \", l1)\n",
    "print(\"Dict outside: \", d1)\n",
    "print(\"==================\")\n",
    "changeme(l1,d1);\n",
    "print(\"List outside: \", l1)\n",
    "print(\"Dict outside: \", d1)"
   ]
  },
  {
   "cell_type": "markdown",
   "metadata": {},
   "source": [
    "Пример функции, которая изменит переданный ей список:"
   ]
  },
  {
   "cell_type": "code",
   "execution_count": null,
   "metadata": {
    "collapsed": false
   },
   "outputs": [],
   "source": [
    "salaries = [40000, 30000, 25000, 42000]\n",
    "\n",
    "def f(salaries):\n",
    "    salaries.sort()\n",
    "    for (i, salary) in enumerate(salaries):\n",
    "        print(\"{0} salary is {1}\".format(i+1, salary))\n",
    "\n",
    "print(\"salaries before calling f: {0}\".format(salaries))\n",
    "f(salaries)\n",
    "print(\"salaries after calling f: {0}\".format(salaries))"
   ]
  },
  {
   "cell_type": "markdown",
   "metadata": {},
   "source": [
    "## 5. Именованные аргументы"
   ]
  },
  {
   "cell_type": "code",
   "execution_count": null,
   "metadata": {
    "collapsed": false
   },
   "outputs": [],
   "source": [
    "def describe_person(first_name, last_name, age):\n",
    "    print(\"First name: %s\" % first_name.title())\n",
    "    print(\"Last name: %s\" % last_name.title())\n",
    "    print(\"Age: %d\\n\" % age)\n",
    "\n",
    "describe_person(age=71, first_name='brian', last_name='kernighan')"
   ]
  },
  {
   "cell_type": "code",
   "execution_count": null,
   "metadata": {
    "collapsed": false
   },
   "outputs": [],
   "source": [
    "def parrot(voltage, state='a stiff', action='voom', type='Norwegian Blue'):\n",
    "    print(\"-- This parrot wouldn't\", action, end=' ')\n",
    "    print(\"if you put\", voltage, \"volts through it.\")\n",
    "    print(\"-- Lovely plumage, the\", type)\n",
    "    print(\"-- It's\", state, \"!\")\n",
    "    \n",
    "parrot(1000)                                          # 1 positional argument\n",
    "parrot(voltage=1000)                                  # 1 keyword argument\n",
    "parrot(voltage=1000000, action='VOOOOOM')             # 2 keyword arguments\n",
    "parrot(action='VOOOOOM', voltage=1000000)             # 2 keyword arguments\n",
    "parrot('a million', 'bereft of life', 'jump')         # 3 positional arguments\n",
    "parrot('a thousand', state='pushing up the daisies')  # 1 positional, 1 keyword"
   ]
  },
  {
   "cell_type": "markdown",
   "metadata": {},
   "source": [
    "## 6. Переменное число аргументов"
   ]
  },
  {
   "cell_type": "code",
   "execution_count": 5,
   "metadata": {
    "collapsed": false
   },
   "outputs": [
    {
     "name": "stdout",
     "output_type": "stream",
     "text": [
      "('-- Do you have any', 'Limburger', '?')\n",
      "(\"-- I'm sorry, we're all out of\", 'Limburger')\n",
      "It's very runny, sir.\n",
      "It's really very, VERY runny, sir.\n",
      "----------------------------------------\n",
      "('client', ':', 'John Cleese')\n",
      "('shopkeeper', ':', 'Michael Palin')\n",
      "('sketch', ':', 'Cheese Shop Sketch')\n"
     ]
    }
   ],
   "source": [
    "def cheeseshop(kind, *arguments, **keywords):\n",
    "    print(\"-- Do you have any\", kind, \"?\")\n",
    "    print(\"-- I'm sorry, we're all out of\", kind)\n",
    "    for arg in arguments:\n",
    "        print(arg)\n",
    "    print(\"-\" * 40)\n",
    "    keys = sorted(keywords.keys())\n",
    "    for kw in keys:\n",
    "        print(kw, \":\", keywords[kw])\n",
    "\n",
    "cheeseshop(\"Limburger\", \"It's very runny, sir.\",\n",
    "           \"It's really very, VERY runny, sir.\",\n",
    "           shopkeeper=\"Michael Palin\",\n",
    "           client=\"John Cleese\",\n",
    "           sketch=\"Cheese Shop Sketch\")"
   ]
  },
  {
   "cell_type": "markdown",
   "metadata": {},
   "source": [
    "Функция, печатающая переданные ей значения и соответствующие аргументы:"
   ]
  },
  {
   "cell_type": "code",
   "execution_count": 6,
   "metadata": {
    "collapsed": false
   },
   "outputs": [
    {
     "name": "stdout",
     "output_type": "stream",
     "text": [
      "{'person': 'Alex', 'city': 'Moscow', 'lastname': 'Kollins'}\n",
      "person is Alex\n",
      "\n",
      "    prints its args and values\n",
      "    \n"
     ]
    }
   ],
   "source": [
    "def simple_print(**kwargs):\n",
    "    \"\"\"\n",
    "    prints its args and values\n",
    "    \"\"\"\n",
    "    print(kwargs)\n",
    "    if 'person' in kwargs:\n",
    "        print(\"{0} is {1}\".format('person', \n",
    "                                  kwargs['person']))\n",
    "    elif 'lastname' in kwargs:\n",
    "        pass\n",
    "    if set(kwargs.keys()).difference(\n",
    "               set(['person', 'lastname'])):\n",
    "        print(simple_print.__doc__)\n",
    "    \n",
    "simple_print(person=\"Alex\", lastname=\"Kollins\",\n",
    "            city=\"Moscow\")"
   ]
  },
  {
   "cell_type": "markdown",
   "metadata": {},
   "source": [
    "Пример функции со множеством необязательных аргументов:"
   ]
  },
  {
   "cell_type": "code",
   "execution_count": null,
   "metadata": {
    "collapsed": false
   },
   "outputs": [],
   "source": [
    "%pylab inline\n",
    "from math import sin\n",
    "# from matplotlib import pylab as plt\n",
    "\n",
    "x = range(1000)\n",
    "y = [sin(i / 100) for i in x]\n",
    "# y = map(sin, x)\n",
    "\n",
    "plot(x, y, color=\"green\")\n",
    "# help(plot)"
   ]
  },
  {
   "cell_type": "markdown",
   "metadata": {},
   "source": [
    "\n",
    "## 7. Возврат данных из функции с помощью Return"
   ]
  },
  {
   "cell_type": "markdown",
   "metadata": {},
   "source": [
    "Функция может возвращать что угодно, в том числе и другую функцию"
   ]
  },
  {
   "cell_type": "code",
   "execution_count": null,
   "metadata": {
    "collapsed": false
   },
   "outputs": [],
   "source": [
    "def f1():\n",
    "    print(\"f1\")\n",
    "    def f2():\n",
    "        print(\"Hello!\")\n",
    "    return f2\n",
    "\n",
    "print(f1)\n",
    "print(f1())\n",
    "print(f1()())"
   ]
  },
  {
   "cell_type": "markdown",
   "metadata": {},
   "source": [
    "## 8. Лямбда функции"
   ]
  },
  {
   "cell_type": "code",
   "execution_count": null,
   "metadata": {
    "collapsed": false
   },
   "outputs": [],
   "source": [
    "def make_incrementor(n):\n",
    "    return lambda x: x + n\n",
    "\n",
    "f = make_incrementor(42)\n",
    "print(f)\n",
    "\n",
    "print(f(2))\n"
   ]
  },
  {
   "cell_type": "code",
   "execution_count": 9,
   "metadata": {
    "collapsed": true
   },
   "outputs": [],
   "source": [
    "a_list = range(100)"
   ]
  },
  {
   "cell_type": "code",
   "execution_count": 13,
   "metadata": {
    "collapsed": false
   },
   "outputs": [],
   "source": [
    "# def make_incrementor(x):\n",
    "#     return x + 3\n",
    "\n",
    "new_list = map(lambda any_argument: any_argument + 3, a_list)"
   ]
  },
  {
   "cell_type": "code",
   "execution_count": 14,
   "metadata": {
    "collapsed": false
   },
   "outputs": [
    {
     "data": {
      "text/plain": [
       "[3,\n",
       " 4,\n",
       " 5,\n",
       " 6,\n",
       " 7,\n",
       " 8,\n",
       " 9,\n",
       " 10,\n",
       " 11,\n",
       " 12,\n",
       " 13,\n",
       " 14,\n",
       " 15,\n",
       " 16,\n",
       " 17,\n",
       " 18,\n",
       " 19,\n",
       " 20,\n",
       " 21,\n",
       " 22,\n",
       " 23,\n",
       " 24,\n",
       " 25,\n",
       " 26,\n",
       " 27,\n",
       " 28,\n",
       " 29,\n",
       " 30,\n",
       " 31,\n",
       " 32,\n",
       " 33,\n",
       " 34,\n",
       " 35,\n",
       " 36,\n",
       " 37,\n",
       " 38,\n",
       " 39,\n",
       " 40,\n",
       " 41,\n",
       " 42,\n",
       " 43,\n",
       " 44,\n",
       " 45,\n",
       " 46,\n",
       " 47,\n",
       " 48,\n",
       " 49,\n",
       " 50,\n",
       " 51,\n",
       " 52,\n",
       " 53,\n",
       " 54,\n",
       " 55,\n",
       " 56,\n",
       " 57,\n",
       " 58,\n",
       " 59,\n",
       " 60,\n",
       " 61,\n",
       " 62,\n",
       " 63,\n",
       " 64,\n",
       " 65,\n",
       " 66,\n",
       " 67,\n",
       " 68,\n",
       " 69,\n",
       " 70,\n",
       " 71,\n",
       " 72,\n",
       " 73,\n",
       " 74,\n",
       " 75,\n",
       " 76,\n",
       " 77,\n",
       " 78,\n",
       " 79,\n",
       " 80,\n",
       " 81,\n",
       " 82,\n",
       " 83,\n",
       " 84,\n",
       " 85,\n",
       " 86,\n",
       " 87,\n",
       " 88,\n",
       " 89,\n",
       " 90,\n",
       " 91,\n",
       " 92,\n",
       " 93,\n",
       " 94,\n",
       " 95,\n",
       " 96,\n",
       " 97,\n",
       " 98,\n",
       " 99,\n",
       " 100,\n",
       " 101,\n",
       " 102]"
      ]
     },
     "execution_count": 14,
     "metadata": {},
     "output_type": "execute_result"
    }
   ],
   "source": [
    "new_list"
   ]
  },
  {
   "cell_type": "markdown",
   "metadata": {},
   "source": [
    "## 9. Генератор"
   ]
  },
  {
   "cell_type": "code",
   "execution_count": null,
   "metadata": {
    "collapsed": false
   },
   "outputs": [],
   "source": [
    "def firstn(n):\n",
    "    num, nums = 0, []\n",
    "    while num < n:\n",
    "        nums.append(num)\n",
    "        num += 1\n",
    "    return nums\n",
    "\n",
    "sum_of_first_n = sum(firstn(10))\n",
    "print(sum_of_first_n)"
   ]
  },
  {
   "cell_type": "markdown",
   "metadata": {},
   "source": [
    "С сокращенной нотацией списков мы уже сталкивались. Такую конструкцию также называют генератором списка."
   ]
  },
  {
   "cell_type": "code",
   "execution_count": null,
   "metadata": {
    "collapsed": false
   },
   "outputs": [],
   "source": [
    "doubles = [2 * n for n in range(50)]\n",
    "print(doubles)"
   ]
  },
  {
   "cell_type": "markdown",
   "metadata": {},
   "source": [
    "Но бывают и выражения-генераторы (синтаксис такой же, как для генератора списка, только скобки круглые). Это более эффективно, чем использование генератора списков."
   ]
  },
  {
   "cell_type": "code",
   "execution_count": null,
   "metadata": {
    "collapsed": true
   },
   "outputs": [],
   "source": []
  },
  {
   "cell_type": "code",
   "execution_count": 17,
   "metadata": {
    "collapsed": false
   },
   "outputs": [
    {
     "name": "stdout",
     "output_type": "stream",
     "text": [
      "<generator object <genexpr> at 0x104563f50>\n",
      "1, 4, 9, "
     ]
    }
   ],
   "source": [
    "numbers = (1,2,3,4,5)\n",
    "squares_under_10 = (number*number for number in numbers \n",
    "                    if number*number < 10)\n",
    "print(squares_under_10)\n",
    "for i in squares_under_10:\n",
    "    print(i, end=', ')"
   ]
  },
  {
   "cell_type": "code",
   "execution_count": 18,
   "metadata": {
    "collapsed": false
   },
   "outputs": [
    {
     "data": {
      "text/plain": [
       "{(0, 0),\n",
       " (1, 1),\n",
       " (2, 4),\n",
       " (3, 9),\n",
       " (4, 16),\n",
       " (5, 25),\n",
       " (6, 36),\n",
       " (7, 49),\n",
       " (8, 64),\n",
       " (9, 81)}"
      ]
     },
     "execution_count": 18,
     "metadata": {},
     "output_type": "execute_result"
    }
   ],
   "source": [
    "{(i , i ** 2) for i in range(10)}"
   ]
  },
  {
   "cell_type": "code",
   "execution_count": null,
   "metadata": {
    "collapsed": true
   },
   "outputs": [],
   "source": []
  }
 ],
 "metadata": {
  "anaconda-cloud": {},
  "kernelspec": {
   "display_name": "Python [default]",
   "language": "python",
   "name": "python2"
  },
  "language_info": {
   "codemirror_mode": {
    "name": "ipython",
    "version": 2
   },
   "file_extension": ".py",
   "mimetype": "text/x-python",
   "name": "python",
   "nbconvert_exporter": "python",
   "pygments_lexer": "ipython2",
   "version": "2.7.12"
  },
  "name": "4_Functions.ipynb"
 },
 "nbformat": 4,
 "nbformat_minor": 0
}
